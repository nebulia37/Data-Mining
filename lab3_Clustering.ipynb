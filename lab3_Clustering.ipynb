{
 "cells": [
  {
   "cell_type": "markdown",
   "metadata": {},
   "source": [
    "# CSE 5243 - Introduction to Data Mining\n",
    "## Homework 4: Clustering\n",
    "- Semester: Fall 2022\n",
    "- Instructor: Greg Ryslik\n",
    "- Section: Wednesday/Friday 12:45PM\n",
    "- Student Name: John Smith\n",
    "- Student.#: smith.3\n",
    "***"
   ]
  },
  {
   "cell_type": "markdown",
   "metadata": {},
   "source": [
    "**Instructions and Helpful Hints:**\n",
    "- Consider putting all of your \"discussion\" text in markdown cells, not inline with code. That gives you more control over formatting. Markdown cheat sheet: https://www.markdownguide.org/cheat-sheet\n",
    "- Explain what you are doing, and why.  Explain what you found out or learned.\n",
    "- *Make sure you run your entire workbook before handing it in, so the output cells are populated.*\n",
    "- Follow the Section structure as much as possible - put your content where it is requested, so we can find your answers.\n",
    "- If you have questions on expectations or need clarification or guidance, please ask.  Post to Teams if it is a general question, so everyone benefits.\n",
    "***"
   ]
  },
  {
   "cell_type": "markdown",
   "metadata": {},
   "source": [
    "# Introduction\n",
    "\n",
    "### Objectives:\n",
    "\n",
    "In this lab, you will perform clustering on three datasets.  Your will choose suitable clustering algorithms, evaluate them on the datasets, and compare their performance.\n",
    "\n",
    "The objectives of this assignment are:\n",
    "1.\tUnderstand how to select and evaluate suitable off-the-shelf clustering algorithms based on the characteristics of a dataset and the outcomes you need.\n",
    "2.\tUnderstand how to tune and evaluate a clustering algorithm to achieve good performance.\n",
    "\n",
    "### Datasets:\n",
    "\n",
    "- The file **small_Xydf.csv** is a two-dimensional dataset with 200 records.  It contains columns X0, X1, and y.  The y column is the actual cluster number that was produced by the dataset generation algorithm.  Do not use it for the clustering algorithm.  It will be used to evaluate your clustering algorithm below.\n",
    "\n",
    "- The file **large1_Xydf.csv** is a two-dimensional dataset with 3000 records.  It contains columns X0, X1, and y.  The y column is the actual cluster number that was produced by the dataset generation algorithm.  Do not use it for the clustering algorithm.  It will be used to evaluate your clustering algorithm below.\n",
    "\n",
    "- The file **large2_Xydf.csv** is another two-dimensional dataset with 3000 records, and characteristics different from the “large1” dataset.  It contains columns X0, X1, and y.  The y column is the actual cluster number that was produced by the dataset generation algorithm.  Do not use it for the clustering algorithm.  It will be used to evaluate your clustering algorithm below.\n",
    "\n",
    "### Approach:\n",
    "\n",
    "This homework makes use of the Clustering Algorithms offered by the SciKitLearn Library.  Study the information at https://scikit-learn.org/stable/modules/clustering.html.  Follow the guidance in the individual sections below.\n",
    "\n",
    "### Collaboration:\n",
    "\n",
    "For this assignment, you should work as an individual. You may informally discuss ideas with classmates, to get advice on general Python usage, etc., but your work should be your own.  Please make use of Microsoft Teams!\n",
    "\n",
    "### What you need to turn in:\n",
    "\n",
    "1.\tCode\n",
    "\n",
    "-\tFor this homework, the code is the Jupyter Notebook.  Use the provided Jupyter Notebook template, and fill in the appropriate information.\n",
    "-\tThis homework requires you to use clustering algorithms in the SciKitLearn library.  You also may use common Python libraries for I/O, data manipulation, data visualization, etc. (e.g., NumPy, Pandas, MatPlotLib,…).  You may not use library operations that perform, in effect, the entire “core” computations for this homework. (e.g., If you happen to find a single function on the web that does essentially *all* of a major portion of the homework, you may not use it.)  When in doubt, ask the grader or instructor.\n",
    "-\tThe code must be written by you, and any significant code snips you found on the Internet and used to understand how to do your coding for the core functionality must be attributed.  (You do not need to attribute basic functionality – matrix operations, IO, etc.)\n",
    "-\tThe code must be commented sufficiently to allow a reader to understand the algorithm without reading the actual Python, step by step.\n",
    "-\tWhen in doubt, ask the grader or instructor.\n",
    "\n",
    "2.\tWritten Report\n",
    "-\tFor this homework, the report is the Jupyter Notebook.  The report should be well-written.  Please proof-read and remove spelling and grammar errors and typos.\n",
    "-\tThe report should discuss your analysis and observations. Key points and findings must be written in a style suitable for consumption by non-experts.  Present charts and graphs to support your observations. If you performed any data processing, cleaning, etc., please discuss it within the report.\n",
    "\n",
    "### Grading:\n",
    "\n",
    "1.\tOverall readability and organization of your report (10%) - Is it well organized and does the presentation flow in a logical manner; are there many grammar and spelling mistakes; do the charts/graphs relate to the text, etc.\n",
    "2.\tEvaluation of the KNN Clustering Algorithm on the Small Dataset (15%) – Is your configuration sound?  Have you made an effort to tune the algorithm for good performance?  Are your analyses and evaluations sound, and supported by suitable statistics and/or visualizations?\n",
    "3.\tEvaluation of the KNN Clustering Algorithm on the Large1 Dataset (15%) – Is your configuration sound?  Have you made an effort to tune the algorithm for good performance?  Are your analyses and evaluations sound, and supported by suitable statistics and/or visualizations?\n",
    "4.\tEvaluation of the KNN Clustering Algorithm on the Large2 Dataset (15%) – Is your configuration sound?  Have you made an effort to tune the algorithm for good performance?  Are your analyses and evaluations sound, and supported by suitable statistics and/or visualizations?\n",
    "5.\tEvaluation of the Second Clustering Algorithm on the Large2 Dataset (15%) – Is your choice of algorithm and your configuration sound?  Have you made an effort to tune the algorithm for good performance?  Are your analyses and evaluations sound, and supported by suitable statistics and/or visualizations?\n",
    "6.\tEvaluation of the Third Clustering Algorithm on the Large2 Dataset (15%) – Is your choice of algorithm and your configuration sound?  Have you made an effort to tune the algorithm for good performance?  Are your analyses and evaluations sound, and supported by suitable statistics and/or visualizations?\n",
    "7.\tComparison of the Three Clustering Algorithms (10%) - Is the comparison sound?  Did you choose a specific clustering algorithm as best and explain why?\n",
    "8.\tConclusions (5%) – Did you document your overall insights? \n",
    "\n",
    "### How to turn in your work on Carmen:\n",
    "\n",
    "**Please follow these instructions exactly** - it helps the grading process.  If you have questions, please ask.  Submit to Carmen any code that you used to process and analyze this data. You do not need to include the input data.  All the related files (code and/or report) except for the data should be archived in a **zip file (with no folder trees inside)** and submitted via Carmen.  The submitted file should be less than 5MB.  Use this naming convention: **HomeworkN_Surname_DotNumber.zip**\n",
    "\n",
    "### References and Acknowledgements:\n",
    "\n",
    "1.\thttps://scikit-learn.org/stable/modules/classes.html#module-sklearn.cluster\n",
    "2.\thttps://scikit-learn.org/stable/modules/clustering.html\n",
    "3.\thttps://docs.python.org/3/library/time.html\n",
    "4.\thttps://docs.scipy.org/doc/scipy/reference/generated/scipy.optimize.linear_sum_assignment.html\n",
    "5.\thttps://gist.github.com/siolag161/dc6e42b64e1bde1f263b (using Hungarian Algorithm to match cluster labels - this is just an example)\n",
    "6.\thttps://scikit-learn.org/stable/modules/generated/sklearn.metrics.mean_squared_error.html (note that this is **mean** squared error)\n",
    "***"
   ]
  },
  {
   "cell_type": "markdown",
   "metadata": {},
   "source": [
    "***\n",
    "# Section: Overview\n",
    "- Insert a short description of the scope of this exercise, any supporting information, etc.\n",
    "***"
   ]
  },
  {
   "cell_type": "markdown",
   "metadata": {},
   "source": [
    "- This exercise is mainly for me to master the realization and parameter selection of a variety of clustering methods. At the same time, through this exercise, I need to master the evaluation method of clustering effect and visualization."
   ]
  },
  {
   "cell_type": "markdown",
   "metadata": {},
   "source": [
    "***\n",
    "# Section: Setup\n",
    "- Add any needed imports, helper functions, etc., here.\n",
    "***"
   ]
  },
  {
   "cell_type": "code",
   "execution_count": 1,
   "metadata": {},
   "outputs": [],
   "source": [
    "import numpy as np\n",
    "import pandas as pd\n",
    "import matplotlib.pyplot as plt\n",
    "import seaborn as sns\n",
    "from sklearn.preprocessing import StandardScaler\n",
    "from sklearn.cluster import KMeans"
   ]
  },
  {
   "cell_type": "markdown",
   "metadata": {
    "tags": []
   },
   "source": [
    "***\n",
    "# Section: 1 - Evaluate the **K-Means** Algorithm on the **Small** Dataset\n",
    "***"
   ]
  },
  {
   "cell_type": "markdown",
   "metadata": {},
   "source": [
    "***\n",
    "## Section: 1.1 - Calculate True Cluster Measures\n",
    "- Given that you know the true clusters (from column y in the original data), compute the true within-cluster WSS (also called “SSE” in the slides), the between-cluster BSS, and the Total SSE (WSS+BSS).\n",
    "***"
   ]
  },
  {
   "cell_type": "code",
   "execution_count": 2,
   "metadata": {},
   "outputs": [
    {
     "data": {
      "image/png": "[encoded data removed]",
      "text/plain": [
       "<Figure size 288x288 with 1 Axes>"
      ]
     },
     "metadata": {
      "needs_background": "light"
     },
     "output_type": "display_data"
    },
    {
     "data": {
      "text/plain": [
       "<Figure size 432x288 with 0 Axes>"
      ]
     },
     "metadata": {},
     "output_type": "display_data"
    }
   ],
   "source": [
    "def plot_cluster(title,X,y,size):\n",
    "    plt.figure(figsize=(size,size))\n",
    "    plt.title(title)\n",
    "    plt.xlabel(\"X0\")\n",
    "    plt.ylabel(\"X1\")\n",
    "    plt.scatter(X[:,0],X[:,1],s=30,c=y)\n",
    "    plt.show()\n",
    "    plt.clf()\n",
    "\n",
    "small_data = pd.read_csv(\"small_Xydf.csv\",header=0)\n",
    "small_data = small_data.iloc[:,1:]\n",
    "X = small_data[['X0','X1']].to_numpy()\n",
    "y = small_data['y'].to_numpy()\n",
    "true_y = small_data['y']\n",
    "plot_cluster(\"True clusters\",X,y,4)"
   ]
  },
  {
   "cell_type": "code",
   "execution_count": 3,
   "metadata": {},
   "outputs": [
    {
     "data": {
      "text/html": [
       "<div>\n",
       "<style scoped>\n",
       "    .dataframe tbody tr th:only-of-type {\n",
       "        vertical-align: middle;\n",
       "    }\n",
       "\n",
       "    .dataframe tbody tr th {\n",
       "        vertical-align: top;\n",
       "    }\n",
       "\n",
       "    .dataframe thead th {\n",
       "        text-align: right;\n",
       "    }\n",
       "</style>\n",
       "<table border=\"1\" class=\"dataframe\">\n",
       "  <thead>\n",
       "    <tr style=\"text-align: right;\">\n",
       "      <th></th>\n",
       "      <th>X0</th>\n",
       "      <th>X1</th>\n",
       "      <th>y</th>\n",
       "    </tr>\n",
       "  </thead>\n",
       "  <tbody>\n",
       "    <tr>\n",
       "      <th>0</th>\n",
       "      <td>-8.725226</td>\n",
       "      <td>-9.914383</td>\n",
       "      <td>2</td>\n",
       "    </tr>\n",
       "    <tr>\n",
       "      <th>1</th>\n",
       "      <td>-12.362349</td>\n",
       "      <td>-5.284858</td>\n",
       "      <td>1</td>\n",
       "    </tr>\n",
       "    <tr>\n",
       "      <th>2</th>\n",
       "      <td>-8.179872</td>\n",
       "      <td>-6.274891</td>\n",
       "      <td>2</td>\n",
       "    </tr>\n",
       "    <tr>\n",
       "      <th>3</th>\n",
       "      <td>-9.532723</td>\n",
       "      <td>-2.588246</td>\n",
       "      <td>1</td>\n",
       "    </tr>\n",
       "    <tr>\n",
       "      <th>4</th>\n",
       "      <td>-3.395447</td>\n",
       "      <td>-7.024462</td>\n",
       "      <td>2</td>\n",
       "    </tr>\n",
       "    <tr>\n",
       "      <th>...</th>\n",
       "      <td>...</td>\n",
       "      <td>...</td>\n",
       "      <td>...</td>\n",
       "    </tr>\n",
       "    <tr>\n",
       "      <th>195</th>\n",
       "      <td>-9.729616</td>\n",
       "      <td>-1.549239</td>\n",
       "      <td>1</td>\n",
       "    </tr>\n",
       "    <tr>\n",
       "      <th>196</th>\n",
       "      <td>-0.633700</td>\n",
       "      <td>3.810304</td>\n",
       "      <td>0</td>\n",
       "    </tr>\n",
       "    <tr>\n",
       "      <th>197</th>\n",
       "      <td>-3.002052</td>\n",
       "      <td>4.381161</td>\n",
       "      <td>0</td>\n",
       "    </tr>\n",
       "    <tr>\n",
       "      <th>198</th>\n",
       "      <td>-9.138660</td>\n",
       "      <td>-5.167345</td>\n",
       "      <td>1</td>\n",
       "    </tr>\n",
       "    <tr>\n",
       "      <th>199</th>\n",
       "      <td>0.143622</td>\n",
       "      <td>5.411479</td>\n",
       "      <td>0</td>\n",
       "    </tr>\n",
       "  </tbody>\n",
       "</table>\n",
       "<p>200 rows × 3 columns</p>\n",
       "</div>"
      ],
      "text/plain": [
       "            X0        X1  y\n",
       "0    -8.725226 -9.914383  2\n",
       "1   -12.362349 -5.284858  1\n",
       "2    -8.179872 -6.274891  2\n",
       "3    -9.532723 -2.588246  1\n",
       "4    -3.395447 -7.024462  2\n",
       "..         ...       ... ..\n",
       "195  -9.729616 -1.549239  1\n",
       "196  -0.633700  3.810304  0\n",
       "197  -3.002052  4.381161  0\n",
       "198  -9.138660 -5.167345  1\n",
       "199   0.143622  5.411479  0\n",
       "\n",
       "[200 rows x 3 columns]"
      ]
     },
     "execution_count": 3,
     "metadata": {},
     "output_type": "execute_result"
    }
   ],
   "source": [
    "small_data"
   ]
  },
  {
   "cell_type": "markdown",
   "metadata": {},
   "source": [
    "### Define WSS and calculate True WSS"
   ]
  },
  {
   "cell_type": "code",
   "execution_count": 4,
   "metadata": {},
   "outputs": [
    {
     "data": {
      "text/plain": [
       "1506.532187125321"
      ]
     },
     "execution_count": 4,
     "metadata": {},
     "output_type": "execute_result"
    }
   ],
   "source": [
    "def wss(data_df):\n",
    "    # get the centroid X0 and X1 of 3 clusters\n",
    "    centroid = data_df.groupby('y').agg('mean')\n",
    "    def cal_wss_each(x):\n",
    "        return(pow(x['X0']-centroid.loc[x['y'],'X0'],2)+pow(x['X1']-centroid.loc[x['y'],'X1'],2))\n",
    "    wss_each = data_df.apply(lambda row : cal_wss_each(row), axis = 1)\n",
    "    return wss_each.sum()\n",
    "True_WSS = wss(small_data)  \n",
    "True_WSS"
   ]
  },
  {
   "cell_type": "code",
   "execution_count": 5,
   "metadata": {},
   "outputs": [
    {
     "ename": "NameError",
     "evalue": "name 'centroid' is not defined",
     "output_type": "error",
     "traceback": [
      "\u001b[0;31m---------------------------------------------------------------------------\u001b[0m",
      "\u001b[0;31mNameError\u001b[0m                                 Traceback (most recent call last)",
      "\u001b[0;32m<ipython-input-5-c88140330d64>\u001b[0m in \u001b[0;36m<module>\u001b[0;34m\u001b[0m\n\u001b[0;32m----> 1\u001b[0;31m \u001b[0mcentroid\u001b[0m\u001b[0;34m\u001b[0m\u001b[0;34m\u001b[0m\u001b[0m\n\u001b[0m",
      "\u001b[0;31mNameError\u001b[0m: name 'centroid' is not defined"
     ]
    }
   ],
   "source": [
    "centroid"
   ]
  },
  {
   "cell_type": "markdown",
   "metadata": {},
   "source": [
    "### Define BSS and calculate True BSS"
   ]
  },
  {
   "cell_type": "code",
   "execution_count": null,
   "metadata": {},
   "outputs": [],
   "source": [
    "def bss(data_df):\n",
    "    # get the centroid X0 and X1 of 3 clusters\n",
    "    centroid = data_df.groupby('y').agg('mean')\n",
    "    centroid['y'] = centroid.index\n",
    "    # get the mean of all X0 and X1\n",
    "    all_mean = data_df.mean()\n",
    "    cluster_size = data_df.y.value_counts()\n",
    "    def cal_bss_each(x):\n",
    "        return(cluster_size[x['y']]*pow(x['X0']-all_mean['X0'],2)+cluster_size[x['y']]*pow(x['X1']-all_mean['X1'],2))\n",
    "    bss_each = centroid.apply(lambda row : cal_bss_each(row), axis = 1)\n",
    "    return bss_each.sum()\n",
    "True_BSS = bss(small_data)\n",
    "True_BSS"
   ]
  },
  {
   "cell_type": "markdown",
   "metadata": {},
   "source": [
    "### Total SSE (WSS+BSS)"
   ]
  },
  {
   "cell_type": "code",
   "execution_count": null,
   "metadata": {},
   "outputs": [],
   "source": [
    "def total_sse(WSS,BSS):\n",
    "    return WSS+BSS\n",
    "True_total_SSE = total_sse(True_WSS, True_BSS)\n",
    "True_total_SSE"
   ]
  },
  {
   "cell_type": "markdown",
   "metadata": {},
   "source": [
    "***\n",
    "## Section: 1.2 - Configure and Run the SciKitLearn K-Means Algorithm\n",
    "- Explain all configuration parameter values you chose, and why you chose them.\n",
    "- Run your algorithm for K=2, 3, 4.\n",
    "- For each run, compute the WSS, BSS, and Total SSE (WSS+BSS), and compute the running time (see Python Time reference – see %%time, time.process_time(), etc.).\n",
    "***"
   ]
  },
  {
   "cell_type": "code",
   "execution_count": null,
   "metadata": {},
   "outputs": [],
   "source": [
    "from time import process_time\n",
    "\n",
    "range_clusters_k = [2,3,4]\n",
    "Pred_WSS = []\n",
    "Pred_BSS = []\n",
    "Pred_SSE = []\n",
    "Running_time = []\n",
    "\n",
    "for k in range_clusters_k:\n",
    "    start = process_time()\n",
    "    kmeans = KMeans(n_clusters=k, random_state=42)\n",
    "    pred_y = kmeans.fit_predict(X)\n",
    "    end=process_time()\n",
    "    # first convert X to (200,2) then vstack with pred_y, we get (200,3), then transform it to (3,200)\n",
    "    data_array = np.vstack([X.T,pred_y]).T\n",
    "    data_df = pd.DataFrame(data_array, columns = ['X0','X1','y'])\n",
    "    end=process_time() \n",
    "    #calculate WSS\n",
    "    pred_wss=wss(data_df)\n",
    "    Pred_WSS.append(pred_wss)\n",
    "    #calculate BSS\n",
    "    pred_bss=bss(data_df)\n",
    "    Pred_BSS.append(pred_bss)\n",
    "    #calculate SSE\n",
    "    pred_sse=total_sse(pred_wss,pred_bss)\n",
    "    Pred_SSE.append(pred_sse)\n",
    "    #calculate running time\n",
    "    pred_time=end-start\n",
    "    Running_time.append(pred_time)\n",
    "    #print WSS,BSS,SSE,Time\n",
    "    print(\"K= \",k,\" WSS= \",pred_wss,\" BSS= \",pred_bss,\" SSE= \",pred_sse,\" Time= \",pred_time)\n",
    "\n",
    "# visuliazation\n",
    "fig = plt.figure(figsize=(14,10))\n",
    "fig.add_subplot(221)\n",
    "plt.plot(range_clusters_k, Pred_WSS, 'p-',label='WSS')\n",
    "plt.xlabel('Num of clusters')\n",
    "plt.ylabel('WSS')\n",
    "plt.legend()\n",
    "fig.add_subplot(222)\n",
    "plt.plot(range_clusters_k, Pred_BSS, 'p-',label='BSS')\n",
    "plt.xlabel('Num of clusters')\n",
    "plt.ylabel('BSS')\n",
    "plt.legend()\n",
    "fig.add_subplot(223)\n",
    "plt.plot(range_clusters_k, Pred_SSE, 'p-',label='BSS')\n",
    "plt.xlabel('Num of clusters')\n",
    "plt.ylabel('SSE')\n",
    "plt.legend()\n",
    "fig.add_subplot(224)\n",
    "plt.plot(range_clusters_k, Running_time,'p-',label='Time')\n",
    "plt.xlabel(\"Number of cluster\")\n",
    "plt.ylabel(\"Time\")\n",
    "plt.title(\"Time\")\n",
    "plt.legend()\n",
    "plt.show()"
   ]
  },
  {
   "cell_type": "markdown",
   "metadata": {},
   "source": [
    "***\n",
    "## Section: 1.3 - For the K=3 Case Above:\n",
    "- Create a scatterplot, overlaying the true cluster with the cluster produced by your algorithm.  (Or alternatively, create two side by side scatterplots).\n",
    "- Create a cross tabulation matrix (i.e., confusion matrix) comparing the true and assigned clusters, and the basic measures (precision, recall, F1, accuracy, etc. - see classification_report).  Note that you may need to \"match up\" the true and assigned cluster labels.  See the linear-sum-assignment and Hungarian algorithm references, for example.\n",
    "***"
   ]
  },
  {
   "cell_type": "code",
   "execution_count": null,
   "metadata": {},
   "outputs": [],
   "source": [
    "pred_y = KMeans(n_clusters=3, random_state=0).fit_predict(X)\n",
    "plot_cluster(\"True clusters\",X,y,4)\n",
    "plot_cluster(\"Predicted clusters\",X,pred_y,4)"
   ]
  },
  {
   "cell_type": "code",
   "execution_count": null,
   "metadata": {},
   "outputs": [],
   "source": [
    "from sklearn.metrics import confusion_matrix\n",
    "from munkres import Munkres\n",
    "\n",
    "def make_cost_matrix(c1, c2):\n",
    "    \"\"\"\n",
    "    \"\"\"\n",
    "    uc1 = np.unique(c1)\n",
    "    uc2 = np.unique(c2)\n",
    "    l1 = uc1.size\n",
    "    l2 = uc2.size\n",
    "    #assert(l1 == l2 and np.all(uc1 == uc2))\n",
    "\n",
    "    m = np.ones([l1, l2])\n",
    "    for i in range(l1):\n",
    "        it_i = np.nonzero(c1[i] == uc1[i])[0]\n",
    "        for j in range(l2):\n",
    "            it_j = np.nonzero(c2[j] == uc2[j])[0]\n",
    "            m_ij = np.intersect1d(it_j, it_i)\n",
    "            m[i,j] =  -m_ij.size\n",
    "    return m\n",
    "\n",
    "def translate_clustering(clt, mapper):\n",
    "    return np.array([ mapper[i] for i in clt ])\n",
    "\n",
    "def accuracy(cm):\n",
    "    \"\"\"computes accuracy from confusion matrix\"\"\"\n",
    "    return np.trace(cm, dtype=float) / np.sum(cm)\n",
    "\n",
    "def calculate_cost_matrix(C, n_clusters):\n",
    "    cost_matrix = np.zeros((n_clusters, n_clusters))\n",
    "\n",
    "    # cost_matrix[i,j] will be the cost of assigning cluster i to label j\n",
    "    for j in range(n_clusters):\n",
    "        s = np.sum(C[:,j]) # number of examples in cluster i\n",
    "        for i in range(n_clusters):\n",
    "            t = C[i,j]\n",
    "            cost_matrix[j,i] = s-t\n",
    "    return cost_matrix\n",
    "\n",
    "def tabulation_matrix(y_true,y_pred):\n",
    "    \"\"\"entry point\"\"\"\n",
    "    \n",
    "    num_labels = len(np.unique(y_true))\n",
    "    n_clusters = len(np.unique(y_pred))\n",
    "    \n",
    "    cm = confusion_matrix(y_true, y_pred, labels=range(num_labels)) # gets the confusion matrix\n",
    "    print (\"---------------------\\nold confusion matrix:\\n\" \\\n",
    "          \" %s\\naccuracy: %.2f\" % (str(cm), accuracy(cm)))\n",
    "\n",
    "    #cost_matrix = make_cost_matrix(y_pred, y_true)\n",
    "    cost_matrix = calculate_cost_matrix(cm, num_labels)\n",
    "    print('cost matrix:\\n',cost_matrix)\n",
    "\n",
    "    m = Munkres()\n",
    "    indexes = m.compute(cost_matrix)\n",
    "    print('index:',indexes)\n",
    "    mapper = { old: new for (old, new) in indexes }\n",
    "\n",
    "    print (\"---------------------\\nmapping:\")\n",
    "    for old, new in mapper.items():\n",
    "        print (\"map: %s --> %s\" %(old, new))\n",
    "\n",
    "    new_labels = translate_clustering(y_pred, mapper)\n",
    "   \n",
    "    \n",
    "    new_cm = confusion_matrix(y_true, new_labels, labels=range(num_labels))\n",
    "    print (\"---------------------\\nnew confusion matrix:\\n\" \\\n",
    "          \" %s\\naccuracy: %.2f\" % (str(new_cm), accuracy(new_cm)))\n",
    "    \n",
    "tabulation_matrix(y,pred_y)"
   ]
  },
  {
   "cell_type": "markdown",
   "metadata": {},
   "source": [
    "### Comparing the true and assigned clusters, and the basic measures (precision, recall, F1, accuracy, etc. )"
   ]
  },
  {
   "cell_type": "code",
   "execution_count": null,
   "metadata": {},
   "outputs": [],
   "source": [
    "from sklearn.metrics import classification_report\n",
    "classification_report(y, pred_y, labels=None, target_names=None, sample_weight=None, digits=2)"
   ]
  },
  {
   "cell_type": "markdown",
   "metadata": {},
   "source": [
    "***\n",
    "## Section: 1.4 - Record Your Observations\n",
    "- What do you observe or conclude from these experiments?\n",
    "- Which is your “preferred” clustering (K value in particular), and why?\n",
    "- Support this with statistics and/or graphs.\n",
    "***"
   ]
  },
  {
   "cell_type": "markdown",
   "metadata": {},
   "source": [
    "### observation\n",
    "- Total SSE is a contant.\n",
    "- The larger the K, the longer the program will run.\n",
    "- The larger K is, the smaller WSS is.\n",
    "\n",
    "### K=3 is best\n",
    "- When K is at 3, WSS produces an inflection point."
   ]
  },
  {
   "cell_type": "code",
   "execution_count": null,
   "metadata": {},
   "outputs": [],
   "source": [
    "range_n_clusters = [2, 3, 4, 5, 6, 7, 8, 9, 10]\n",
    "# record WSS for every value of K\n",
    "Pred_WSS = []\n",
    "\n",
    "for n_clusters in range_n_clusters:\n",
    "    kmeans = KMeans(n_clusters=n_clusters, random_state=0)\n",
    "    pred_y = kmeans.fit_predict(X)\n",
    "    end=process_time()\n",
    "    # first convert X to (200,2) then vstack with pred_y, we get (200,3), then transform it to (3,200)\n",
    "    data_array = np.vstack([X.T,pred_y]).T\n",
    "    data_df = pd.DataFrame(data_array, columns = ['X0','X1','y'])\n",
    "    pred_wss=wss(data_df)\n",
    "    Pred_WSS.append(pred_wss)\n",
    "    \n",
    "fig = plt.figure()\n",
    "plt.plot(range_n_clusters, Pred_WSS,'p-',label='WSS')\n",
    "plt.xlabel(\"Number of cluster\")\n",
    "plt.ylabel(\"WSS\")\n",
    "plt.title(\"WSS\")\n",
    "plt.legend()\n",
    "plt.show()"
   ]
  },
  {
   "cell_type": "markdown",
   "metadata": {
    "tags": []
   },
   "source": [
    "***\n",
    "# Section: 2 - Evaluate the **K-Means** Algorithm on the **Large1** Dataset\n",
    "***"
   ]
  },
  {
   "cell_type": "markdown",
   "metadata": {},
   "source": [
    "***\n",
    "## Section: 2.1 - Calculate True Cluster Measures\n",
    "- Given that you know the true clusters (from column y in the original data), compute the true within-cluster WSS (also called “SSE” in the slides), the between-cluster BSS, and the Total SSE (WSS+BSS).\n",
    "***"
   ]
  },
  {
   "cell_type": "code",
   "execution_count": null,
   "metadata": {},
   "outputs": [],
   "source": [
    "L1_data = pd.read_csv('large1_Xydf.csv')\n",
    "L1_data = L1_data.iloc[:,1:]\n",
    "true_y=L1_data['y']\n",
    "X = L1_data[['X0','X1']].to_numpy()\n",
    "y = L1_data['y'].to_numpy()\n",
    "plot_cluster(\"True Clusters\", X, y, 4)\n",
    "L1_data"
   ]
  },
  {
   "cell_type": "markdown",
   "metadata": {},
   "source": [
    "### calculate True WSS"
   ]
  },
  {
   "cell_type": "code",
   "execution_count": null,
   "metadata": {},
   "outputs": [],
   "source": [
    "True_WSS=wss(L1_data)\n",
    "True_WSS"
   ]
  },
  {
   "cell_type": "markdown",
   "metadata": {},
   "source": [
    "### Calculate True BSS"
   ]
  },
  {
   "cell_type": "code",
   "execution_count": null,
   "metadata": {},
   "outputs": [],
   "source": [
    "True_BSS=bss(L1_data)\n",
    "True_BSS"
   ]
  },
  {
   "cell_type": "markdown",
   "metadata": {},
   "source": [
    "### Calculate True Total SSE"
   ]
  },
  {
   "cell_type": "code",
   "execution_count": null,
   "metadata": {},
   "outputs": [],
   "source": [
    "True_SSE = total_sse(True_WSS, True_BSS)\n",
    "True_SSE"
   ]
  },
  {
   "cell_type": "markdown",
   "metadata": {},
   "source": [
    "***\n",
    "## Section: 2.2 - Configure and Run the SciKitLearn K-Means Algorithm\n",
    "- Explain all configuration parameter values you chose, and why you chose them.\n",
    "- Run your algorithm for K=6, 8, 10.\n",
    "- For each run, compute the WSS, BSS, and Total SSE (WSS+BSS), and compute the running time (see Python Time reference – see %%time, time.process_time(), etc.).\n",
    "***"
   ]
  },
  {
   "cell_type": "code",
   "execution_count": null,
   "metadata": {},
   "outputs": [],
   "source": [
    "range_clusters_k = [6,8,10]\n",
    "Pred_WSS = []\n",
    "Pred_BSS = []\n",
    "Pred_SSE = []\n",
    "Running_time = []\n",
    "\n",
    "for k in range_clusters_k:\n",
    "    start = process_time()\n",
    "    kmeans = KMeans(n_clusters=k, random_state=42)\n",
    "    pred_y = kmeans.fit_predict(X)\n",
    "    end=process_time() \n",
    "    # first convert X to (200,2) then vstack with pred_y, we get (200,3), then transform it to (3,200)\n",
    "    data_array = np.vstack([X.T,pred_y]).T\n",
    "    data_df = pd.DataFrame(data_array, columns = ['X0','X1','y'])\n",
    "    #calculate WSS\n",
    "    pred_wss=wss(data_df)\n",
    "    Pred_WSS.append(pred_wss)\n",
    "    #calculate BSS\n",
    "    pred_bss=bss(data_df)\n",
    "    Pred_BSS.append(pred_bss)\n",
    "    #calculate SSE\n",
    "    pred_sse=total_sse(pred_wss,pred_bss)\n",
    "    Pred_SSE.append(pred_sse)\n",
    "    #calculate running time\n",
    "    pred_time=end-start\n",
    "    Running_time.append(pred_time)\n",
    "    #print WSS,BSS,SSE,Time\n",
    "    print(\"K= \",k,\" WSS= \",pred_wss,\" BSS= \",pred_bss,\" SSE= \",pred_sse,\" Time= \",pred_time)\n",
    "\n",
    "# visuliazation\n",
    "fig = plt.figure(figsize=(14,10))\n",
    "fig.add_subplot(221)\n",
    "plt.plot(range_clusters_k, Pred_WSS, 'p-',label='WSS')\n",
    "plt.xlabel('Num of clusters')\n",
    "plt.ylabel('WSS')\n",
    "plt.legend()\n",
    "fig.add_subplot(222)\n",
    "plt.plot(range_clusters_k, Pred_BSS, 'p-',label='BSS')\n",
    "plt.xlabel('Num of clusters')\n",
    "plt.ylabel('BSS')\n",
    "plt.legend()\n",
    "fig.add_subplot(223)\n",
    "plt.plot(range_clusters_k, Pred_SSE, 'p-',label='BSS')\n",
    "plt.xlabel('Num of clusters')\n",
    "plt.ylabel('SSE')\n",
    "plt.legend()\n",
    "fig.add_subplot(224)\n",
    "plt.plot(range_clusters_k, Running_time,'p-',label='Time')\n",
    "plt.xlabel(\"Number of cluster\")\n",
    "plt.ylabel(\"Time\")\n",
    "plt.title(\"Time\")\n",
    "plt.legend()\n",
    "plt.show()"
   ]
  },
  {
   "cell_type": "markdown",
   "metadata": {},
   "source": [
    "***\n",
    "## Section: 2.3 - For the K=8 Case Above:\n",
    "- Create a scatterplot, overlaying the true cluster with the cluster produced by your algorithm.  (Or alternatively, create two side by side scatterplots).\n",
    "- Create a cross tabulation matrix (i.e., confusion matrix) comparing the true and assigned clusters, and the basic measures (precision, recall, F1, accuracy, etc. - see classification_report).  Note that you may need to \"match up\" the true and assigned cluster labels.  See the linear-sum-assignment and Hungarian algorithm references, for example.\n",
    "***"
   ]
  },
  {
   "cell_type": "code",
   "execution_count": null,
   "metadata": {},
   "outputs": [],
   "source": [
    "pred_y = KMeans(n_clusters=3, random_state=0).fit_predict(X)\n",
    "plot_cluster(\"True clusters\",X,y,4)\n",
    "plot_cluster(\"Predicted clusters\",X,pred_y,4)"
   ]
  },
  {
   "cell_type": "markdown",
   "metadata": {},
   "source": [
    "### Create a cross tabulation matrix comparing the true and assigned clusters"
   ]
  },
  {
   "cell_type": "code",
   "execution_count": null,
   "metadata": {},
   "outputs": [],
   "source": [
    "tabulation_matrix(y,pred_y)"
   ]
  },
  {
   "cell_type": "markdown",
   "metadata": {},
   "source": [
    "### Comparing the true and assigned clusters, and the basic measures (precision, recall, F1, accuracy, etc. )"
   ]
  },
  {
   "cell_type": "code",
   "execution_count": null,
   "metadata": {},
   "outputs": [],
   "source": [
    "classification_report(y, pred_y, labels=None, target_names=None, sample_weight=None, digits=2)"
   ]
  },
  {
   "cell_type": "markdown",
   "metadata": {},
   "source": [
    "***\n",
    "## Section: 2.4 - Record Your Observations\n",
    "- What do you observe or conclude from these experiments?\n",
    "- Which is your “preferred” clustering (K value in particular), and why?\n",
    "- Support this with statistics and/or graphs.\n",
    "***"
   ]
  },
  {
   "cell_type": "markdown",
   "metadata": {
    "tags": []
   },
   "source": [
    "### Observation:\n",
    "\n",
    "- Total SSE is a contant.\n",
    "- The larger the K, the longer the program will run.\n",
    "- The larger K is, the smaller WSS is.\n",
    "\n",
    "### K=7 is best\n",
    "\n",
    "- When K is at 7, WSS produces an inflection point."
   ]
  },
  {
   "cell_type": "code",
   "execution_count": null,
   "metadata": {},
   "outputs": [],
   "source": [
    "range_n_clusters = [2, 3, 4, 5, 6, 7, 8, 9, 10, 11, 12, 13, 14]\n",
    "# record WSS for every value of K\n",
    "Pred_WSS = []\n",
    "\n",
    "for n_clusters in range_n_clusters:\n",
    "    #iterating through cluster sizes\n",
    "    clusterer = KMeans(n_clusters = n_clusters, random_state=42)\n",
    "    pred_y = clusterer.fit_predict(X)\n",
    "    data_array = np.vstack([X.T,pred_y]).T\n",
    "    data_df = pd.DataFrame(data_array, columns = ['X0','X1','y']) \n",
    "    #calculate WSS\n",
    "    pred_wss=wss(data_df)\n",
    "    Pred_WSS.append(pred_wss)\n",
    "fig = plt.figure()\n",
    "plt.plot(range_n_clusters, Pred_WSS,'p-',label='WSS')\n",
    "plt.xlabel(\"Number of cluster\")\n",
    "plt.ylabel(\"WSS\")\n",
    "plt.title(\"WSS\")\n",
    "plt.legend()\n",
    "plt.show()"
   ]
  },
  {
   "cell_type": "markdown",
   "metadata": {
    "tags": []
   },
   "source": [
    "***\n",
    "# Section: 3 - Evaluate the **K-Means** Algorithm on the **Large2** Dataset\n",
    "***"
   ]
  },
  {
   "cell_type": "markdown",
   "metadata": {},
   "source": [
    "***\n",
    "## Section: 3.1 - Calculate True Cluster Measures\n",
    "- Given that you know the true clusters (from column y in the original data), compute the true within-cluster WSS (also called “SSE” in the slides), the between-cluster BSS, and the Total SSE (WSS+BSS).\n",
    "***"
   ]
  },
  {
   "cell_type": "markdown",
   "metadata": {},
   "source": [
    "### calculate True WSS"
   ]
  },
  {
   "cell_type": "code",
   "execution_count": null,
   "metadata": {},
   "outputs": [],
   "source": [
    "True_WSS=wss(L2_data)\n",
    "True_WSS"
   ]
  },
  {
   "cell_type": "markdown",
   "metadata": {},
   "source": [
    "### Calculate True BSS"
   ]
  },
  {
   "cell_type": "code",
   "execution_count": null,
   "metadata": {},
   "outputs": [],
   "source": [
    "True_BSS=bss(L2_data)\n",
    "True_BSS"
   ]
  },
  {
   "cell_type": "markdown",
   "metadata": {},
   "source": [
    "### Calculate True Total SSE"
   ]
  },
  {
   "cell_type": "code",
   "execution_count": null,
   "metadata": {},
   "outputs": [],
   "source": [
    "True_SSE = total_sse(True_WSS, True_BSS)\n",
    "True_SSE"
   ]
  },
  {
   "cell_type": "markdown",
   "metadata": {},
   "source": [
    "***\n",
    "## Section: 3.2 - Configure and Run the SciKitLearn K-Means Algorithm\n",
    "- Explain all configuration parameter values you chose, and why you chose them.\n",
    "- Run your algorithm for K=2, 3, 4.\n",
    "- For each run, compute the WSS, BSS, and Total SSE (WSS+BSS), and compute the running time (see Python Time reference – see %%time, time.process_time(), etc.).\n",
    "***"
   ]
  },
  {
   "cell_type": "code",
   "execution_count": null,
   "metadata": {},
   "outputs": [],
   "source": [
    "L2_data = pd.read_csv('large2_Xydf.csv')\n",
    "L2_data = L2_data.iloc[:,1:]\n",
    "true_y=L2_data['y']\n",
    "X = L2_data[['X0','X1']].to_numpy()\n",
    "y = L2_data['y'].to_numpy()\n",
    "plot_cluster(\"True Clusters\", X, y, 4)\n",
    "L2_data"
   ]
  },
  {
   "cell_type": "code",
   "execution_count": null,
   "metadata": {},
   "outputs": [],
   "source": [
    "range_clusters_k = [2,3,4]\n",
    "Pred_WSS = []\n",
    "Pred_BSS = []\n",
    "Pred_SSE = []\n",
    "Running_time = []\n",
    "\n",
    "for k in range_clusters_k:\n",
    "    start = process_time()\n",
    "    kmeans = KMeans(n_clusters=k, random_state=42)\n",
    "    pred_y = kmeans.fit_predict(X)\n",
    "    end=process_time() \n",
    "    # first convert X to (200,2) then vstack with pred_y, we get (200,3), then transform it to (3,200)\n",
    "    data_array = np.vstack([X.T,pred_y]).T\n",
    "    data_df = pd.DataFrame(data_array, columns = ['X0','X1','y'])\n",
    "    #calculate WSS\n",
    "    pred_wss=wss(data_df)\n",
    "    Pred_WSS.append(pred_wss)\n",
    "    #calculate BSS\n",
    "    pred_bss=bss(data_df)\n",
    "    Pred_BSS.append(pred_bss)\n",
    "    #calculate SSE\n",
    "    pred_sse=total_sse(pred_wss,pred_bss)\n",
    "    Pred_SSE.append(pred_sse)\n",
    "    #calculate running time\n",
    "    pred_time=end-start\n",
    "    Running_time.append(pred_time)\n",
    "    #print WSS,BSS,SSE,Time\n",
    "    print(\"K= \",k,\" WSS= \",pred_wss,\" BSS= \",pred_bss,\" SSE= \",pred_sse,\" Time= \",pred_time)\n",
    "\n",
    "# visuliazation\n",
    "fig = plt.figure(figsize=(14,10))\n",
    "fig.add_subplot(221)\n",
    "plt.plot(range_clusters_k, Pred_WSS, 'p-',label='WSS')\n",
    "plt.xlabel('Num of clusters')\n",
    "plt.ylabel('WSS')\n",
    "plt.legend()\n",
    "fig.add_subplot(222)\n",
    "plt.plot(range_clusters_k, Pred_BSS, 'p-',label='BSS')\n",
    "plt.xlabel('Num of clusters')\n",
    "plt.ylabel('BSS')\n",
    "plt.legend()\n",
    "fig.add_subplot(223)\n",
    "plt.plot(range_clusters_k, Pred_SSE, 'p-',label='BSS')\n",
    "plt.xlabel('Num of clusters')\n",
    "plt.ylabel('SSE')\n",
    "plt.legend()\n",
    "fig.add_subplot(224)\n",
    "plt.plot(range_clusters_k, Running_time,'p-',label='Time')\n",
    "plt.xlabel(\"Number of cluster\")\n",
    "plt.ylabel(\"Time\")\n",
    "plt.title(\"Time\")\n",
    "plt.legend()\n",
    "plt.show()"
   ]
  },
  {
   "cell_type": "markdown",
   "metadata": {},
   "source": [
    "***\n",
    "## Section: 3.3 - For the K=2 Case Above:\n",
    "- Create a scatterplot, overlaying the true cluster with the cluster produced by your algorithm.  (Or alternatively, create two side by side scatterplots).\n",
    "- Create a cross tabulation matrix (i.e., confusion matrix) comparing the true and assigned clusters, and the basic measures (precision, recall, F1, accuracy, etc. - see classification_report).  Note that you may need to \"match up\" the true and assigned cluster labels.  See the linear-sum-assignment and Hungarian algorithm references, for example.\n",
    "***"
   ]
  },
  {
   "cell_type": "code",
   "execution_count": null,
   "metadata": {},
   "outputs": [],
   "source": [
    "clusterer = KMeans(n_clusters = 2, random_state=42)\n",
    "pred_y = clusterer.fit_predict(X)\n",
    "plot_cluster(\"True Clusters\", X, y, 5)\n",
    "plot_cluster(\"Pred Clusters K=2\", X, pred_y, 5)"
   ]
  },
  {
   "cell_type": "markdown",
   "metadata": {},
   "source": [
    "### Create a cross tabulation matrix comparing the true and assigned clusters"
   ]
  },
  {
   "cell_type": "code",
   "execution_count": null,
   "metadata": {},
   "outputs": [],
   "source": [
    "tabulation_matrix(y,pred_y)"
   ]
  },
  {
   "cell_type": "markdown",
   "metadata": {},
   "source": [
    "### Comparing the true and assigned clusters, and the basic measures (precision, recall, F1, accuracy, etc. )"
   ]
  },
  {
   "cell_type": "code",
   "execution_count": null,
   "metadata": {},
   "outputs": [],
   "source": [
    "classification_report(y, pred_y, labels=None, target_names=None, sample_weight=None, digits=2)"
   ]
  },
  {
   "cell_type": "markdown",
   "metadata": {},
   "source": [
    "***\n",
    "## Section: 3.4 - Record Your Observations\n",
    "- What do you observe or conclude from these experiments?\n",
    "- Which is your “preferred” clustering (K value in particular), and why?\n",
    "- Support this with statistics and/or graphs.\n",
    "***"
   ]
  },
  {
   "cell_type": "markdown",
   "metadata": {
    "tags": []
   },
   "source": [
    "### Observation:\n",
    "\n",
    "- Limitations of K-means: Non-globular Shapes\n",
    "\n",
    "### K=6 is best\n",
    "\n",
    "- When K is at 6, WSS produces an inflection point.Overcoming Limitations of K-means: Non-globular Shapes"
   ]
  },
  {
   "cell_type": "code",
   "execution_count": null,
   "metadata": {},
   "outputs": [],
   "source": [
    "range_n_clusters = [2, 3, 4, 5, 6, 7, 8, 9, 10]\n",
    "# record WSS for every value of K\n",
    "Pred_WSS = []\n",
    "\n",
    "for n_clusters in range_n_clusters:\n",
    "    #iterating through cluster sizes\n",
    "    clusterer = KMeans(n_clusters = n_clusters, random_state=42)\n",
    "    pred_y = clusterer.fit_predict(X)\n",
    "    data_array = np.vstack([X.T,pred_y]).T\n",
    "    data_df = pd.DataFrame(data_array, columns = ['X0','X1','y']) \n",
    "    #calculate WSS\n",
    "    pred_wss=wss(data_df)\n",
    "    Pred_WSS.append(pred_wss)\n",
    "fig = plt.figure()\n",
    "plt.plot(range_n_clusters, Pred_WSS,'p-',label='WSS')\n",
    "plt.xlabel(\"Number of cluster\")\n",
    "plt.ylabel(\"WSS\")\n",
    "plt.title(\"WSS\")\n",
    "plt.legend()\n",
    "plt.show()"
   ]
  },
  {
   "cell_type": "markdown",
   "metadata": {},
   "source": [
    "***\n",
    "# Section: 4 - Evaluate a **Second** Clustering Algorithm on the **Large2** Dataset\n",
    "***"
   ]
  },
  {
   "cell_type": "markdown",
   "metadata": {},
   "source": [
    "***\n",
    "## Section: 4.1 - Choose a Clustering Algorithm from the SciKitLearn Library  \n",
    "- Explain why you chose it.\n",
    "- See the SciKitLearn references.\n",
    "***"
   ]
  },
  {
   "cell_type": "markdown",
   "metadata": {},
   "source": [
    "### Spectral Clustering\n",
    "\n",
    "- The process does not require too many assumptions on data structure. For example, Kmeans requires data to be convex set.\n",
    "- By constructing sparse Similarity graph, it can significantly outperform other algorithms in computing speed for larger data sets.\n",
    "- As spectral clustering is a graph cutting process, there is no clustering of discrete clusters like kmesns clustering.\n",
    "- There is no need to make assumptions about the probability distribution of data like GMM."
   ]
  },
  {
   "cell_type": "code",
   "execution_count": null,
   "metadata": {},
   "outputs": [],
   "source": [
    "from sklearn.cluster import SpectralClustering"
   ]
  },
  {
   "cell_type": "markdown",
   "metadata": {},
   "source": [
    "***\n",
    "## Section: 4.2 - Configure and Run the Algorithm\n",
    "- Do this for (at least) two variations of the configuration settings (if any).  Explain all configuration parameter values you chose, and why you chose them.\n",
    "- For Each Run:\n",
    "1. Compute the within-cluster WSS, the between-cluster BSS, and the Total SSE (WSS+BSS), and compute the running time.\n",
    "2. Create a scatterplot, overlaying the true cluster with the cluster produced by your algorithm.  (Or alternatively, create two side by side scatterplots).\n",
    "3. Create a cross tabulation matrix (i.e., confusion matrix) comparing the true and assigned clusters, and the basic measures (precision, recall, F1, accuracy, etc. - see classification_report).  Note that you may need to \"match up\" the true and assigned cluster labels.  See the linear-sum-assignment and Hungarian algorithm references, for example.\n",
    "***"
   ]
  },
  {
   "cell_type": "code",
   "execution_count": null,
   "metadata": {},
   "outputs": [],
   "source": [
    "range_clusters_k = [2,3,4]\n",
    "Pred_WSS = []\n",
    "Pred_BSS = []\n",
    "Pred_SSE = []\n",
    "Running_time = []\n",
    "\n",
    "for k in range_clusters_k:\n",
    "    start = process_time()\n",
    "    clusters = SpectralClustering(n_clusters= k)\n",
    "    pred_y = clusters.fit_predict(X)\n",
    "    end=process_time() \n",
    "    # first convert X to (200,2) then vstack with pred_y, we get (200,3), then transform it to (3,200)\n",
    "    data_array = np.vstack([X.T,pred_y]).T\n",
    "    data_df = pd.DataFrame(data_array, columns = ['X0','X1','y'])\n",
    "    #calculate WSS\n",
    "    pred_wss=wss(data_df)\n",
    "    Pred_WSS.append(pred_wss)\n",
    "    #calculate BSS\n",
    "    pred_bss=bss(data_df)\n",
    "    Pred_BSS.append(pred_bss)\n",
    "    #calculate SSE\n",
    "    pred_sse=total_sse(pred_wss,pred_bss)\n",
    "    Pred_SSE.append(pred_sse)\n",
    "    #calculate running time\n",
    "    pred_time=end-start\n",
    "    Running_time.append(pred_time)\n",
    "    #print WSS,BSS,SSE,Time\n",
    "    plot_cluster(\"Pred Clusters\", X, pred_y, 5)\n",
    "    print(\"K= \",k,\" WSS= \",pred_wss,\" BSS= \",pred_bss,\" SSE= \",pred_sse,\" Time= \",pred_time)\n",
    "\n",
    "# visuliazation\n",
    "fig = plt.figure(figsize=(14,10))\n",
    "fig.add_subplot(221)\n",
    "plt.plot(range_clusters_k, Pred_WSS, 'p-',label='WSS')\n",
    "plt.xlabel('Num of clusters')\n",
    "plt.ylabel('WSS')\n",
    "plt.legend()\n",
    "fig.add_subplot(222)\n",
    "plt.plot(range_clusters_k, Pred_BSS, 'p-',label='BSS')\n",
    "plt.xlabel('Num of clusters')\n",
    "plt.ylabel('BSS')\n",
    "plt.legend()\n",
    "fig.add_subplot(223)\n",
    "plt.plot(range_clusters_k, Pred_SSE, 'p-',label='BSS')\n",
    "plt.xlabel('Num of clusters')\n",
    "plt.ylabel('SSE')\n",
    "plt.legend()\n",
    "fig.add_subplot(224)\n",
    "plt.plot(range_clusters_k, Running_time,'p-',label='Time')\n",
    "plt.xlabel(\"Number of cluster\")\n",
    "plt.ylabel(\"Time\")\n",
    "plt.title(\"Time\")\n",
    "plt.legend()\n",
    "plt.show()"
   ]
  },
  {
   "cell_type": "markdown",
   "metadata": {},
   "source": [
    "### Create a cross tabulation matrix comparing the true and assigned clusters"
   ]
  },
  {
   "cell_type": "code",
   "execution_count": null,
   "metadata": {},
   "outputs": [],
   "source": [
    "clusterer = SpectralClustering(n_clusters = 2)\n",
    "y_pred = clusterer.fit_predict(X)\n",
    "tabulation_matrix(y,y_pred)"
   ]
  },
  {
   "cell_type": "markdown",
   "metadata": {},
   "source": [
    "### Comparing the true and assigned clusters, and the basic measures (precision, recall, F1, accuracy, etc. )"
   ]
  },
  {
   "cell_type": "code",
   "execution_count": null,
   "metadata": {},
   "outputs": [],
   "source": [
    "classification_report(y, y_pred, labels=None, target_names=None, sample_weight=None, digits=2)"
   ]
  },
  {
   "cell_type": "markdown",
   "metadata": {},
   "source": [
    "***\n",
    "## Section: 4.3 - Record Your Observations\n",
    "- What do you observe or conclude from these experiments?\n",
    "- Which is your “preferred” clustering (configuration settings, if any), and why?\n",
    "- Support this with statistics and/or graphs.\n",
    "***"
   ]
  },
  {
   "cell_type": "markdown",
   "metadata": {},
   "source": [
    "### Observation:\n",
    "\n",
    "- Larger num_clusters not always produces the smaller WSS!!!!\n",
    "- Increasing num_clusters can overcoming Limitations of K-means: Non-globular Shapes"
   ]
  },
  {
   "cell_type": "markdown",
   "metadata": {},
   "source": [
    "### K=4 is best\n",
    "\n",
    "- When K is at 4, WSS produces an inflection point.Overcoming Limitations of K-means: Non-globular Shapes"
   ]
  },
  {
   "cell_type": "code",
   "execution_count": null,
   "metadata": {},
   "outputs": [],
   "source": [
    "range_n_clusters = [2, 3, 4, 5, 6, 7, 8, 9, 10]\n",
    "# record WSS for every value of K\n",
    "Pred_WSS = []\n",
    "\n",
    "for n_clusters in range_n_clusters:\n",
    "    #iterating through cluster sizes\n",
    "    clusterer = SpectralClustering(n_clusters = n_clusters, random_state=42)\n",
    "    pred_y = clusterer.fit_predict(X)\n",
    "    data_array = np.vstack([X.T,pred_y]).T\n",
    "    data_df = pd.DataFrame(data_array, columns = ['X0','X1','y']) \n",
    "    #calculate WSS\n",
    "    pred_wss=wss(data_df)\n",
    "    Pred_WSS.append(pred_wss)\n",
    "fig = plt.figure()\n",
    "plt.plot(range_n_clusters, Pred_WSS,'p-',label='WSS')\n",
    "plt.xlabel(\"Number of cluster\")\n",
    "plt.ylabel(\"WSS\")\n",
    "plt.title(\"WSS\")\n",
    "plt.legend()\n",
    "plt.show()"
   ]
  },
  {
   "cell_type": "markdown",
   "metadata": {},
   "source": [
    "***\n",
    "# Section: 5 - Evaluate a **Third** Clustering Algorithm on the **Large2** Dataset\n",
    "***"
   ]
  },
  {
   "cell_type": "markdown",
   "metadata": {},
   "source": [
    "***\n",
    "## Section: 5.1 - Choose a Clustering Algorithm from the SciKitLearn Library  \n",
    "- Explain why you chose it.\n",
    "- See the SciKitLearn references.\n",
    "***"
   ]
  },
  {
   "cell_type": "markdown",
   "metadata": {},
   "source": [
    "### Agglomerative Clustering\n",
    "- One of the advantages of the algorithm is that the clustering of data sets can be displayed at different scales (levels)."
   ]
  },
  {
   "cell_type": "code",
   "execution_count": null,
   "metadata": {},
   "outputs": [],
   "source": [
    "from sklearn.cluster import AgglomerativeClustering"
   ]
  },
  {
   "cell_type": "markdown",
   "metadata": {},
   "source": [
    "***\n",
    "## Section: 5.2 - Configure and Run the Algorithm\n",
    "- Do this for (at least) two variations of the configuration settings (if any).  Explain all configuration parameter values you chose, and why you chose them.\n",
    "- For Each Run:\n",
    "1. Compute the within-cluster WSS, the between-cluster BSS, and the Total SSE (WSS+BSS), and compute the running time.\n",
    "2. Create a scatterplot, overlaying the true cluster with the cluster produced by your algorithm.  (Or alternatively, create two side by side scatterplots).\n",
    "3. Create a cross tabulation matrix (i.e., confusion matrix) comparing the true and assigned clusters, and the basic measures (precision, recall, F1, accuracy, etc. - see classification_report).  Note that you may need to \"match up\" the true and assigned cluster labels.  See the linear-sum-assignment and Hungarian algorithm references, for example.\n",
    "***"
   ]
  },
  {
   "cell_type": "markdown",
   "metadata": {},
   "source": [
    "### Set n_clusters=2, 3, 4; Compute WSS, BSS, Total SSE (WSS+BSS), and running time; Create scatterplots"
   ]
  },
  {
   "cell_type": "code",
   "execution_count": null,
   "metadata": {},
   "outputs": [],
   "source": [
    "range_clusters_k = [2,3,4]\n",
    "Pred_WSS = []\n",
    "Pred_BSS = []\n",
    "Pred_SSE = []\n",
    "Running_time = []\n",
    "\n",
    "for k in range_clusters_k:\n",
    "    start = process_time()\n",
    "    clusters = AgglomerativeClustering(n_clusters= k)\n",
    "    pred_y = clusters.fit_predict(X)\n",
    "    end=process_time() \n",
    "    # first convert X to (200,2) then vstack with pred_y, we get (200,3), then transform it to (3,200)\n",
    "    data_array = np.vstack([X.T,pred_y]).T\n",
    "    data_df = pd.DataFrame(data_array, columns = ['X0','X1','y'])\n",
    "    #calculate WSS\n",
    "    pred_wss=wss(data_df)\n",
    "    Pred_WSS.append(pred_wss)\n",
    "    #calculate BSS\n",
    "    pred_bss=bss(data_df)\n",
    "    Pred_BSS.append(pred_bss)\n",
    "    #calculate SSE\n",
    "    pred_sse=total_sse(pred_wss,pred_bss)\n",
    "    Pred_SSE.append(pred_sse)\n",
    "    #calculate running time\n",
    "    pred_time=end-start\n",
    "    Running_time.append(pred_time)\n",
    "    #print WSS,BSS,SSE,Time\n",
    "    plot_cluster(\"Pred Clusters\", X, pred_y, 5)\n",
    "    print(\"K= \",k,\" WSS= \",pred_wss,\" BSS= \",pred_bss,\" SSE= \",pred_sse,\" Time= \",pred_time)\n",
    "\n",
    "# visuliazation\n",
    "fig = plt.figure(figsize=(14,10))\n",
    "fig.add_subplot(221)\n",
    "plt.plot(range_clusters_k, Pred_WSS, 'p-',label='WSS')\n",
    "plt.xlabel('Num of clusters')\n",
    "plt.ylabel('WSS')\n",
    "plt.legend()\n",
    "fig.add_subplot(222)\n",
    "plt.plot(range_clusters_k, Pred_BSS, 'p-',label='BSS')\n",
    "plt.xlabel('Num of clusters')\n",
    "plt.ylabel('BSS')\n",
    "plt.legend()\n",
    "fig.add_subplot(223)\n",
    "plt.plot(range_clusters_k, Pred_SSE, 'p-',label='BSS')\n",
    "plt.xlabel('Num of clusters')\n",
    "plt.ylabel('SSE')\n",
    "plt.legend()\n",
    "fig.add_subplot(224)\n",
    "plt.plot(range_clusters_k, Running_time,'p-',label='Time')\n",
    "plt.xlabel(\"Number of cluster\")\n",
    "plt.ylabel(\"Time\")\n",
    "plt.title(\"Time\")\n",
    "plt.legend()\n",
    "plt.show()"
   ]
  },
  {
   "cell_type": "markdown",
   "metadata": {},
   "source": [
    "### Create a cross tabulation matrix comparing the true and assigned clusters"
   ]
  },
  {
   "cell_type": "code",
   "execution_count": null,
   "metadata": {},
   "outputs": [],
   "source": [
    "clusterer = AgglomerativeClustering(n_clusters = 2)\n",
    "y_pred = clusterer.fit_predict(X)\n",
    "tabulation_matrix(y,y_pred)"
   ]
  },
  {
   "cell_type": "markdown",
   "metadata": {},
   "source": [
    "### Comparing the true and assigned clusters, and the basic measures (precision, recall, F1, accuracy, etc. )"
   ]
  },
  {
   "cell_type": "code",
   "execution_count": null,
   "metadata": {},
   "outputs": [],
   "source": [
    "classification_report(y, y_pred, labels=None, target_names=None, sample_weight=None, digits=2)"
   ]
  },
  {
   "cell_type": "markdown",
   "metadata": {},
   "source": [
    "***\n",
    "## Section: 5.3 - Record Your Observations\n",
    "- What do you observe or conclude from these experiments?\n",
    "- Which is your “preferred” clustering (configuration settings, if any), and why?\n",
    "- Support this with statistics and/or graphs.\n",
    "***"
   ]
  },
  {
   "cell_type": "markdown",
   "metadata": {},
   "source": [
    "### Observation:\n",
    "\n",
    "- Total SSE is a contant.\n",
    "- The larger the num_clusters, the longer the program will run.\n",
    "- The larger num_clusters is, the smaller WSS is.\n",
    "- Increasing num_clusters can overcoming Limitations of K-means: Non-globular Shapes"
   ]
  },
  {
   "cell_type": "markdown",
   "metadata": {},
   "source": [
    "### K=4 is best\n",
    "\n",
    "- When K is at 4, WSS produces an inflection point.Overcoming Limitations of K-means: Non-globular Shapes"
   ]
  },
  {
   "cell_type": "code",
   "execution_count": null,
   "metadata": {},
   "outputs": [],
   "source": [
    "range_n_clusters = [2, 3, 4, 5, 6, 7, 8, 9, 10]\n",
    "# record WSS for every value of K\n",
    "Pred_WSS = []\n",
    "\n",
    "for n_clusters in range_n_clusters:\n",
    "    #iterating through cluster sizes\n",
    "    clusterer = AgglomerativeClustering(n_clusters = n_clusters)\n",
    "    pred_y = clusterer.fit_predict(X)\n",
    "    data_array = np.vstack([X.T,pred_y]).T\n",
    "    data_df = pd.DataFrame(data_array, columns = ['X0','X1','y']) \n",
    "    #calculate WSS\n",
    "    pred_wss=wss(data_df)\n",
    "    Pred_WSS.append(pred_wss)\n",
    "fig = plt.figure()\n",
    "plt.plot(range_n_clusters, Pred_WSS,'p-',label='WSS')\n",
    "plt.xlabel(\"Number of cluster\")\n",
    "plt.ylabel(\"WSS\")\n",
    "plt.title(\"WSS\")\n",
    "plt.legend()\n",
    "plt.show()"
   ]
  },
  {
   "cell_type": "markdown",
   "metadata": {},
   "source": [
    "***\n",
    "# Section: 6 - Comparison of the Three Clustering Algorithms on the **Large2** Dataset\n",
    "***"
   ]
  },
  {
   "cell_type": "markdown",
   "metadata": {},
   "source": [
    "***\n",
    "## Section: 6.1 - Compare Their Performance\n",
    "- What was their relative performance (quality and timing), and their performance versus the true clustering?\n",
    "- What characteristics of the data might impact the clustering algorithms' performance?\n",
    "***"
   ]
  },
  {
   "cell_type": "markdown",
   "metadata": {},
   "source": [
    "### Relative performance and performance versus the true clustering\n",
    "- Qulity: Agglomerative(wss:1378)> Spectral(wss:1315)> KMeans(wss:1310)\n",
    "- Time: Spectral > Agglomerative > KMeans\n",
    "- Performance versus the true clustering: Agglomerative(0.83)> Spectral(0.78)> KMeans(0.75)\n",
    "\n",
    "### What characteristics of the data might impact the clustering algorithms' performance?\n",
    "\n",
    "### Size:\n",
    "- Each category in the three datasets is similar in size, so the classification works well. If the category sizes are not similar, the effect will be different.\n",
    "\n",
    "### Density:\n",
    "- Each category in the three datasets is similar in density, so the classification works well. If the category density are not similar, the effect will be different.\n",
    "\n",
    "### Non-globular Shapes:\n",
    "- The clustering effect of the third data set is not very good due to the Non-globular Shapes."
   ]
  },
  {
   "cell_type": "markdown",
   "metadata": {},
   "source": [
    "***\n",
    "## Section: 6.2 - Choose a Best Clustering Algorithm\n",
    "- Choose one of the three clustering algorithm as best and explain why.\n",
    "***"
   ]
  },
  {
   "cell_type": "markdown",
   "metadata": {},
   "source": [
    "### Choose one of the three clustering algorithm as best and explain why.\n",
    "- I think K-means is the Best:\n",
    "- Simple and fast , which is one of the important reasons why k-means is used most in the industry. \n",
    "- You only need to change k when you call a parameter. And the choice of k is easy. \n",
    "- The principle of the algorithm is simple and explicable."
   ]
  },
  {
   "cell_type": "markdown",
   "metadata": {},
   "source": [
    "***\n",
    "# Section: 7 - Conclusions\n",
    "- Write a paragraph on what you discovered or learned from this homework.\n",
    "***"
   ]
  },
  {
   "cell_type": "markdown",
   "metadata": {},
   "source": [
    "- I learned the realization of three clustering methods and understood the meaning of each parameter.\n",
    "- I learned how to calculate WSS, BSS and SSE methods, as well as calculate program running time.\n",
    "- I understand that different characteristics of data will affect the clustering effect.\n",
    "- I learned how to evaluate the clustering effect by comparing it with standard clustering."
   ]
  },
  {
   "cell_type": "markdown",
   "metadata": {},
   "source": [
    "***\n",
    "### END-OF-SUBMISSION\n",
    "***"
   ]
  }
 ],
 "metadata": {
  "kernelspec": {
   "display_name": "Python 3",
   "language": "python",
   "name": "python3"
  },
  "language_info": {
   "codemirror_mode": {
    "name": "ipython",
    "version": 3
   },
   "file_extension": ".py",
   "mimetype": "text/x-python",
   "name": "python",
   "nbconvert_exporter": "python",
   "pygments_lexer": "ipython3",
   "version": "3.7.6"
  },
  "latex_envs": {
   "LaTeX_envs_menu_present": true,
   "autoclose": false,
   "autocomplete": true,
   "bibliofile": "biblio.bib",
   "cite_by": "apalike",
   "current_citInitial": 1,
   "eqLabelWithNumbers": true,
   "eqNumInitial": 1,
   "hotkeys": {
    "equation": "Ctrl-E",
    "itemize": "Ctrl-I"
   },
   "labels_anchors": false,
   "latex_user_defs": false,
   "report_style_numbering": false,
   "user_envs_cfg": false
  }
 },
 "nbformat": 4,
 "nbformat_minor": 4
}
