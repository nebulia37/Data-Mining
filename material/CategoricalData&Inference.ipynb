{
 "cells": [
  {
   "cell_type": "code",
   "execution_count": 1,
   "metadata": {},
   "outputs": [],
   "source": [
    "import numpy as np\n",
    "import pandas as pd\n",
    "import sklearn as sk\n",
    "import statsmodels.api as sm\n",
    "import statsmodels.formula.api as smf\n",
    "import os"
   ]
  },
  {
   "cell_type": "code",
   "execution_count": 2,
   "metadata": {},
   "outputs": [
    {
     "data": {
      "text/plain": [
       "array([[ 5, 15],\n",
       "       [ 3, 30]])"
      ]
     },
     "execution_count": 2,
     "metadata": {},
     "output_type": "execute_result"
    }
   ],
   "source": [
    "mytable = np.array([[5, 15],[3,30]])\n",
    "mytable"
   ]
  },
  {
   "cell_type": "markdown",
   "metadata": {},
   "source": [
    "#### The methods below refer to the statsmodel package. \n",
    "\n",
    "##### Learn to read the docs! https://www.statsmodels.org/stable/generated/statsmodels.stats.contingency_tables.Table2x2.html"
   ]
  },
  {
   "cell_type": "code",
   "execution_count": 3,
   "metadata": {},
   "outputs": [
    {
     "data": {
      "text/plain": [
       "3.3333333333333335"
      ]
     },
     "execution_count": 3,
     "metadata": {},
     "output_type": "execute_result"
    }
   ],
   "source": [
    "result = sm.stats.Table2x2(mytable)\n",
    "result.oddsratio"
   ]
  },
  {
   "cell_type": "code",
   "execution_count": 4,
   "metadata": {},
   "outputs": [
    {
     "data": {
      "text/plain": [
       "(0.7006053806126253, 15.859300283128432)"
      ]
     },
     "execution_count": 4,
     "metadata": {},
     "output_type": "execute_result"
    }
   ],
   "source": [
    "result.oddsratio_confint()"
   ]
  },
  {
   "cell_type": "code",
   "execution_count": 5,
   "metadata": {},
   "outputs": [
    {
     "data": {
      "text/plain": [
       "0.13031366333302763"
      ]
     },
     "execution_count": 5,
     "metadata": {},
     "output_type": "execute_result"
    }
   ],
   "source": [
    "result.oddsratio_pvalue()"
   ]
  },
  {
   "cell_type": "markdown",
   "metadata": {},
   "source": [
    "## Logistic Regression "
   ]
  },
  {
   "cell_type": "markdown",
   "metadata": {},
   "source": [
    "### Read the data"
   ]
  },
  {
   "cell_type": "code",
   "execution_count": 6,
   "metadata": {},
   "outputs": [
    {
     "data": {
      "text/html": [
       "<div>\n",
       "<style scoped>\n",
       "    .dataframe tbody tr th:only-of-type {\n",
       "        vertical-align: middle;\n",
       "    }\n",
       "\n",
       "    .dataframe tbody tr th {\n",
       "        vertical-align: top;\n",
       "    }\n",
       "\n",
       "    .dataframe thead th {\n",
       "        text-align: right;\n",
       "    }\n",
       "</style>\n",
       "<table border=\"1\" class=\"dataframe\">\n",
       "  <thead>\n",
       "    <tr style=\"text-align: right;\">\n",
       "      <th></th>\n",
       "      <th>Sick</th>\n",
       "      <th>Age</th>\n",
       "      <th>Sex</th>\n",
       "      <th>Smoker</th>\n",
       "    </tr>\n",
       "  </thead>\n",
       "  <tbody>\n",
       "    <tr>\n",
       "      <th>0</th>\n",
       "      <td>0</td>\n",
       "      <td>24</td>\n",
       "      <td>0</td>\n",
       "      <td>0</td>\n",
       "    </tr>\n",
       "    <tr>\n",
       "      <th>1</th>\n",
       "      <td>1</td>\n",
       "      <td>40</td>\n",
       "      <td>1</td>\n",
       "      <td>1</td>\n",
       "    </tr>\n",
       "    <tr>\n",
       "      <th>2</th>\n",
       "      <td>0</td>\n",
       "      <td>23</td>\n",
       "      <td>0</td>\n",
       "      <td>0</td>\n",
       "    </tr>\n",
       "    <tr>\n",
       "      <th>3</th>\n",
       "      <td>1</td>\n",
       "      <td>39</td>\n",
       "      <td>0</td>\n",
       "      <td>1</td>\n",
       "    </tr>\n",
       "    <tr>\n",
       "      <th>4</th>\n",
       "      <td>0</td>\n",
       "      <td>26</td>\n",
       "      <td>0</td>\n",
       "      <td>0</td>\n",
       "    </tr>\n",
       "    <tr>\n",
       "      <th>5</th>\n",
       "      <td>1</td>\n",
       "      <td>45</td>\n",
       "      <td>1</td>\n",
       "      <td>1</td>\n",
       "    </tr>\n",
       "    <tr>\n",
       "      <th>6</th>\n",
       "      <td>1</td>\n",
       "      <td>42</td>\n",
       "      <td>1</td>\n",
       "      <td>0</td>\n",
       "    </tr>\n",
       "    <tr>\n",
       "      <th>7</th>\n",
       "      <td>1</td>\n",
       "      <td>39</td>\n",
       "      <td>1</td>\n",
       "      <td>1</td>\n",
       "    </tr>\n",
       "    <tr>\n",
       "      <th>8</th>\n",
       "      <td>0</td>\n",
       "      <td>23</td>\n",
       "      <td>1</td>\n",
       "      <td>0</td>\n",
       "    </tr>\n",
       "    <tr>\n",
       "      <th>9</th>\n",
       "      <td>0</td>\n",
       "      <td>38</td>\n",
       "      <td>0</td>\n",
       "      <td>0</td>\n",
       "    </tr>\n",
       "    <tr>\n",
       "      <th>10</th>\n",
       "      <td>0</td>\n",
       "      <td>27</td>\n",
       "      <td>1</td>\n",
       "      <td>0</td>\n",
       "    </tr>\n",
       "    <tr>\n",
       "      <th>11</th>\n",
       "      <td>1</td>\n",
       "      <td>39</td>\n",
       "      <td>0</td>\n",
       "      <td>0</td>\n",
       "    </tr>\n",
       "    <tr>\n",
       "      <th>12</th>\n",
       "      <td>1</td>\n",
       "      <td>42</td>\n",
       "      <td>1</td>\n",
       "      <td>1</td>\n",
       "    </tr>\n",
       "    <tr>\n",
       "      <th>13</th>\n",
       "      <td>0</td>\n",
       "      <td>24</td>\n",
       "      <td>0</td>\n",
       "      <td>0</td>\n",
       "    </tr>\n",
       "    <tr>\n",
       "      <th>14</th>\n",
       "      <td>1</td>\n",
       "      <td>38</td>\n",
       "      <td>0</td>\n",
       "      <td>0</td>\n",
       "    </tr>\n",
       "    <tr>\n",
       "      <th>15</th>\n",
       "      <td>0</td>\n",
       "      <td>28</td>\n",
       "      <td>1</td>\n",
       "      <td>0</td>\n",
       "    </tr>\n",
       "    <tr>\n",
       "      <th>16</th>\n",
       "      <td>1</td>\n",
       "      <td>40</td>\n",
       "      <td>0</td>\n",
       "      <td>1</td>\n",
       "    </tr>\n",
       "    <tr>\n",
       "      <th>17</th>\n",
       "      <td>0</td>\n",
       "      <td>42</td>\n",
       "      <td>1</td>\n",
       "      <td>1</td>\n",
       "    </tr>\n",
       "    <tr>\n",
       "      <th>18</th>\n",
       "      <td>1</td>\n",
       "      <td>38</td>\n",
       "      <td>1</td>\n",
       "      <td>1</td>\n",
       "    </tr>\n",
       "    <tr>\n",
       "      <th>19</th>\n",
       "      <td>1</td>\n",
       "      <td>42</td>\n",
       "      <td>0</td>\n",
       "      <td>1</td>\n",
       "    </tr>\n",
       "  </tbody>\n",
       "</table>\n",
       "</div>"
      ],
      "text/plain": [
       "    Sick  Age  Sex  Smoker\n",
       "0      0   24    0       0\n",
       "1      1   40    1       1\n",
       "2      0   23    0       0\n",
       "3      1   39    0       1\n",
       "4      0   26    0       0\n",
       "5      1   45    1       1\n",
       "6      1   42    1       0\n",
       "7      1   39    1       1\n",
       "8      0   23    1       0\n",
       "9      0   38    0       0\n",
       "10     0   27    1       0\n",
       "11     1   39    0       0\n",
       "12     1   42    1       1\n",
       "13     0   24    0       0\n",
       "14     1   38    0       0\n",
       "15     0   28    1       0\n",
       "16     1   40    0       1\n",
       "17     0   42    1       1\n",
       "18     1   38    1       1\n",
       "19     1   42    0       1"
      ]
     },
     "execution_count": 6,
     "metadata": {},
     "output_type": "execute_result"
    }
   ],
   "source": [
    "raw_data = pd.read_csv(os.path.expanduser(\"~/gitRepos/cse5243/course_materials/lecture_examples/LogisticRegressionData.csv\"))\n",
    "raw_data"
   ]
  },
  {
   "cell_type": "code",
   "execution_count": 7,
   "metadata": {},
   "outputs": [
    {
     "data": {
      "text/plain": [
       "(20, 4)"
      ]
     },
     "execution_count": 7,
     "metadata": {},
     "output_type": "execute_result"
    }
   ],
   "source": [
    "raw_data.shape"
   ]
  },
  {
   "cell_type": "markdown",
   "metadata": {},
   "source": [
    "### Logistic Reression of One Variable"
   ]
  },
  {
   "cell_type": "code",
   "execution_count": 8,
   "metadata": {},
   "outputs": [
    {
     "name": "stdout",
     "output_type": "stream",
     "text": [
      "Optimization terminated successfully.\n",
      "         Current function value: 0.479248\n",
      "         Iterations 6\n",
      "                           Logit Regression Results                           \n",
      "==============================================================================\n",
      "Dep. Variable:                   Sick   No. Observations:                   20\n",
      "Model:                          Logit   Df Residuals:                       18\n",
      "Method:                           MLE   Df Model:                            1\n",
      "Date:                Thu, 26 Jan 2023   Pseudo R-squ.:                  0.3036\n",
      "Time:                        16:23:16   Log-Likelihood:                -9.5850\n",
      "converged:                       True   LL-Null:                       -13.763\n",
      "Covariance Type:            nonrobust   LLR p-value:                  0.003845\n",
      "==============================================================================\n",
      "                 coef    std err          z      P>|z|      [0.025      0.975]\n",
      "------------------------------------------------------------------------------\n",
      "const         -0.9808      0.677     -1.449      0.147      -2.308       0.346\n",
      "Smoker         3.0603      1.258      2.432      0.015       0.594       5.527\n",
      "==============================================================================\n"
     ]
    }
   ],
   "source": [
    "my_model = sm.Logit(raw_data['Sick'], sm.add_constant(raw_data['Smoker'])).fit() \n",
    "print(my_model.summary())\n",
    "\n",
    "#be sure to check out the formulaic version as well if you're familiar with R: https://www.statsmodels.org/dev/example_formulas.html"
   ]
  },
  {
   "cell_type": "code",
   "execution_count": 9,
   "metadata": {},
   "outputs": [
    {
     "data": {
      "text/plain": [
       "0     0.272727\n",
       "1     0.888889\n",
       "2     0.272727\n",
       "3     0.888889\n",
       "4     0.272727\n",
       "5     0.888889\n",
       "6     0.272727\n",
       "7     0.888889\n",
       "8     0.272727\n",
       "9     0.272727\n",
       "10    0.272727\n",
       "11    0.272727\n",
       "12    0.888889\n",
       "13    0.272727\n",
       "14    0.272727\n",
       "15    0.272727\n",
       "16    0.888889\n",
       "17    0.888889\n",
       "18    0.888889\n",
       "19    0.888889\n",
       "dtype: float64"
      ]
     },
     "execution_count": 9,
     "metadata": {},
     "output_type": "execute_result"
    }
   ],
   "source": [
    "predicted_probs = my_model.predict(sm.add_constant(raw_data['Smoker']))\n",
    "predicted_probs"
   ]
  },
  {
   "cell_type": "code",
   "execution_count": 10,
   "metadata": {},
   "outputs": [
    {
     "data": {
      "text/html": [
       "<div>\n",
       "<style scoped>\n",
       "    .dataframe tbody tr th:only-of-type {\n",
       "        vertical-align: middle;\n",
       "    }\n",
       "\n",
       "    .dataframe tbody tr th {\n",
       "        vertical-align: top;\n",
       "    }\n",
       "\n",
       "    .dataframe thead th {\n",
       "        text-align: right;\n",
       "    }\n",
       "</style>\n",
       "<table border=\"1\" class=\"dataframe\">\n",
       "  <thead>\n",
       "    <tr style=\"text-align: right;\">\n",
       "      <th>predicted_outcome</th>\n",
       "      <th>0</th>\n",
       "      <th>1</th>\n",
       "    </tr>\n",
       "    <tr>\n",
       "      <th>actual_outcome</th>\n",
       "      <th></th>\n",
       "      <th></th>\n",
       "    </tr>\n",
       "  </thead>\n",
       "  <tbody>\n",
       "    <tr>\n",
       "      <th>0</th>\n",
       "      <td>8</td>\n",
       "      <td>1</td>\n",
       "    </tr>\n",
       "    <tr>\n",
       "      <th>1</th>\n",
       "      <td>3</td>\n",
       "      <td>8</td>\n",
       "    </tr>\n",
       "  </tbody>\n",
       "</table>\n",
       "</div>"
      ],
      "text/plain": [
       "predicted_outcome  0  1\n",
       "actual_outcome         \n",
       "0                  8  1\n",
       "1                  3  8"
      ]
     },
     "execution_count": 10,
     "metadata": {},
     "output_type": "execute_result"
    }
   ],
   "source": [
    "def table(predicted_probs, labels, cutoff):\n",
    "    \"\"\" Replacement for R's table funcion. \"\"\"\n",
    "    predicted_outcome = (predicted_probs > cutoff).astype(int)\n",
    "    df = pd.DataFrame({\"predicted_outcome\": predicted_outcome, \"actual_outcome\": labels})\n",
    "    return pd.crosstab(index=df[\"actual_outcome\"], columns=df[\"predicted_outcome\"], margins=False)\n",
    "\n",
    "table(predicted_probs, raw_data[\"Sick\"], cutoff=0.5)"
   ]
  },
  {
   "cell_type": "markdown",
   "metadata": {},
   "source": [
    "### Logistic Regression of Multiple Variables"
   ]
  },
  {
   "cell_type": "code",
   "execution_count": 11,
   "metadata": {},
   "outputs": [
    {
     "name": "stdout",
     "output_type": "stream",
     "text": [
      "Optimization terminated successfully.\n",
      "         Current function value: 0.285272\n",
      "         Iterations 8\n",
      "                           Logit Regression Results                           \n",
      "==============================================================================\n",
      "Dep. Variable:                   Sick   No. Observations:                   20\n",
      "Model:                          Logit   Df Residuals:                       16\n",
      "Method:                           MLE   Df Model:                            3\n",
      "Date:                Thu, 26 Jan 2023   Pseudo R-squ.:                  0.5854\n",
      "Time:                        16:23:21   Log-Likelihood:                -5.7054\n",
      "converged:                       True   LL-Null:                       -13.763\n",
      "Covariance Type:            nonrobust   LLR p-value:                  0.001074\n",
      "==============================================================================\n",
      "                 coef    std err          z      P>|z|      [0.025      0.975]\n",
      "------------------------------------------------------------------------------\n",
      "const        -13.1850      8.527     -1.546      0.122     -29.897       3.527\n",
      "Smoker         1.1918      1.872      0.637      0.524      -2.477       4.860\n",
      "Age            0.3672      0.226      1.625      0.104      -0.076       0.810\n",
      "Sex           -0.9784      1.860     -0.526      0.599      -4.623       2.666\n",
      "==============================================================================\n"
     ]
    }
   ],
   "source": [
    "my_model_full = sm.Logit(raw_data['Sick'], sm.add_constant(raw_data[['Smoker', 'Age', 'Sex']])).fit() \n",
    "print(my_model_full.summary())"
   ]
  },
  {
   "cell_type": "code",
   "execution_count": 12,
   "metadata": {},
   "outputs": [
    {
     "data": {
      "text/plain": [
       "0.007506394662864678"
      ]
     },
     "execution_count": 12,
     "metadata": {},
     "output_type": "execute_result"
    }
   ],
   "source": [
    "np.exp(5*-0.9784 )"
   ]
  },
  {
   "cell_type": "markdown",
   "metadata": {},
   "source": [
    "### What about all you sklearn folks?\n",
    "#### Or why it's important to actually know what you're doing AND read the docs!"
   ]
  },
  {
   "cell_type": "code",
   "execution_count": 15,
   "metadata": {},
   "outputs": [],
   "source": [
    "from sklearn.linear_model import LogisticRegression\n",
    "sk_model = LogisticRegression(fit_intercept = True, penalty = 'none').fit(raw_data[['Smoker', 'Age', 'Sex']], raw_data['Sick'])\n",
    "\n",
    "###Note the difference. You must specificy, the penalty (such as L1, L2, elasticnet, none)\n",
    "### Other parameters possible: https://scikit-learn.org/stable/modules/generated/sklearn.linear_model.LogisticRegression.html\n",
    "### Also Syntax is different.\n",
    "### Moral of the story: Understand the THEORY.. Then figure out the code. \n"
   ]
  },
  {
   "cell_type": "code",
   "execution_count": 16,
   "metadata": {},
   "outputs": [
    {
     "data": {
      "text/plain": [
       "array([[ 1.19174798,  0.36722857, -0.9783657 ]])"
      ]
     },
     "execution_count": 16,
     "metadata": {},
     "output_type": "execute_result"
    }
   ],
   "source": [
    "sk_model.coef_"
   ]
  },
  {
   "cell_type": "code",
   "execution_count": 17,
   "metadata": {},
   "outputs": [
    {
     "data": {
      "text/plain": [
       "array([-13.1849339])"
      ]
     },
     "execution_count": 17,
     "metadata": {},
     "output_type": "execute_result"
    }
   ],
   "source": [
    "sk_model.intercept_"
   ]
  },
  {
   "cell_type": "markdown",
   "metadata": {},
   "source": [
    "#### But do they give the same results?"
   ]
  },
  {
   "cell_type": "code",
   "execution_count": 18,
   "metadata": {},
   "outputs": [],
   "source": [
    "predicted_probs_stats_models = my_model_full.predict( sm.add_constant(raw_data[['Smoker', 'Age', 'Sex']]))\n",
    "predicted_probs_sklearn = sk_model.predict_proba(raw_data[['Smoker', 'Age', 'Sex']])"
   ]
  },
  {
   "cell_type": "code",
   "execution_count": 19,
   "metadata": {},
   "outputs": [
    {
     "data": {
      "text/plain": [
       "0     0.012475\n",
       "1     0.847819\n",
       "2     0.008674\n",
       "3     0.911229\n",
       "4     0.025655\n",
       "5     0.972179\n",
       "6     0.779078\n",
       "7     0.794189\n",
       "8     0.003279\n",
       "9     0.683467\n",
       "10    0.014089\n",
       "11    0.757125\n",
       "12    0.920712\n",
       "13    0.012475\n",
       "14    0.683467\n",
       "15    0.020215\n",
       "16    0.936788\n",
       "17    0.920712\n",
       "18    0.727730\n",
       "19    0.968642\n",
       "dtype: float64"
      ]
     },
     "execution_count": 19,
     "metadata": {},
     "output_type": "execute_result"
    }
   ],
   "source": [
    "predicted_probs_stats_models ## This shows the probability of a 1"
   ]
  },
  {
   "cell_type": "code",
   "execution_count": 20,
   "metadata": {},
   "outputs": [
    {
     "data": {
      "text/plain": [
       "array([[0.98752467, 0.01247533],\n",
       "       [0.15218168, 0.84781832],\n",
       "       [0.99132568, 0.00867432],\n",
       "       [0.08877147, 0.91122853],\n",
       "       [0.9743441 , 0.0256559 ],\n",
       "       [0.0278214 , 0.9721786 ],\n",
       "       [0.22092218, 0.77907782],\n",
       "       [0.20581108, 0.79418892],\n",
       "       [0.99672136, 0.00327864],\n",
       "       [0.31653279, 0.68346721],\n",
       "       [0.98591039, 0.01408961],\n",
       "       [0.24287519, 0.75712481],\n",
       "       [0.07928888, 0.92071112],\n",
       "       [0.98752467, 0.01247533],\n",
       "       [0.31653279, 0.68346721],\n",
       "       [0.97978483, 0.02021517],\n",
       "       [0.06321235, 0.93678765],\n",
       "       [0.07928888, 0.92071112],\n",
       "       [0.27227034, 0.72772966],\n",
       "       [0.03135835, 0.96864165]])"
      ]
     },
     "execution_count": 20,
     "metadata": {},
     "output_type": "execute_result"
    }
   ],
   "source": [
    "predicted_probs_sklearn ## This shows the probabiltiy of [0,1]"
   ]
  },
  {
   "cell_type": "code",
   "execution_count": 21,
   "metadata": {},
   "outputs": [
    {
     "data": {
      "text/plain": [
       "0    -2.888780e-07\n",
       "1     4.769032e-07\n",
       "2    -2.168378e-07\n",
       "3     9.227004e-07\n",
       "4    -4.977668e-07\n",
       "5     3.390727e-07\n",
       "6    -1.898509e-07\n",
       "7     3.151823e-07\n",
       "8    -1.133782e-07\n",
       "9     2.819764e-07\n",
       "10   -3.837108e-07\n",
       "11    5.647905e-07\n",
       "12    5.279722e-07\n",
       "13   -2.888780e-07\n",
       "14    2.819764e-07\n",
       "15   -5.120945e-07\n",
       "16    7.801594e-07\n",
       "17    5.279722e-07\n",
       "18    3.175547e-08\n",
       "19    5.075860e-07\n",
       "dtype: float64"
      ]
     },
     "execution_count": 21,
     "metadata": {},
     "output_type": "execute_result"
    }
   ],
   "source": [
    "predicted_probs_stats_models - predicted_probs_sklearn[:, 1]"
   ]
  }
 ],
 "metadata": {
  "kernelspec": {
   "display_name": "Python 3",
   "language": "python",
   "name": "python3"
  },
  "language_info": {
   "codemirror_mode": {
    "name": "ipython",
    "version": 3
   },
   "file_extension": ".py",
   "mimetype": "text/x-python",
   "name": "python",
   "nbconvert_exporter": "python",
   "pygments_lexer": "ipython3",
   "version": "3.8.5"
  }
 },
 "nbformat": 4,
 "nbformat_minor": 4
}
