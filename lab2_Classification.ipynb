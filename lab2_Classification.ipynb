{
 "cells": [
  {
   "cell_type": "markdown",
   "metadata": {
    "tags": []
   },
   "source": [
    "# CSE 5243 - Introduction to Data Mining\n",
    "## Homework 2: Classification\n",
    "- Semester: Fall 2022\n",
    "- Instructor: Greg Ryslik\n",
    "- Section: Wednesday 12:45\n",
    "- Student Name: John Smith\n",
    "- Name.#: smith.2@osu.edu\n",
    "***"
   ]
  },
  {
   "cell_type": "markdown",
   "metadata": {},
   "source": [
    "# Introduction\n",
    "\n",
    "### Objectives\n",
    "\n",
    "In this lab, you will use the \"Cleveland Data CLEANED AND TRIMMED.csv\" heart disease dataset provided on Carmen.  It is a subset of the \"Cleveland\" dataset that can be found here: https://archive.ics.uci.edu/ml/datasets/Heart+Disease\n",
    "\n",
    "You will configure, execute, and evaluate an off-the-shelf K-Nearest-Neighbor classifier and two other classifiers you choose.\n",
    "\n",
    "The objectives of this assignment are:\n",
    "1.\tUnderstand how to evaluate classifiers based on business criteria.\n",
    "2.\tUnderstand how to tune and evaluate a classifier to achieve good performance.\n",
    "3.\tUnderstand how to select and evaluate suitable off-the-shelf classifiers based on the characteristics of a dataset and the outcomes you need.\n",
    "\n",
    "### Problem Statement\n",
    "\n",
    "You work for a medical institution that wants to improve the heart health of its patients.  You have obtained a dataset that contains a variety of demographic and health-related information for a group of patients.  It also includes a CLASS variable \"num\" that indicates the heart health of each of the patients.  The values are:\n",
    "\n",
    "0. No heart health issues / risk\n",
    "1. Slight heart health issues / risk\n",
    "2. Moderate heart health issues / risk\n",
    "3. High heart health issues / risk\n",
    "4. Extreme heart health issue / risk\n",
    "\n",
    "You have been asked to develop a classifier based on the dataset data, to predict the CLASS of new patients so they can be enrolled in interventions based on their demographic data.\n",
    "\n",
    "The COSTs of the interventions are as follows, based on the predicted class of each patient\n",
    "\n",
    "0) Tiny intervention: 100 (dollars)\n",
    "1) Minor intervention: 200\n",
    "2) Moderate intervention: 300\n",
    "3) Significant intervention: 400\n",
    "4) Extreme intervention: 500\n",
    "\n",
    "The BENEFITs of the interventions are as follows:\n",
    "\n",
    "- If the classification is correct and the correct intervention given to the patient: 500 * (TRUE_CLASS + 1)\n",
    "- If an incorrect classification is made and the wrong intervention is given to the patient: 0\n",
    "\n",
    "You would like to find a classifier that maximizes the overall **NET_BENEFIT = BENEFIT - COST**. Therefore, a larger positive number is a good outcome.\n",
    "\n",
    "So, for example:\n",
    "\n",
    "- If a patient's true class is 4 and their predicted class is 0, their NET_BENEFIT = 0 - 100 = -100\n",
    "- If a patient's true class is 4 and they are correctly classified, their NET_BENEFIT is 500*(4+1) - 500 = 2000\n",
    "\n",
    "The medical institution would like you to evaluate the use of a K-Nearest-Neighbor classifier as a starting point.  You agree to do so, as long as you then can choose a different classifier if you are not satisfied with KNN.\n",
    "\n",
    "### Collaboration\n",
    "For this assignment, you should work as an individual. You may informally discuss ideas with classmates, but your work should be your own.\n",
    "\n",
    "### What you need to turn in:\n",
    "1)\tCode\n",
    "\n",
    "-\tFor this homework, the code is the Jupyter Notebook.  Use the provided Jupyter Notebook template, and fill in the appropriate information.\n",
    "-\tYou may use common Python libraries for I/O, data manipulation, data visualization, etc. (e.g., NumPy, Pandas, MatPlotLib,…  See reference below.) \n",
    "-\tYou may not use library operations that perform, in effect, the “core” computations for this homework (e.g., If the assignment is to write a K-Means algorithm, you may not use a library operation that, in effect, does the core work needed to implement a K-Means algorithm.).  When in doubt, ask the grader or instructor.\n",
    "-\tThe code must be written by you, and any significant code snips you found on the Internet and used to understand how to do your coding for the core functionality must be attributed.  (You do not need to attribute basic functionality – matrix operations, IO, etc.)\n",
    "-\tThe code must be commented sufficiently to allow a reader to understand the algorithm without reading the actual Python, step by step.\n",
    "-\tWhen in doubt, ask the grader or instructor.\n",
    "\n",
    "2)\tWritten Report\n",
    "-\tFor this homework, the report is the Jupyter Notebook.  The report should be well-written.  Please proof-read and remove spelling and grammar errors and typos.\n",
    "-\tThe report should discuss your analysis and observations. Key points and findings must be written in a style suitable for consumption by non-experts.  Present charts and graphs to support your observations. If you performed any data processing, cleaning, etc., please discuss it within the report.\n",
    "\n",
    "### Grading\n",
    "\n",
    "1.\tOverall readability and organization of your report (5%)\n",
    "> - Is it well organized and does the presentation flow in a logical manner?\n",
    "> - Are there no grammar and spelling mistakes?\n",
    "> - Do the charts/graphs relate to the text?\n",
    "> - Are the summarized key points and findings understandable by non-experts?\n",
    "> - Do the Overview and Conclusions provide context for the entire exercise?\n",
    "2.\tEvaluation Method (10%)\n",
    "> - Does your evaluation method meet the needs of the developer (you) as well as the needs of your business stakeholders?\n",
    "> - Is the evaluation method sound?\n",
    "> - Did you describe both the method itself and why you chose it?\n",
    "3.\tPre-Processing of the Dataset (10%)\n",
    "> - Did you make reasonable choices for pre-processing, and explain why you made them?\n",
    "4.\tEvaluation of the KNN Classifier (20%)\n",
    "> - Is your algorithm design and coding correct?\n",
    "> - Is it well documented?\n",
    "> - Have you made an effort to tune it for good performance?\n",
    "> - Is the evaluation sound?\n",
    "5.\tEvaluation of the Second Classifier (20%)\n",
    "> - Is your algorithm design and coding correct?\n",
    "> - Is it well documented?\n",
    "> - Have you made an effort to tune it for good performance?\n",
    "> - Is the evaluation sound?\n",
    "6.\tEvaluation of the Third Classifier (20%)\n",
    "> - Is your algorithm design and coding correct?\n",
    "> - Is it well documented?\n",
    "> - Have you made an effort to tune it for good performance?\n",
    "> - Is the evaluation sound?\n",
    "7.\tComparison of the Three Classifiers (10%)\n",
    "> - Is the comparison sound?\n",
    "> - Did you choose a specific classifier as best and explain why?\n",
    "8.  Conclusions (5%)\n",
    "> - Did you summarize appropriately your critical findings. \n",
    "> - Did you provide appropriate conclusions and next steps.\n",
    "\n",
    "### How to turn in your work on Carmen:\n",
    "\n",
    "Submit to Carmen the Jupyter Notebook, the html print out of your Jupyter notebook, and any supporting files that you used to process and analyze this data. You do not need to include the input data.  All submitted files (code and/or report) except for the data should be archived in a *.zip file, and submitted via Carmen.  Use this naming convention:\n",
    " \n",
    "•\tHW2_Surname_DotNumber.zip\n",
    "\n",
    "The submitted file should be less than 10MB.\n",
    "\n",
    "***"
   ]
  },
  {
   "cell_type": "markdown",
   "metadata": {
    "tags": []
   },
   "source": [
    "***\n",
    "# Section: Overview\n",
    "- Insert a short description of the scope of this exercise, any supporting information, etc.\n",
    "***"
   ]
  },
  {
   "cell_type": "markdown",
   "metadata": {},
   "source": [
    "- Understand the task and define the evaluation Method\n",
    "- Pre-Processing of the dataset\n",
    "- Building and evaluation of three Classifier\n",
    "- Comparison of the Three Classifiers"
   ]
  },
  {
   "cell_type": "markdown",
   "metadata": {},
   "source": [
    "***\n",
    "# Section: Setup\n",
    "- Add any needed imports, helper functions, etc., here.\n",
    "***"
   ]
  },
  {
   "cell_type": "code",
   "execution_count": 1,
   "metadata": {},
   "outputs": [],
   "source": [
    "import numpy as np\n",
    "import pandas as pd\n",
    "import matplotlib.pyplot as plt\n",
    "import seaborn as sns\n",
    "from scipy.stats import chi2_contingency, chi2\n",
    "from sklearn.preprocessing import MinMaxScaler\n",
    "import sklearn as sk\n",
    "import statsmodels.api as sm\n",
    "import statsmodels.formula.api as smf\n",
    "import os\n",
    "from sklearn.linear_model import LogisticRegression\n",
    "from sklearn.model_selection import train_test_split\n",
    "from sklearn.metrics import classification_report,confusion_matrix,roc_auc_score,roc_curve,accuracy_score, auc\n",
    "from sklearn.neighbors import KNeighborsClassifier\n",
    "from sklearn.model_selection import cross_val_score, train_test_split\n",
    "from sklearn.feature_selection import SelectKBest, chi2"
   ]
  },
  {
   "cell_type": "markdown",
   "metadata": {},
   "source": [
    "***\n",
    "# Section: 1 - Evaluation Method\n",
    "- Define measures for evaluating the classification models you develop.  Explain why the measures you choose provide a useful view into the value and usefulness of the model you eventually chose for the company to use.  Define two types:\n",
    "***"
   ]
  },
  {
   "cell_type": "markdown",
   "metadata": {},
   "source": [
    "***\n",
    "## Section: 1.1 - Define measures that do not include the cost information\n",
    "- (e.g., confusion matrices, accuracy, precision, recall, F-measures, etc.).\n",
    "- Consider using: from sklearn.metrics import classification_report, confusion_matrix\n",
    "***"
   ]
  },
  {
   "cell_type": "markdown",
   "metadata": {},
   "source": [
    "classification report\n",
    "\n",
    "- sklearn.metrics.classification_report(y_true, y_pred, labels=None, target_names=None, sample_weight=None, digits=2)\n",
    "- return: String( including: precision, recall, F-measures, macro avg, micro avg)\n",
    "\n",
    "confusion matrix\n",
    "\n",
    "- sklearn.metrics.confusion_matrix(y_true, y_pred, labels=None, sample_weight=None)\n",
    "- return: array, shape=[classes num, classes num], confusion matrices"
   ]
  },
  {
   "cell_type": "markdown",
   "metadata": {},
   "source": [
    "***\n",
    "## Section: 1.2 - Define measures that do include the cost information\n",
    "- (e.g., using cost matrices).\n",
    "- Consider creating a function that takes a confusion matrix and calculates the cost, like this:\n",
    "***"
   ]
  },
  {
   "cell_type": "code",
   "execution_count": 3,
   "metadata": {},
   "outputs": [],
   "source": [
    "def calculate_cost(conf_matrix):\n",
    "    cost_matrix = [[ 100,   200,  300,  400,  500],\n",
    "                    [ 100,   200,  300,  400,  500],\n",
    "                    [ 100,   200,  300,  400,  500],\n",
    "                    [ 100,   200,  300,  400,  500],\n",
    "                    [ 100,   200,  300,  400,  500]]\n",
    "    total = 0\n",
    "    for r in range(0, 5):\n",
    "        for c in range(0, 5):\n",
    "            total = total + cost_matrix[r][c] * conf_matrix[r][c]\n",
    "    return total"
   ]
  },
  {
   "cell_type": "code",
   "execution_count": 4,
   "metadata": {},
   "outputs": [],
   "source": [
    "def calculate_benefit(conf_matrix):\n",
    "    cost_matrix = [[ 500,    0,    0,    0,    0],\n",
    "                  [   0,  1000,   0,    0,    0],\n",
    "                  [   0,    0,  1500,   0,    0],\n",
    "                  [   0,    0,    0,  2000,   0],\n",
    "                  [   0,    0,    0,    0, 2500]]\n",
    "    total = 0\n",
    "    for r in range(0, 5):\n",
    "        for c in range(0, 5):\n",
    "            total = total + cost_matrix[r][c] * conf_matrix[r][c]\n",
    "    return total"
   ]
  },
  {
   "cell_type": "code",
   "execution_count": 5,
   "metadata": {},
   "outputs": [],
   "source": [
    "def calculate_net_benefit(conf_matrix):\n",
    "    cost = calculate_cost(conf_matrix)\n",
    "    benefit = calculate_benefit(conf_matrix)\n",
    "    net_benefit = calculate_benefit(conf_matrix) - calculate_cost(conf_matrix)\n",
    "    return net_benefit"
   ]
  },
  {
   "cell_type": "markdown",
   "metadata": {},
   "source": [
    "***\n",
    "# Section: 2 - Pre-Processing of the Dataset\n",
    "- Use the provided dataset.  Split it into a Training dataset and a Test dataset based on the class attribute.  Keep them separate and use the Training dataset for training/tuning and the Test dataset for testing. For consistency, use the **train_test_split** operation available in SciKit Learn (use a specific random seed, so it is reproducible).\n",
    "  - from sklearn.model_selection import train_test_split\n",
    "  - X_train, X_test, y_train, y_test = train_test_split(X, y, test_size=0.33, random_state=42)\n",
    "***"
   ]
  },
  {
   "cell_type": "markdown",
   "metadata": {},
   "source": [
    "***\n",
    "## Section: 2.1 - Explore the attributes\n",
    "- As in Homework 1, explore the attributes briefly. Reference the website listed in the Introduction.\n",
    "- Provide basic statistics for the attributes.\n",
    "- List which attributes are Nominal (even though they are encoded as numbers), Ordinal, Interval, Ratio.\n",
    "***"
   ]
  },
  {
   "cell_type": "code",
   "execution_count": 38,
   "metadata": {},
   "outputs": [
    {
     "data": {
      "text/html": [
       "<div>\n",
       "<style scoped>\n",
       "    .dataframe tbody tr th:only-of-type {\n",
       "        vertical-align: middle;\n",
       "    }\n",
       "\n",
       "    .dataframe tbody tr th {\n",
       "        vertical-align: top;\n",
       "    }\n",
       "\n",
       "    .dataframe thead th {\n",
       "        text-align: right;\n",
       "    }\n",
       "</style>\n",
       "<table border=\"1\" class=\"dataframe\">\n",
       "  <thead>\n",
       "    <tr style=\"text-align: right;\">\n",
       "      <th></th>\n",
       "      <th>id</th>\n",
       "      <th>age</th>\n",
       "      <th>sex</th>\n",
       "      <th>pain</th>\n",
       "      <th>blood_pressure</th>\n",
       "      <th>chol</th>\n",
       "      <th>blood_sugar</th>\n",
       "      <th>electrocardiographic</th>\n",
       "      <th>max_heartrate</th>\n",
       "      <th>exercise_angina</th>\n",
       "      <th>oldpeak</th>\n",
       "      <th>slope</th>\n",
       "      <th>vessels_num</th>\n",
       "      <th>thal</th>\n",
       "      <th>diagnosis</th>\n",
       "    </tr>\n",
       "  </thead>\n",
       "  <tbody>\n",
       "    <tr>\n",
       "      <th>0</th>\n",
       "      <td>1</td>\n",
       "      <td>63</td>\n",
       "      <td>1</td>\n",
       "      <td>1</td>\n",
       "      <td>145</td>\n",
       "      <td>233</td>\n",
       "      <td>1</td>\n",
       "      <td>2</td>\n",
       "      <td>150</td>\n",
       "      <td>0</td>\n",
       "      <td>2.3</td>\n",
       "      <td>3</td>\n",
       "      <td>0</td>\n",
       "      <td>6</td>\n",
       "      <td>0</td>\n",
       "    </tr>\n",
       "    <tr>\n",
       "      <th>1</th>\n",
       "      <td>2</td>\n",
       "      <td>67</td>\n",
       "      <td>1</td>\n",
       "      <td>4</td>\n",
       "      <td>160</td>\n",
       "      <td>286</td>\n",
       "      <td>0</td>\n",
       "      <td>2</td>\n",
       "      <td>108</td>\n",
       "      <td>1</td>\n",
       "      <td>1.5</td>\n",
       "      <td>2</td>\n",
       "      <td>3</td>\n",
       "      <td>3</td>\n",
       "      <td>2</td>\n",
       "    </tr>\n",
       "    <tr>\n",
       "      <th>2</th>\n",
       "      <td>3</td>\n",
       "      <td>67</td>\n",
       "      <td>1</td>\n",
       "      <td>4</td>\n",
       "      <td>120</td>\n",
       "      <td>229</td>\n",
       "      <td>0</td>\n",
       "      <td>2</td>\n",
       "      <td>129</td>\n",
       "      <td>1</td>\n",
       "      <td>2.6</td>\n",
       "      <td>2</td>\n",
       "      <td>2</td>\n",
       "      <td>7</td>\n",
       "      <td>1</td>\n",
       "    </tr>\n",
       "    <tr>\n",
       "      <th>3</th>\n",
       "      <td>4</td>\n",
       "      <td>37</td>\n",
       "      <td>1</td>\n",
       "      <td>3</td>\n",
       "      <td>130</td>\n",
       "      <td>250</td>\n",
       "      <td>0</td>\n",
       "      <td>0</td>\n",
       "      <td>187</td>\n",
       "      <td>0</td>\n",
       "      <td>3.5</td>\n",
       "      <td>3</td>\n",
       "      <td>0</td>\n",
       "      <td>3</td>\n",
       "      <td>0</td>\n",
       "    </tr>\n",
       "    <tr>\n",
       "      <th>4</th>\n",
       "      <td>5</td>\n",
       "      <td>41</td>\n",
       "      <td>0</td>\n",
       "      <td>2</td>\n",
       "      <td>130</td>\n",
       "      <td>204</td>\n",
       "      <td>0</td>\n",
       "      <td>2</td>\n",
       "      <td>172</td>\n",
       "      <td>0</td>\n",
       "      <td>1.4</td>\n",
       "      <td>1</td>\n",
       "      <td>0</td>\n",
       "      <td>3</td>\n",
       "      <td>0</td>\n",
       "    </tr>\n",
       "    <tr>\n",
       "      <th>...</th>\n",
       "      <td>...</td>\n",
       "      <td>...</td>\n",
       "      <td>...</td>\n",
       "      <td>...</td>\n",
       "      <td>...</td>\n",
       "      <td>...</td>\n",
       "      <td>...</td>\n",
       "      <td>...</td>\n",
       "      <td>...</td>\n",
       "      <td>...</td>\n",
       "      <td>...</td>\n",
       "      <td>...</td>\n",
       "      <td>...</td>\n",
       "      <td>...</td>\n",
       "      <td>...</td>\n",
       "    </tr>\n",
       "    <tr>\n",
       "      <th>277</th>\n",
       "      <td>278</td>\n",
       "      <td>39</td>\n",
       "      <td>0</td>\n",
       "      <td>3</td>\n",
       "      <td>138</td>\n",
       "      <td>220</td>\n",
       "      <td>0</td>\n",
       "      <td>0</td>\n",
       "      <td>152</td>\n",
       "      <td>0</td>\n",
       "      <td>0.0</td>\n",
       "      <td>2</td>\n",
       "      <td>0</td>\n",
       "      <td>3</td>\n",
       "      <td>0</td>\n",
       "    </tr>\n",
       "    <tr>\n",
       "      <th>278</th>\n",
       "      <td>279</td>\n",
       "      <td>57</td>\n",
       "      <td>1</td>\n",
       "      <td>2</td>\n",
       "      <td>154</td>\n",
       "      <td>232</td>\n",
       "      <td>0</td>\n",
       "      <td>2</td>\n",
       "      <td>164</td>\n",
       "      <td>0</td>\n",
       "      <td>0.0</td>\n",
       "      <td>1</td>\n",
       "      <td>1</td>\n",
       "      <td>3</td>\n",
       "      <td>1</td>\n",
       "    </tr>\n",
       "    <tr>\n",
       "      <th>279</th>\n",
       "      <td>280</td>\n",
       "      <td>58</td>\n",
       "      <td>0</td>\n",
       "      <td>4</td>\n",
       "      <td>130</td>\n",
       "      <td>197</td>\n",
       "      <td>0</td>\n",
       "      <td>0</td>\n",
       "      <td>131</td>\n",
       "      <td>0</td>\n",
       "      <td>0.6</td>\n",
       "      <td>2</td>\n",
       "      <td>0</td>\n",
       "      <td>3</td>\n",
       "      <td>0</td>\n",
       "    </tr>\n",
       "    <tr>\n",
       "      <th>280</th>\n",
       "      <td>281</td>\n",
       "      <td>57</td>\n",
       "      <td>1</td>\n",
       "      <td>4</td>\n",
       "      <td>110</td>\n",
       "      <td>335</td>\n",
       "      <td>0</td>\n",
       "      <td>0</td>\n",
       "      <td>143</td>\n",
       "      <td>1</td>\n",
       "      <td>3.0</td>\n",
       "      <td>2</td>\n",
       "      <td>1</td>\n",
       "      <td>7</td>\n",
       "      <td>2</td>\n",
       "    </tr>\n",
       "    <tr>\n",
       "      <th>281</th>\n",
       "      <td>282</td>\n",
       "      <td>47</td>\n",
       "      <td>1</td>\n",
       "      <td>3</td>\n",
       "      <td>130</td>\n",
       "      <td>253</td>\n",
       "      <td>0</td>\n",
       "      <td>0</td>\n",
       "      <td>179</td>\n",
       "      <td>0</td>\n",
       "      <td>0.0</td>\n",
       "      <td>1</td>\n",
       "      <td>0</td>\n",
       "      <td>3</td>\n",
       "      <td>0</td>\n",
       "    </tr>\n",
       "  </tbody>\n",
       "</table>\n",
       "<p>282 rows × 15 columns</p>\n",
       "</div>"
      ],
      "text/plain": [
       "      id  age  sex  pain  blood_pressure  chol  blood_sugar  \\\n",
       "0      1   63    1     1             145   233            1   \n",
       "1      2   67    1     4             160   286            0   \n",
       "2      3   67    1     4             120   229            0   \n",
       "3      4   37    1     3             130   250            0   \n",
       "4      5   41    0     2             130   204            0   \n",
       "..   ...  ...  ...   ...             ...   ...          ...   \n",
       "277  278   39    0     3             138   220            0   \n",
       "278  279   57    1     2             154   232            0   \n",
       "279  280   58    0     4             130   197            0   \n",
       "280  281   57    1     4             110   335            0   \n",
       "281  282   47    1     3             130   253            0   \n",
       "\n",
       "     electrocardiographic  max_heartrate  exercise_angina  oldpeak  slope  \\\n",
       "0                       2            150                0      2.3      3   \n",
       "1                       2            108                1      1.5      2   \n",
       "2                       2            129                1      2.6      2   \n",
       "3                       0            187                0      3.5      3   \n",
       "4                       2            172                0      1.4      1   \n",
       "..                    ...            ...              ...      ...    ...   \n",
       "277                     0            152                0      0.0      2   \n",
       "278                     2            164                0      0.0      1   \n",
       "279                     0            131                0      0.6      2   \n",
       "280                     0            143                1      3.0      2   \n",
       "281                     0            179                0      0.0      1   \n",
       "\n",
       "     vessels_num  thal  diagnosis  \n",
       "0              0     6          0  \n",
       "1              3     3          2  \n",
       "2              2     7          1  \n",
       "3              0     3          0  \n",
       "4              0     3          0  \n",
       "..           ...   ...        ...  \n",
       "277            0     3          0  \n",
       "278            1     3          1  \n",
       "279            0     3          0  \n",
       "280            1     7          2  \n",
       "281            0     3          0  \n",
       "\n",
       "[282 rows x 15 columns]"
      ]
     },
     "execution_count": 38,
     "metadata": {},
     "output_type": "execute_result"
    }
   ],
   "source": [
    "data = pd.read_csv(\"Cleveland Data CLEANED AND TRIMMED.csv\",header = 0, names = ['id','age','sex','pain','blood_pressure','chol','blood_sugar','electrocardiographic','max_heartrate','exercise_angina','oldpeak','slope','vessels_num','thal','diagnosis'])\n",
    "data\n",
    "#rows represent:"
   ]
  },
  {
   "cell_type": "code",
   "execution_count": 39,
   "metadata": {},
   "outputs": [
    {
     "data": {
      "text/html": [
       "<div>\n",
       "<style scoped>\n",
       "    .dataframe tbody tr th:only-of-type {\n",
       "        vertical-align: middle;\n",
       "    }\n",
       "\n",
       "    .dataframe tbody tr th {\n",
       "        vertical-align: top;\n",
       "    }\n",
       "\n",
       "    .dataframe thead th {\n",
       "        text-align: right;\n",
       "    }\n",
       "</style>\n",
       "<table border=\"1\" class=\"dataframe\">\n",
       "  <thead>\n",
       "    <tr style=\"text-align: right;\">\n",
       "      <th></th>\n",
       "      <th>id</th>\n",
       "      <th>age</th>\n",
       "      <th>sex</th>\n",
       "      <th>pain</th>\n",
       "      <th>blood_pressure</th>\n",
       "      <th>chol</th>\n",
       "      <th>blood_sugar</th>\n",
       "      <th>electrocardiographic</th>\n",
       "      <th>max_heartrate</th>\n",
       "      <th>exercise_angina</th>\n",
       "      <th>oldpeak</th>\n",
       "      <th>slope</th>\n",
       "      <th>vessels_num</th>\n",
       "      <th>thal</th>\n",
       "      <th>diagnosis</th>\n",
       "    </tr>\n",
       "  </thead>\n",
       "  <tbody>\n",
       "    <tr>\n",
       "      <th>count</th>\n",
       "      <td>282.000000</td>\n",
       "      <td>282.000000</td>\n",
       "      <td>282.000000</td>\n",
       "      <td>282.000000</td>\n",
       "      <td>282.000000</td>\n",
       "      <td>282.000000</td>\n",
       "      <td>282.000000</td>\n",
       "      <td>282.000000</td>\n",
       "      <td>282.000000</td>\n",
       "      <td>282.000000</td>\n",
       "      <td>282.000000</td>\n",
       "      <td>282.000000</td>\n",
       "      <td>282.000000</td>\n",
       "      <td>282.000000</td>\n",
       "      <td>282.000000</td>\n",
       "    </tr>\n",
       "    <tr>\n",
       "      <th>mean</th>\n",
       "      <td>141.500000</td>\n",
       "      <td>54.411348</td>\n",
       "      <td>0.677305</td>\n",
       "      <td>3.163121</td>\n",
       "      <td>131.563830</td>\n",
       "      <td>249.092199</td>\n",
       "      <td>0.148936</td>\n",
       "      <td>1.014184</td>\n",
       "      <td>149.765957</td>\n",
       "      <td>0.326241</td>\n",
       "      <td>1.026950</td>\n",
       "      <td>1.585106</td>\n",
       "      <td>0.595745</td>\n",
       "      <td>4.581560</td>\n",
       "      <td>0.907801</td>\n",
       "    </tr>\n",
       "    <tr>\n",
       "      <th>std</th>\n",
       "      <td>81.550598</td>\n",
       "      <td>9.053083</td>\n",
       "      <td>0.468338</td>\n",
       "      <td>0.955405</td>\n",
       "      <td>17.757496</td>\n",
       "      <td>51.217546</td>\n",
       "      <td>0.356658</td>\n",
       "      <td>0.998118</td>\n",
       "      <td>22.923869</td>\n",
       "      <td>0.469670</td>\n",
       "      <td>1.138825</td>\n",
       "      <td>0.609700</td>\n",
       "      <td>1.236910</td>\n",
       "      <td>2.248467</td>\n",
       "      <td>1.224894</td>\n",
       "    </tr>\n",
       "    <tr>\n",
       "      <th>min</th>\n",
       "      <td>1.000000</td>\n",
       "      <td>29.000000</td>\n",
       "      <td>0.000000</td>\n",
       "      <td>1.000000</td>\n",
       "      <td>94.000000</td>\n",
       "      <td>126.000000</td>\n",
       "      <td>0.000000</td>\n",
       "      <td>0.000000</td>\n",
       "      <td>71.000000</td>\n",
       "      <td>0.000000</td>\n",
       "      <td>0.000000</td>\n",
       "      <td>1.000000</td>\n",
       "      <td>-9.000000</td>\n",
       "      <td>-9.000000</td>\n",
       "      <td>0.000000</td>\n",
       "    </tr>\n",
       "    <tr>\n",
       "      <th>25%</th>\n",
       "      <td>71.250000</td>\n",
       "      <td>48.000000</td>\n",
       "      <td>0.000000</td>\n",
       "      <td>3.000000</td>\n",
       "      <td>120.000000</td>\n",
       "      <td>213.000000</td>\n",
       "      <td>0.000000</td>\n",
       "      <td>0.000000</td>\n",
       "      <td>133.250000</td>\n",
       "      <td>0.000000</td>\n",
       "      <td>0.000000</td>\n",
       "      <td>1.000000</td>\n",
       "      <td>0.000000</td>\n",
       "      <td>3.000000</td>\n",
       "      <td>0.000000</td>\n",
       "    </tr>\n",
       "    <tr>\n",
       "      <th>50%</th>\n",
       "      <td>141.500000</td>\n",
       "      <td>55.000000</td>\n",
       "      <td>1.000000</td>\n",
       "      <td>3.000000</td>\n",
       "      <td>130.000000</td>\n",
       "      <td>244.000000</td>\n",
       "      <td>0.000000</td>\n",
       "      <td>2.000000</td>\n",
       "      <td>153.500000</td>\n",
       "      <td>0.000000</td>\n",
       "      <td>0.800000</td>\n",
       "      <td>2.000000</td>\n",
       "      <td>0.000000</td>\n",
       "      <td>3.000000</td>\n",
       "      <td>0.000000</td>\n",
       "    </tr>\n",
       "    <tr>\n",
       "      <th>75%</th>\n",
       "      <td>211.750000</td>\n",
       "      <td>61.000000</td>\n",
       "      <td>1.000000</td>\n",
       "      <td>4.000000</td>\n",
       "      <td>140.000000</td>\n",
       "      <td>277.000000</td>\n",
       "      <td>0.000000</td>\n",
       "      <td>2.000000</td>\n",
       "      <td>165.750000</td>\n",
       "      <td>1.000000</td>\n",
       "      <td>1.600000</td>\n",
       "      <td>2.000000</td>\n",
       "      <td>1.000000</td>\n",
       "      <td>7.000000</td>\n",
       "      <td>2.000000</td>\n",
       "    </tr>\n",
       "    <tr>\n",
       "      <th>max</th>\n",
       "      <td>282.000000</td>\n",
       "      <td>77.000000</td>\n",
       "      <td>1.000000</td>\n",
       "      <td>4.000000</td>\n",
       "      <td>200.000000</td>\n",
       "      <td>564.000000</td>\n",
       "      <td>1.000000</td>\n",
       "      <td>2.000000</td>\n",
       "      <td>202.000000</td>\n",
       "      <td>1.000000</td>\n",
       "      <td>6.200000</td>\n",
       "      <td>3.000000</td>\n",
       "      <td>3.000000</td>\n",
       "      <td>7.000000</td>\n",
       "      <td>4.000000</td>\n",
       "    </tr>\n",
       "  </tbody>\n",
       "</table>\n",
       "</div>"
      ],
      "text/plain": [
       "               id         age         sex        pain  blood_pressure  \\\n",
       "count  282.000000  282.000000  282.000000  282.000000      282.000000   \n",
       "mean   141.500000   54.411348    0.677305    3.163121      131.563830   \n",
       "std     81.550598    9.053083    0.468338    0.955405       17.757496   \n",
       "min      1.000000   29.000000    0.000000    1.000000       94.000000   \n",
       "25%     71.250000   48.000000    0.000000    3.000000      120.000000   \n",
       "50%    141.500000   55.000000    1.000000    3.000000      130.000000   \n",
       "75%    211.750000   61.000000    1.000000    4.000000      140.000000   \n",
       "max    282.000000   77.000000    1.000000    4.000000      200.000000   \n",
       "\n",
       "             chol  blood_sugar  electrocardiographic  max_heartrate  \\\n",
       "count  282.000000   282.000000            282.000000     282.000000   \n",
       "mean   249.092199     0.148936              1.014184     149.765957   \n",
       "std     51.217546     0.356658              0.998118      22.923869   \n",
       "min    126.000000     0.000000              0.000000      71.000000   \n",
       "25%    213.000000     0.000000              0.000000     133.250000   \n",
       "50%    244.000000     0.000000              2.000000     153.500000   \n",
       "75%    277.000000     0.000000              2.000000     165.750000   \n",
       "max    564.000000     1.000000              2.000000     202.000000   \n",
       "\n",
       "       exercise_angina     oldpeak       slope  vessels_num        thal  \\\n",
       "count       282.000000  282.000000  282.000000   282.000000  282.000000   \n",
       "mean          0.326241    1.026950    1.585106     0.595745    4.581560   \n",
       "std           0.469670    1.138825    0.609700     1.236910    2.248467   \n",
       "min           0.000000    0.000000    1.000000    -9.000000   -9.000000   \n",
       "25%           0.000000    0.000000    1.000000     0.000000    3.000000   \n",
       "50%           0.000000    0.800000    2.000000     0.000000    3.000000   \n",
       "75%           1.000000    1.600000    2.000000     1.000000    7.000000   \n",
       "max           1.000000    6.200000    3.000000     3.000000    7.000000   \n",
       "\n",
       "        diagnosis  \n",
       "count  282.000000  \n",
       "mean     0.907801  \n",
       "std      1.224894  \n",
       "min      0.000000  \n",
       "25%      0.000000  \n",
       "50%      0.000000  \n",
       "75%      2.000000  \n",
       "max      4.000000  "
      ]
     },
     "execution_count": 39,
     "metadata": {},
     "output_type": "execute_result"
    }
   ],
   "source": [
    "data.describe()"
   ]
  },
  {
   "cell_type": "markdown",
   "metadata": {},
   "source": [
    "### atrribute types\n",
    "- ordinal: id, age, trestbps, chol, thalach, oldpeak, ca\n",
    "- nominal: sex, cp, restecg, exang, slope, thal, num\n",
    "- interval: fbs"
   ]
  },
  {
   "cell_type": "markdown",
   "metadata": {},
   "source": [
    "### Change all the missing values to the average value of that feature WITHIN the specfic outcome group."
   ]
  },
  {
   "cell_type": "code",
   "execution_count": 40,
   "metadata": {},
   "outputs": [
    {
     "name": "stderr",
     "output_type": "stream",
     "text": [
      "/opt/anaconda3/lib/python3.7/site-packages/numpy/core/fromnumeric.py:3335: RuntimeWarning: Mean of empty slice.\n",
      "  out=out, **kwargs)\n",
      "/opt/anaconda3/lib/python3.7/site-packages/numpy/core/_methods.py:161: RuntimeWarning: invalid value encountered in double_scalars\n",
      "  ret = ret.dtype.type(ret / rcount)\n"
     ]
    },
    {
     "data": {
      "text/html": [
       "<div>\n",
       "<style scoped>\n",
       "    .dataframe tbody tr th:only-of-type {\n",
       "        vertical-align: middle;\n",
       "    }\n",
       "\n",
       "    .dataframe tbody tr th {\n",
       "        vertical-align: top;\n",
       "    }\n",
       "\n",
       "    .dataframe thead th {\n",
       "        text-align: right;\n",
       "    }\n",
       "</style>\n",
       "<table border=\"1\" class=\"dataframe\">\n",
       "  <thead>\n",
       "    <tr style=\"text-align: right;\">\n",
       "      <th></th>\n",
       "      <th>id</th>\n",
       "      <th>age</th>\n",
       "      <th>sex</th>\n",
       "      <th>pain</th>\n",
       "      <th>blood_pressure</th>\n",
       "      <th>chol</th>\n",
       "      <th>blood_sugar</th>\n",
       "      <th>electrocardiographic</th>\n",
       "      <th>max_heartrate</th>\n",
       "      <th>exercise_angina</th>\n",
       "      <th>oldpeak</th>\n",
       "      <th>slope</th>\n",
       "      <th>vessels_num</th>\n",
       "      <th>thal</th>\n",
       "      <th>diagnosis</th>\n",
       "    </tr>\n",
       "  </thead>\n",
       "  <tbody>\n",
       "    <tr>\n",
       "      <th>count</th>\n",
       "      <td>282.000000</td>\n",
       "      <td>282.000000</td>\n",
       "      <td>282.000000</td>\n",
       "      <td>282.000000</td>\n",
       "      <td>282.000000</td>\n",
       "      <td>282.000000</td>\n",
       "      <td>282.000000</td>\n",
       "      <td>282.000000</td>\n",
       "      <td>282.000000</td>\n",
       "      <td>282.000000</td>\n",
       "      <td>282.000000</td>\n",
       "      <td>282.000000</td>\n",
       "      <td>282.000000</td>\n",
       "      <td>282.000000</td>\n",
       "      <td>282.000000</td>\n",
       "    </tr>\n",
       "    <tr>\n",
       "      <th>mean</th>\n",
       "      <td>141.500000</td>\n",
       "      <td>54.411348</td>\n",
       "      <td>0.677305</td>\n",
       "      <td>3.163121</td>\n",
       "      <td>131.563830</td>\n",
       "      <td>249.092199</td>\n",
       "      <td>0.148936</td>\n",
       "      <td>1.014184</td>\n",
       "      <td>149.765957</td>\n",
       "      <td>0.326241</td>\n",
       "      <td>1.026950</td>\n",
       "      <td>1.585106</td>\n",
       "      <td>0.659574</td>\n",
       "      <td>4.673759</td>\n",
       "      <td>0.907801</td>\n",
       "    </tr>\n",
       "    <tr>\n",
       "      <th>std</th>\n",
       "      <td>81.550598</td>\n",
       "      <td>9.053083</td>\n",
       "      <td>0.468338</td>\n",
       "      <td>0.955405</td>\n",
       "      <td>17.757496</td>\n",
       "      <td>51.217546</td>\n",
       "      <td>0.356658</td>\n",
       "      <td>0.998118</td>\n",
       "      <td>22.923869</td>\n",
       "      <td>0.469670</td>\n",
       "      <td>1.138825</td>\n",
       "      <td>0.609700</td>\n",
       "      <td>0.934356</td>\n",
       "      <td>1.934870</td>\n",
       "      <td>1.224894</td>\n",
       "    </tr>\n",
       "    <tr>\n",
       "      <th>min</th>\n",
       "      <td>1.000000</td>\n",
       "      <td>29.000000</td>\n",
       "      <td>0.000000</td>\n",
       "      <td>1.000000</td>\n",
       "      <td>94.000000</td>\n",
       "      <td>126.000000</td>\n",
       "      <td>0.000000</td>\n",
       "      <td>0.000000</td>\n",
       "      <td>71.000000</td>\n",
       "      <td>0.000000</td>\n",
       "      <td>0.000000</td>\n",
       "      <td>1.000000</td>\n",
       "      <td>0.000000</td>\n",
       "      <td>3.000000</td>\n",
       "      <td>0.000000</td>\n",
       "    </tr>\n",
       "    <tr>\n",
       "      <th>25%</th>\n",
       "      <td>71.250000</td>\n",
       "      <td>48.000000</td>\n",
       "      <td>0.000000</td>\n",
       "      <td>3.000000</td>\n",
       "      <td>120.000000</td>\n",
       "      <td>213.000000</td>\n",
       "      <td>0.000000</td>\n",
       "      <td>0.000000</td>\n",
       "      <td>133.250000</td>\n",
       "      <td>0.000000</td>\n",
       "      <td>0.000000</td>\n",
       "      <td>1.000000</td>\n",
       "      <td>0.000000</td>\n",
       "      <td>3.000000</td>\n",
       "      <td>0.000000</td>\n",
       "    </tr>\n",
       "    <tr>\n",
       "      <th>50%</th>\n",
       "      <td>141.500000</td>\n",
       "      <td>55.000000</td>\n",
       "      <td>1.000000</td>\n",
       "      <td>3.000000</td>\n",
       "      <td>130.000000</td>\n",
       "      <td>244.000000</td>\n",
       "      <td>0.000000</td>\n",
       "      <td>2.000000</td>\n",
       "      <td>153.500000</td>\n",
       "      <td>0.000000</td>\n",
       "      <td>0.800000</td>\n",
       "      <td>2.000000</td>\n",
       "      <td>0.000000</td>\n",
       "      <td>3.000000</td>\n",
       "      <td>0.000000</td>\n",
       "    </tr>\n",
       "    <tr>\n",
       "      <th>75%</th>\n",
       "      <td>211.750000</td>\n",
       "      <td>61.000000</td>\n",
       "      <td>1.000000</td>\n",
       "      <td>4.000000</td>\n",
       "      <td>140.000000</td>\n",
       "      <td>277.000000</td>\n",
       "      <td>0.000000</td>\n",
       "      <td>2.000000</td>\n",
       "      <td>165.750000</td>\n",
       "      <td>1.000000</td>\n",
       "      <td>1.600000</td>\n",
       "      <td>2.000000</td>\n",
       "      <td>1.000000</td>\n",
       "      <td>7.000000</td>\n",
       "      <td>2.000000</td>\n",
       "    </tr>\n",
       "    <tr>\n",
       "      <th>max</th>\n",
       "      <td>282.000000</td>\n",
       "      <td>77.000000</td>\n",
       "      <td>1.000000</td>\n",
       "      <td>4.000000</td>\n",
       "      <td>200.000000</td>\n",
       "      <td>564.000000</td>\n",
       "      <td>1.000000</td>\n",
       "      <td>2.000000</td>\n",
       "      <td>202.000000</td>\n",
       "      <td>1.000000</td>\n",
       "      <td>6.200000</td>\n",
       "      <td>3.000000</td>\n",
       "      <td>3.000000</td>\n",
       "      <td>7.000000</td>\n",
       "      <td>4.000000</td>\n",
       "    </tr>\n",
       "  </tbody>\n",
       "</table>\n",
       "</div>"
      ],
      "text/plain": [
       "               id         age         sex        pain  blood_pressure  \\\n",
       "count  282.000000  282.000000  282.000000  282.000000      282.000000   \n",
       "mean   141.500000   54.411348    0.677305    3.163121      131.563830   \n",
       "std     81.550598    9.053083    0.468338    0.955405       17.757496   \n",
       "min      1.000000   29.000000    0.000000    1.000000       94.000000   \n",
       "25%     71.250000   48.000000    0.000000    3.000000      120.000000   \n",
       "50%    141.500000   55.000000    1.000000    3.000000      130.000000   \n",
       "75%    211.750000   61.000000    1.000000    4.000000      140.000000   \n",
       "max    282.000000   77.000000    1.000000    4.000000      200.000000   \n",
       "\n",
       "             chol  blood_sugar  electrocardiographic  max_heartrate  \\\n",
       "count  282.000000   282.000000            282.000000     282.000000   \n",
       "mean   249.092199     0.148936              1.014184     149.765957   \n",
       "std     51.217546     0.356658              0.998118      22.923869   \n",
       "min    126.000000     0.000000              0.000000      71.000000   \n",
       "25%    213.000000     0.000000              0.000000     133.250000   \n",
       "50%    244.000000     0.000000              2.000000     153.500000   \n",
       "75%    277.000000     0.000000              2.000000     165.750000   \n",
       "max    564.000000     1.000000              2.000000     202.000000   \n",
       "\n",
       "       exercise_angina     oldpeak       slope  vessels_num        thal  \\\n",
       "count       282.000000  282.000000  282.000000   282.000000  282.000000   \n",
       "mean          0.326241    1.026950    1.585106     0.659574    4.673759   \n",
       "std           0.469670    1.138825    0.609700     0.934356    1.934870   \n",
       "min           0.000000    0.000000    1.000000     0.000000    3.000000   \n",
       "25%           0.000000    0.000000    1.000000     0.000000    3.000000   \n",
       "50%           0.000000    0.800000    2.000000     0.000000    3.000000   \n",
       "75%           1.000000    1.600000    2.000000     1.000000    7.000000   \n",
       "max           1.000000    6.200000    3.000000     3.000000    7.000000   \n",
       "\n",
       "        diagnosis  \n",
       "count  282.000000  \n",
       "mean     0.907801  \n",
       "std      1.224894  \n",
       "min      0.000000  \n",
       "25%      0.000000  \n",
       "50%      0.000000  \n",
       "75%      2.000000  \n",
       "max      4.000000  "
      ]
     },
     "execution_count": 40,
     "metadata": {},
     "output_type": "execute_result"
    }
   ],
   "source": [
    "def change_missing(att):\n",
    "    list_a = []\n",
    "    list_b = []\n",
    "    list_c = []\n",
    "    list_d = []\n",
    "    list_e = []\n",
    "    for i in data.index:\n",
    "        if data.at[i,'diagnosis']==0 and data.at[i,att]!= -9:\n",
    "                list_a.append(data.at[i,att])\n",
    "        if data.at[i,'diagnosis']==1 and data.at[i,att]!= -9:\n",
    "                list_b.append(data.at[i,att]) \n",
    "        if data.at[i,'diagnosis']==2 and data.at[i,att]!= -9:\n",
    "                list_c.append(data.at[i,att])\n",
    "        if data.at[i,'diagnosis']==3 and data.at[i,att]!= -9:\n",
    "                list_d.append(data.at[i,att])\n",
    "        if data.at[i,'diagnosis']==4 and data.at[i,att]!= -9:\n",
    "                list_d.append(data.at[i,att])\n",
    "    mean1=np.mean(list_a)\n",
    "    mean2=np.mean(list_b)\n",
    "    mean3=np.mean(list_c)\n",
    "    mean4=np.mean(list_d)\n",
    "    mean5=np.mean(list_e)\n",
    "    for i in data.index:\n",
    "        if data.at[i,'diagnosis']==0 and data.at[i,att]== -9:\n",
    "            data.at[i,att]= mean1\n",
    "        if data.at[i,'diagnosis']==1 and data.at[i,att]== -9:\n",
    "            data.at[i,att]= mean2\n",
    "        if data.at[i,'diagnosis']==2 and data.at[i,att]== -9:\n",
    "            data.at[i,att]= mean3\n",
    "        if data.at[i,'diagnosis']==3 and data.at[i,att]== -9:\n",
    "            data.at[i,att]= mean4\n",
    "        if data.at[i,'diagnosis']==4 and data.at[i,att]== -9:\n",
    "            data.at[i,att]= mean5\n",
    "change_missing('vessels_num')\n",
    "change_missing('thal')\n",
    "data.describe()"
   ]
  },
  {
   "cell_type": "code",
   "execution_count": 41,
   "metadata": {},
   "outputs": [
    {
     "data": {
      "text/plain": [
       "id                      141.500000\n",
       "age                      54.411348\n",
       "sex                       0.677305\n",
       "pain                      3.163121\n",
       "blood_pressure          131.563830\n",
       "chol                    249.092199\n",
       "blood_sugar               0.148936\n",
       "electrocardiographic      1.014184\n",
       "max_heartrate           149.765957\n",
       "exercise_angina           0.326241\n",
       "oldpeak                   1.026950\n",
       "slope                     1.585106\n",
       "vessels_num               0.659574\n",
       "thal                      4.673759\n",
       "diagnosis                 0.907801\n",
       "dtype: float64"
      ]
     },
     "execution_count": 41,
     "metadata": {},
     "output_type": "execute_result"
    }
   ],
   "source": [
    "data.mean()"
   ]
  },
  {
   "cell_type": "code",
   "execution_count": 42,
   "metadata": {},
   "outputs": [
    {
     "data": {
      "text/plain": [
       "id                      141.5\n",
       "age                      55.0\n",
       "sex                       1.0\n",
       "pain                      3.0\n",
       "blood_pressure          130.0\n",
       "chol                    244.0\n",
       "blood_sugar               0.0\n",
       "electrocardiographic      2.0\n",
       "max_heartrate           153.5\n",
       "exercise_angina           0.0\n",
       "oldpeak                   0.8\n",
       "slope                     2.0\n",
       "vessels_num               0.0\n",
       "thal                      3.0\n",
       "diagnosis                 0.0\n",
       "dtype: float64"
      ]
     },
     "execution_count": 42,
     "metadata": {},
     "output_type": "execute_result"
    }
   ],
   "source": [
    "data.median()"
   ]
  },
  {
   "cell_type": "code",
   "execution_count": 43,
   "metadata": {},
   "outputs": [
    {
     "data": {
      "text/plain": [
       "id                      81.550598\n",
       "age                      9.053083\n",
       "sex                      0.468338\n",
       "pain                     0.955405\n",
       "blood_pressure          17.757496\n",
       "chol                    51.217546\n",
       "blood_sugar              0.356658\n",
       "electrocardiographic     0.998118\n",
       "max_heartrate           22.923869\n",
       "exercise_angina          0.469670\n",
       "oldpeak                  1.138825\n",
       "slope                    0.609700\n",
       "vessels_num              0.934356\n",
       "thal                     1.934870\n",
       "diagnosis                1.224894\n",
       "dtype: float64"
      ]
     },
     "execution_count": 43,
     "metadata": {},
     "output_type": "execute_result"
    }
   ],
   "source": [
    "data.std()"
   ]
  },
  {
   "cell_type": "code",
   "execution_count": 44,
   "metadata": {},
   "outputs": [
    {
     "data": {
      "text/plain": [
       "id                      6650.500000\n",
       "age                       81.958305\n",
       "sex                        0.219341\n",
       "pain                       0.912799\n",
       "blood_pressure           315.328651\n",
       "chol                    2623.237021\n",
       "blood_sugar                0.127205\n",
       "electrocardiographic       0.996239\n",
       "max_heartrate            525.503748\n",
       "exercise_angina            0.220590\n",
       "oldpeak                    1.296922\n",
       "slope                      0.371735\n",
       "vessels_num                0.873022\n",
       "thal                       3.743722\n",
       "diagnosis                  1.500366\n",
       "dtype: float64"
      ]
     },
     "execution_count": 44,
     "metadata": {},
     "output_type": "execute_result"
    }
   ],
   "source": [
    "data.var()"
   ]
  },
  {
   "cell_type": "code",
   "execution_count": 45,
   "metadata": {},
   "outputs": [
    {
     "data": {
      "text/plain": [
       "id                      70.500000\n",
       "age                      7.452241\n",
       "sex                      0.437126\n",
       "pain                     0.789397\n",
       "blood_pressure          13.706730\n",
       "chol                    38.704190\n",
       "blood_sugar              0.253508\n",
       "electrocardiographic     0.992807\n",
       "max_heartrate           18.467482\n",
       "exercise_angina          0.439616\n",
       "oldpeak                  0.912253\n",
       "slope                    0.560208\n",
       "vessels_num              0.785876\n",
       "thal                     1.899301\n",
       "diagnosis                1.010814\n",
       "dtype: float64"
      ]
     },
     "execution_count": 45,
     "metadata": {},
     "output_type": "execute_result"
    }
   ],
   "source": [
    "data.mad()"
   ]
  },
  {
   "cell_type": "code",
   "execution_count": 46,
   "metadata": {},
   "outputs": [
    {
     "data": {
      "text/html": [
       "<div>\n",
       "<style scoped>\n",
       "    .dataframe tbody tr th:only-of-type {\n",
       "        vertical-align: middle;\n",
       "    }\n",
       "\n",
       "    .dataframe tbody tr th {\n",
       "        vertical-align: top;\n",
       "    }\n",
       "\n",
       "    .dataframe thead th {\n",
       "        text-align: right;\n",
       "    }\n",
       "</style>\n",
       "<table border=\"1\" class=\"dataframe\">\n",
       "  <thead>\n",
       "    <tr style=\"text-align: right;\">\n",
       "      <th></th>\n",
       "      <th>id</th>\n",
       "      <th>age</th>\n",
       "      <th>sex</th>\n",
       "      <th>pain</th>\n",
       "      <th>blood_pressure</th>\n",
       "      <th>chol</th>\n",
       "      <th>blood_sugar</th>\n",
       "      <th>electrocardiographic</th>\n",
       "      <th>max_heartrate</th>\n",
       "      <th>exercise_angina</th>\n",
       "      <th>oldpeak</th>\n",
       "      <th>slope</th>\n",
       "      <th>vessels_num</th>\n",
       "      <th>thal</th>\n",
       "      <th>diagnosis</th>\n",
       "    </tr>\n",
       "  </thead>\n",
       "  <tbody>\n",
       "    <tr>\n",
       "      <th>0.00</th>\n",
       "      <td>1.00</td>\n",
       "      <td>29.00</td>\n",
       "      <td>0.0</td>\n",
       "      <td>1.0</td>\n",
       "      <td>94.0</td>\n",
       "      <td>126.00</td>\n",
       "      <td>0.0</td>\n",
       "      <td>0.0</td>\n",
       "      <td>71.00</td>\n",
       "      <td>0.0</td>\n",
       "      <td>0.0</td>\n",
       "      <td>1.0</td>\n",
       "      <td>0.0</td>\n",
       "      <td>3.0</td>\n",
       "      <td>0.0</td>\n",
       "    </tr>\n",
       "    <tr>\n",
       "      <th>0.01</th>\n",
       "      <td>3.81</td>\n",
       "      <td>34.81</td>\n",
       "      <td>0.0</td>\n",
       "      <td>1.0</td>\n",
       "      <td>100.0</td>\n",
       "      <td>149.00</td>\n",
       "      <td>0.0</td>\n",
       "      <td>0.0</td>\n",
       "      <td>95.81</td>\n",
       "      <td>0.0</td>\n",
       "      <td>0.0</td>\n",
       "      <td>1.0</td>\n",
       "      <td>0.0</td>\n",
       "      <td>3.0</td>\n",
       "      <td>0.0</td>\n",
       "    </tr>\n",
       "    <tr>\n",
       "      <th>0.10</th>\n",
       "      <td>29.10</td>\n",
       "      <td>42.00</td>\n",
       "      <td>0.0</td>\n",
       "      <td>2.0</td>\n",
       "      <td>110.0</td>\n",
       "      <td>196.00</td>\n",
       "      <td>0.0</td>\n",
       "      <td>0.0</td>\n",
       "      <td>116.00</td>\n",
       "      <td>0.0</td>\n",
       "      <td>0.0</td>\n",
       "      <td>1.0</td>\n",
       "      <td>0.0</td>\n",
       "      <td>3.0</td>\n",
       "      <td>0.0</td>\n",
       "    </tr>\n",
       "    <tr>\n",
       "      <th>0.25</th>\n",
       "      <td>71.25</td>\n",
       "      <td>48.00</td>\n",
       "      <td>0.0</td>\n",
       "      <td>3.0</td>\n",
       "      <td>120.0</td>\n",
       "      <td>213.00</td>\n",
       "      <td>0.0</td>\n",
       "      <td>0.0</td>\n",
       "      <td>133.25</td>\n",
       "      <td>0.0</td>\n",
       "      <td>0.0</td>\n",
       "      <td>1.0</td>\n",
       "      <td>0.0</td>\n",
       "      <td>3.0</td>\n",
       "      <td>0.0</td>\n",
       "    </tr>\n",
       "    <tr>\n",
       "      <th>0.50</th>\n",
       "      <td>141.50</td>\n",
       "      <td>55.00</td>\n",
       "      <td>1.0</td>\n",
       "      <td>3.0</td>\n",
       "      <td>130.0</td>\n",
       "      <td>244.00</td>\n",
       "      <td>0.0</td>\n",
       "      <td>2.0</td>\n",
       "      <td>153.50</td>\n",
       "      <td>0.0</td>\n",
       "      <td>0.8</td>\n",
       "      <td>2.0</td>\n",
       "      <td>0.0</td>\n",
       "      <td>3.0</td>\n",
       "      <td>0.0</td>\n",
       "    </tr>\n",
       "    <tr>\n",
       "      <th>0.75</th>\n",
       "      <td>211.75</td>\n",
       "      <td>61.00</td>\n",
       "      <td>1.0</td>\n",
       "      <td>4.0</td>\n",
       "      <td>140.0</td>\n",
       "      <td>277.00</td>\n",
       "      <td>0.0</td>\n",
       "      <td>2.0</td>\n",
       "      <td>165.75</td>\n",
       "      <td>1.0</td>\n",
       "      <td>1.6</td>\n",
       "      <td>2.0</td>\n",
       "      <td>1.0</td>\n",
       "      <td>7.0</td>\n",
       "      <td>2.0</td>\n",
       "    </tr>\n",
       "    <tr>\n",
       "      <th>0.90</th>\n",
       "      <td>253.90</td>\n",
       "      <td>66.00</td>\n",
       "      <td>1.0</td>\n",
       "      <td>4.0</td>\n",
       "      <td>152.0</td>\n",
       "      <td>308.90</td>\n",
       "      <td>1.0</td>\n",
       "      <td>2.0</td>\n",
       "      <td>177.90</td>\n",
       "      <td>1.0</td>\n",
       "      <td>2.6</td>\n",
       "      <td>2.0</td>\n",
       "      <td>2.0</td>\n",
       "      <td>7.0</td>\n",
       "      <td>3.0</td>\n",
       "    </tr>\n",
       "    <tr>\n",
       "      <th>0.99</th>\n",
       "      <td>279.19</td>\n",
       "      <td>71.57</td>\n",
       "      <td>1.0</td>\n",
       "      <td>4.0</td>\n",
       "      <td>180.0</td>\n",
       "      <td>407.38</td>\n",
       "      <td>1.0</td>\n",
       "      <td>2.0</td>\n",
       "      <td>192.38</td>\n",
       "      <td>1.0</td>\n",
       "      <td>4.2</td>\n",
       "      <td>3.0</td>\n",
       "      <td>3.0</td>\n",
       "      <td>7.0</td>\n",
       "      <td>4.0</td>\n",
       "    </tr>\n",
       "    <tr>\n",
       "      <th>1.00</th>\n",
       "      <td>282.00</td>\n",
       "      <td>77.00</td>\n",
       "      <td>1.0</td>\n",
       "      <td>4.0</td>\n",
       "      <td>200.0</td>\n",
       "      <td>564.00</td>\n",
       "      <td>1.0</td>\n",
       "      <td>2.0</td>\n",
       "      <td>202.00</td>\n",
       "      <td>1.0</td>\n",
       "      <td>6.2</td>\n",
       "      <td>3.0</td>\n",
       "      <td>3.0</td>\n",
       "      <td>7.0</td>\n",
       "      <td>4.0</td>\n",
       "    </tr>\n",
       "  </tbody>\n",
       "</table>\n",
       "</div>"
      ],
      "text/plain": [
       "          id    age  sex  pain  blood_pressure    chol  blood_sugar  \\\n",
       "0.00    1.00  29.00  0.0   1.0            94.0  126.00          0.0   \n",
       "0.01    3.81  34.81  0.0   1.0           100.0  149.00          0.0   \n",
       "0.10   29.10  42.00  0.0   2.0           110.0  196.00          0.0   \n",
       "0.25   71.25  48.00  0.0   3.0           120.0  213.00          0.0   \n",
       "0.50  141.50  55.00  1.0   3.0           130.0  244.00          0.0   \n",
       "0.75  211.75  61.00  1.0   4.0           140.0  277.00          0.0   \n",
       "0.90  253.90  66.00  1.0   4.0           152.0  308.90          1.0   \n",
       "0.99  279.19  71.57  1.0   4.0           180.0  407.38          1.0   \n",
       "1.00  282.00  77.00  1.0   4.0           200.0  564.00          1.0   \n",
       "\n",
       "      electrocardiographic  max_heartrate  exercise_angina  oldpeak  slope  \\\n",
       "0.00                   0.0          71.00              0.0      0.0    1.0   \n",
       "0.01                   0.0          95.81              0.0      0.0    1.0   \n",
       "0.10                   0.0         116.00              0.0      0.0    1.0   \n",
       "0.25                   0.0         133.25              0.0      0.0    1.0   \n",
       "0.50                   2.0         153.50              0.0      0.8    2.0   \n",
       "0.75                   2.0         165.75              1.0      1.6    2.0   \n",
       "0.90                   2.0         177.90              1.0      2.6    2.0   \n",
       "0.99                   2.0         192.38              1.0      4.2    3.0   \n",
       "1.00                   2.0         202.00              1.0      6.2    3.0   \n",
       "\n",
       "      vessels_num  thal  diagnosis  \n",
       "0.00          0.0   3.0        0.0  \n",
       "0.01          0.0   3.0        0.0  \n",
       "0.10          0.0   3.0        0.0  \n",
       "0.25          0.0   3.0        0.0  \n",
       "0.50          0.0   3.0        0.0  \n",
       "0.75          1.0   7.0        2.0  \n",
       "0.90          2.0   7.0        3.0  \n",
       "0.99          3.0   7.0        4.0  \n",
       "1.00          3.0   7.0        4.0  "
      ]
     },
     "execution_count": 46,
     "metadata": {},
     "output_type": "execute_result"
    }
   ],
   "source": [
    "data.quantile(q = [0, 0.01, .1, .25, .5, .75, .9, .99, 1])"
   ]
  },
  {
   "cell_type": "code",
   "execution_count": 47,
   "metadata": {},
   "outputs": [
    {
     "data": {
      "text/plain": [
       "id                      281.0\n",
       "age                      48.0\n",
       "sex                       1.0\n",
       "pain                      3.0\n",
       "blood_pressure          106.0\n",
       "chol                    438.0\n",
       "blood_sugar               1.0\n",
       "electrocardiographic      2.0\n",
       "max_heartrate           131.0\n",
       "exercise_angina           1.0\n",
       "oldpeak                   6.2\n",
       "slope                     2.0\n",
       "vessels_num               3.0\n",
       "thal                      4.0\n",
       "diagnosis                 4.0\n",
       "dtype: float64"
      ]
     },
     "execution_count": 47,
     "metadata": {},
     "output_type": "execute_result"
    }
   ],
   "source": [
    "data.max(numeric_only = True) - data.min(numeric_only = True)"
   ]
  },
  {
   "cell_type": "code",
   "execution_count": 48,
   "metadata": {},
   "outputs": [
    {
     "data": {
      "text/plain": [
       "id                      140.5\n",
       "age                      13.0\n",
       "sex                       1.0\n",
       "pain                      1.0\n",
       "blood_pressure           20.0\n",
       "chol                     64.0\n",
       "blood_sugar               0.0\n",
       "electrocardiographic      2.0\n",
       "max_heartrate            32.5\n",
       "exercise_angina           1.0\n",
       "oldpeak                   1.6\n",
       "slope                     1.0\n",
       "vessels_num               1.0\n",
       "thal                      4.0\n",
       "diagnosis                 2.0\n",
       "dtype: float64"
      ]
     },
     "execution_count": 48,
     "metadata": {},
     "output_type": "execute_result"
    }
   ],
   "source": [
    "data.quantile(.75) - data.quantile(.25)"
   ]
  },
  {
   "cell_type": "markdown",
   "metadata": {},
   "source": [
    "***\n",
    "## Section: 2.2 - Revise the dataset\n",
    "- Review the meanings of the attributes and consider removing redundant or (likely) irrelevant attributes, combining attributes, etc., to reduce the number of attributes.\n",
    "- (You may choose to use techniques such as those you used in Homework 1 to analyze the impacts of individual attributes on the CLASS attribute, but you need not do a “deep” analysis.)\n",
    "- Describe what you chose to do (and not do), and why.\n",
    "***"
   ]
  },
  {
   "cell_type": "markdown",
   "metadata": {},
   "source": [
    "### correlation analysis"
   ]
  },
  {
   "cell_type": "code",
   "execution_count": 49,
   "metadata": {},
   "outputs": [
    {
     "data": {
      "image/png": "[encoded data removed]",
      "text/plain": [
       "<Figure size 1080x1080 with 2 Axes>"
      ]
     },
     "metadata": {},
     "output_type": "display_data"
    }
   ],
   "source": [
    "correlations = data.corr() \n",
    "correction=abs(correlations)\n",
    "fig = plt.figure()\n",
    "fig.set_size_inches(15, 15)\n",
    "ax = sns.heatmap(correction, linewidths=0.5,vmax=1, vmin=0 ,annot=True,annot_kws={'size':10,'weight':'bold'})\n",
    "plt.xticks(np.arange(15)+0.5) \n",
    "plt.yticks(np.arange(15)+0.5) \n",
    "plt.show()"
   ]
  },
  {
   "cell_type": "markdown",
   "metadata": {},
   "source": [
    "### From the correlation we can finde that 'id','blood_sugar','chol' are barely correlated with diagnosis (pcc<0.1), so we can remove them"
   ]
  },
  {
   "cell_type": "code",
   "execution_count": 50,
   "metadata": {},
   "outputs": [
    {
     "data": {
      "image/png": "[encoded data removed]",
      "text/plain": [
       "<Figure size 1080x1080 with 2 Axes>"
      ]
     },
     "metadata": {},
     "output_type": "display_data"
    }
   ],
   "source": [
    "data=data.drop(columns=['id','sex','blood_sugar','chol'])\n",
    "correlations = data.corr() \n",
    "correction=abs(correlations)\n",
    "fig = plt.figure()\n",
    "fig.set_size_inches(15, 15)\n",
    "ax = sns.heatmap(correction, linewidths=0.5,vmax=1, vmin=0 ,annot=True,annot_kws={'size':10,'weight':'bold'})\n",
    "plt.xticks(np.arange(11)+0.5) \n",
    "plt.yticks(np.arange(11)+0.5) \n",
    "plt.show()"
   ]
  },
  {
   "cell_type": "markdown",
   "metadata": {},
   "source": [
    "***\n",
    "## Section: 2.3 - Transform the attributes\n",
    "- Consider transforming the remaining attributes (e.g., using the data dictionary to replace the numbers with text values for some attributes – this might or might not be useful), normalizing / scaling values, encoding labels (if necessary), etc.\n",
    "- Describe what you chose to do (and not do), and why.\n",
    "***"
   ]
  },
  {
   "cell_type": "code",
   "execution_count": 51,
   "metadata": {},
   "outputs": [
    {
     "data": {
      "text/html": [
       "<div>\n",
       "<style scoped>\n",
       "    .dataframe tbody tr th:only-of-type {\n",
       "        vertical-align: middle;\n",
       "    }\n",
       "\n",
       "    .dataframe tbody tr th {\n",
       "        vertical-align: top;\n",
       "    }\n",
       "\n",
       "    .dataframe thead th {\n",
       "        text-align: right;\n",
       "    }\n",
       "</style>\n",
       "<table border=\"1\" class=\"dataframe\">\n",
       "  <thead>\n",
       "    <tr style=\"text-align: right;\">\n",
       "      <th></th>\n",
       "      <th>age</th>\n",
       "      <th>pain</th>\n",
       "      <th>blood_pressure</th>\n",
       "      <th>electrocardiographic</th>\n",
       "      <th>max_heartrate</th>\n",
       "      <th>exercise_angina</th>\n",
       "      <th>oldpeak</th>\n",
       "      <th>slope</th>\n",
       "      <th>vessels_num</th>\n",
       "      <th>thal</th>\n",
       "      <th>diagnosis</th>\n",
       "    </tr>\n",
       "  </thead>\n",
       "  <tbody>\n",
       "    <tr>\n",
       "      <th>0</th>\n",
       "      <td>0.708333</td>\n",
       "      <td>0.000000</td>\n",
       "      <td>0.481132</td>\n",
       "      <td>1.0</td>\n",
       "      <td>0.603053</td>\n",
       "      <td>0.0</td>\n",
       "      <td>0.370968</td>\n",
       "      <td>1.0</td>\n",
       "      <td>0.000000</td>\n",
       "      <td>0.75</td>\n",
       "      <td>0</td>\n",
       "    </tr>\n",
       "    <tr>\n",
       "      <th>1</th>\n",
       "      <td>0.791667</td>\n",
       "      <td>1.000000</td>\n",
       "      <td>0.622642</td>\n",
       "      <td>1.0</td>\n",
       "      <td>0.282443</td>\n",
       "      <td>1.0</td>\n",
       "      <td>0.241935</td>\n",
       "      <td>0.5</td>\n",
       "      <td>1.000000</td>\n",
       "      <td>0.00</td>\n",
       "      <td>2</td>\n",
       "    </tr>\n",
       "    <tr>\n",
       "      <th>2</th>\n",
       "      <td>0.791667</td>\n",
       "      <td>1.000000</td>\n",
       "      <td>0.245283</td>\n",
       "      <td>1.0</td>\n",
       "      <td>0.442748</td>\n",
       "      <td>1.0</td>\n",
       "      <td>0.419355</td>\n",
       "      <td>0.5</td>\n",
       "      <td>0.666667</td>\n",
       "      <td>1.00</td>\n",
       "      <td>1</td>\n",
       "    </tr>\n",
       "    <tr>\n",
       "      <th>3</th>\n",
       "      <td>0.166667</td>\n",
       "      <td>0.666667</td>\n",
       "      <td>0.339623</td>\n",
       "      <td>0.0</td>\n",
       "      <td>0.885496</td>\n",
       "      <td>0.0</td>\n",
       "      <td>0.564516</td>\n",
       "      <td>1.0</td>\n",
       "      <td>0.000000</td>\n",
       "      <td>0.00</td>\n",
       "      <td>0</td>\n",
       "    </tr>\n",
       "    <tr>\n",
       "      <th>4</th>\n",
       "      <td>0.250000</td>\n",
       "      <td>0.333333</td>\n",
       "      <td>0.339623</td>\n",
       "      <td>1.0</td>\n",
       "      <td>0.770992</td>\n",
       "      <td>0.0</td>\n",
       "      <td>0.225806</td>\n",
       "      <td>0.0</td>\n",
       "      <td>0.000000</td>\n",
       "      <td>0.00</td>\n",
       "      <td>0</td>\n",
       "    </tr>\n",
       "    <tr>\n",
       "      <th>...</th>\n",
       "      <td>...</td>\n",
       "      <td>...</td>\n",
       "      <td>...</td>\n",
       "      <td>...</td>\n",
       "      <td>...</td>\n",
       "      <td>...</td>\n",
       "      <td>...</td>\n",
       "      <td>...</td>\n",
       "      <td>...</td>\n",
       "      <td>...</td>\n",
       "      <td>...</td>\n",
       "    </tr>\n",
       "    <tr>\n",
       "      <th>277</th>\n",
       "      <td>0.208333</td>\n",
       "      <td>0.666667</td>\n",
       "      <td>0.415094</td>\n",
       "      <td>0.0</td>\n",
       "      <td>0.618321</td>\n",
       "      <td>0.0</td>\n",
       "      <td>0.000000</td>\n",
       "      <td>0.5</td>\n",
       "      <td>0.000000</td>\n",
       "      <td>0.00</td>\n",
       "      <td>0</td>\n",
       "    </tr>\n",
       "    <tr>\n",
       "      <th>278</th>\n",
       "      <td>0.583333</td>\n",
       "      <td>0.333333</td>\n",
       "      <td>0.566038</td>\n",
       "      <td>1.0</td>\n",
       "      <td>0.709924</td>\n",
       "      <td>0.0</td>\n",
       "      <td>0.000000</td>\n",
       "      <td>0.0</td>\n",
       "      <td>0.333333</td>\n",
       "      <td>0.00</td>\n",
       "      <td>1</td>\n",
       "    </tr>\n",
       "    <tr>\n",
       "      <th>279</th>\n",
       "      <td>0.604167</td>\n",
       "      <td>1.000000</td>\n",
       "      <td>0.339623</td>\n",
       "      <td>0.0</td>\n",
       "      <td>0.458015</td>\n",
       "      <td>0.0</td>\n",
       "      <td>0.096774</td>\n",
       "      <td>0.5</td>\n",
       "      <td>0.000000</td>\n",
       "      <td>0.00</td>\n",
       "      <td>0</td>\n",
       "    </tr>\n",
       "    <tr>\n",
       "      <th>280</th>\n",
       "      <td>0.583333</td>\n",
       "      <td>1.000000</td>\n",
       "      <td>0.150943</td>\n",
       "      <td>0.0</td>\n",
       "      <td>0.549618</td>\n",
       "      <td>1.0</td>\n",
       "      <td>0.483871</td>\n",
       "      <td>0.5</td>\n",
       "      <td>0.333333</td>\n",
       "      <td>1.00</td>\n",
       "      <td>2</td>\n",
       "    </tr>\n",
       "    <tr>\n",
       "      <th>281</th>\n",
       "      <td>0.375000</td>\n",
       "      <td>0.666667</td>\n",
       "      <td>0.339623</td>\n",
       "      <td>0.0</td>\n",
       "      <td>0.824427</td>\n",
       "      <td>0.0</td>\n",
       "      <td>0.000000</td>\n",
       "      <td>0.0</td>\n",
       "      <td>0.000000</td>\n",
       "      <td>0.00</td>\n",
       "      <td>0</td>\n",
       "    </tr>\n",
       "  </tbody>\n",
       "</table>\n",
       "<p>282 rows × 11 columns</p>\n",
       "</div>"
      ],
      "text/plain": [
       "          age      pain  blood_pressure  electrocardiographic  max_heartrate  \\\n",
       "0    0.708333  0.000000        0.481132                   1.0       0.603053   \n",
       "1    0.791667  1.000000        0.622642                   1.0       0.282443   \n",
       "2    0.791667  1.000000        0.245283                   1.0       0.442748   \n",
       "3    0.166667  0.666667        0.339623                   0.0       0.885496   \n",
       "4    0.250000  0.333333        0.339623                   1.0       0.770992   \n",
       "..        ...       ...             ...                   ...            ...   \n",
       "277  0.208333  0.666667        0.415094                   0.0       0.618321   \n",
       "278  0.583333  0.333333        0.566038                   1.0       0.709924   \n",
       "279  0.604167  1.000000        0.339623                   0.0       0.458015   \n",
       "280  0.583333  1.000000        0.150943                   0.0       0.549618   \n",
       "281  0.375000  0.666667        0.339623                   0.0       0.824427   \n",
       "\n",
       "     exercise_angina   oldpeak  slope  vessels_num  thal  diagnosis  \n",
       "0                0.0  0.370968    1.0     0.000000  0.75          0  \n",
       "1                1.0  0.241935    0.5     1.000000  0.00          2  \n",
       "2                1.0  0.419355    0.5     0.666667  1.00          1  \n",
       "3                0.0  0.564516    1.0     0.000000  0.00          0  \n",
       "4                0.0  0.225806    0.0     0.000000  0.00          0  \n",
       "..               ...       ...    ...          ...   ...        ...  \n",
       "277              0.0  0.000000    0.5     0.000000  0.00          0  \n",
       "278              0.0  0.000000    0.0     0.333333  0.00          1  \n",
       "279              0.0  0.096774    0.5     0.000000  0.00          0  \n",
       "280              1.0  0.483871    0.5     0.333333  1.00          2  \n",
       "281              0.0  0.000000    0.0     0.000000  0.00          0  \n",
       "\n",
       "[282 rows x 11 columns]"
      ]
     },
     "execution_count": 51,
     "metadata": {},
     "output_type": "execute_result"
    }
   ],
   "source": [
    "data_transform=data.copy()\n",
    "col_names = [\"age\",\"pain\",\"blood_pressure\",\"electrocardiographic\",\"max_heartrate\",\"exercise_angina\",\"oldpeak\",\"slope\",\"vessels_num\",\"thal\"]\n",
    "features = data_transform[col_names]\n",
    "scaler = MinMaxScaler(feature_range=(0,1))\n",
    "data_transform[col_names] = scaler.fit_transform(features.values)\n",
    "data_transform"
   ]
  },
  {
   "cell_type": "markdown",
   "metadata": {},
   "source": [
    "***\n",
    "# Section: 3 - Evaluation of the Off-The-Shelf KNN Classifier\n",
    "- Select the KNN classifier from the SciKit Learn library and run it on the dataset.\n",
    "***"
   ]
  },
  {
   "cell_type": "markdown",
   "metadata": {},
   "source": [
    "***\n",
    "## Section: 3.1 - Configure the off-the-shelf KNN classifier\n",
    "- Use the KNeighborsClassifier from the SciKit Learn library\n",
    "- Explain all setup, parameters and execution options you chose to set, and why.\n",
    "***"
   ]
  },
  {
   "cell_type": "code",
   "execution_count": 52,
   "metadata": {},
   "outputs": [
    {
     "data": {
      "text/plain": [
       "array([3, 0, 0, 0, 0, 3, 0, 1, 2, 0, 1, 0, 1, 2, 0, 0, 0, 4, 0, 0, 0, 0,\n",
       "       1, 0, 0, 0, 0, 0, 0, 1, 0, 3, 0, 2, 0, 0, 1, 2, 0, 0, 1, 1, 0, 0,\n",
       "       1, 0, 0, 1, 1, 0, 0, 1, 0, 0, 1, 0, 0, 0, 0, 0, 0, 0, 0, 0, 0, 0,\n",
       "       0, 1, 1, 0, 0, 0, 0, 0, 0, 4, 0, 0, 0, 0, 0, 0, 1, 2, 0, 0, 1, 0,\n",
       "       0, 1, 0, 0, 0, 0])"
      ]
     },
     "execution_count": 52,
     "metadata": {},
     "output_type": "execute_result"
    }
   ],
   "source": [
    "#split data to train and test\n",
    "X_train, X_test, y_train, y_test = train_test_split(data_transform[[\"age\",\"blood_pressure\",\"electrocardiographic\",\"max_heartrate\",\"exercise_angina\",\"oldpeak\",\"vessels_num\",\"thal\"]], data_transform[['diagnosis']], test_size=0.33, random_state=42)\n",
    "\n",
    "# Instantiate learning model (k = 3)\n",
    "knn_clf = KNeighborsClassifier(n_neighbors=3)\n",
    "\n",
    "# Fitting the model\n",
    "knn_clf.fit(X_train, y_train.squeeze())\n",
    "\n",
    "# Predicting the Test set results\n",
    "knn_y_pred = knn_clf.predict(X_test)\n",
    "knn_y_pred"
   ]
  },
  {
   "cell_type": "code",
   "execution_count": 21,
   "metadata": {},
   "outputs": [
    {
     "data": {
      "text/plain": [
       "array([[48,  1,  3,  0,  0],\n",
       "       [11,  2,  2,  1,  0],\n",
       "       [ 3,  3,  0,  1,  0],\n",
       "       [ 6,  6,  2,  0,  0],\n",
       "       [ 2,  1,  0,  1,  1]])"
      ]
     },
     "execution_count": 21,
     "metadata": {},
     "output_type": "execute_result"
    }
   ],
   "source": [
    "knn_cm = confusion_matrix(y_test, knn_y_pred)\n",
    "knn_cm"
   ]
  },
  {
   "cell_type": "code",
   "execution_count": 22,
   "metadata": {},
   "outputs": [
    {
     "name": "stdout",
     "output_type": "stream",
     "text": [
      "Accuracy of our model is equal 54.26 %.\n"
     ]
    }
   ],
   "source": [
    "knn_accuracy = accuracy_score(y_test, knn_y_pred)*100\n",
    "print('Accuracy of our model is equal ' + str(round(knn_accuracy, 2)) + ' %.')"
   ]
  },
  {
   "cell_type": "markdown",
   "metadata": {},
   "source": [
    "***\n",
    "## Section: 3.2 - Run and evaluate the classifier\n",
    "- Try several values of the K parameter and compare the results.\n",
    "- Evaluate the performance of the classifier, using the evaluation method you defined above.\n",
    "***"
   ]
  },
  {
   "cell_type": "code",
   "execution_count": 23,
   "metadata": {},
   "outputs": [
    {
     "data": {
      "text/plain": [
       "[0.5370370370370371,\n",
       " 0.5582010582010583,\n",
       " 0.559015059015059,\n",
       " 0.5799755799755799,\n",
       " 0.5960520960520961,\n",
       " 0.5746845746845748,\n",
       " 0.5586080586080585,\n",
       " 0.568986568986569,\n",
       " 0.5636955636955637,\n",
       " 0.5531135531135531,\n",
       " 0.568986568986569,\n",
       " 0.568986568986569,\n",
       " 0.5848595848595848,\n",
       " 0.5795685795685795,\n",
       " 0.568986568986569,\n",
       " 0.5901505901505901,\n",
       " 0.5795685795685797,\n",
       " 0.5636955636955637,\n",
       " 0.5317460317460317,\n",
       " 0.5423280423280423,\n",
       " 0.5423280423280423,\n",
       " 0.5582010582010581,\n",
       " 0.5423280423280424,\n",
       " 0.5476190476190477,\n",
       " 0.5531135531135531,\n",
       " 0.5582010582010583,\n",
       " 0.5582010582010583,\n",
       " 0.5742775742775743,\n",
       " 0.5795685795685795,\n",
       " 0.5742775742775742,\n",
       " 0.5742775742775742,\n",
       " 0.5582010582010583,\n",
       " 0.5687830687830687,\n",
       " 0.5687830687830687,\n",
       " 0.5846560846560847,\n",
       " 0.5742775742775743,\n",
       " 0.5797720797720798,\n",
       " 0.568986568986569,\n",
       " 0.568986568986569,\n",
       " 0.5636955636955637,\n",
       " 0.5742775742775743,\n",
       " 0.568986568986569,\n",
       " 0.5797720797720798,\n",
       " 0.5742775742775742,\n",
       " 0.5797720797720797,\n",
       " 0.5797720797720797,\n",
       " 0.5691900691900692,\n",
       " 0.5691900691900692,\n",
       " 0.5691900691900692]"
      ]
     },
     "execution_count": 23,
     "metadata": {},
     "output_type": "execute_result"
    }
   ],
   "source": [
    "# creating list of K for KNN \n",
    "# What if you want to do Leave-One-Out Cross Validation\n",
    "\n",
    "k_list = list(range(1,50))\n",
    "# creating list of cv scores\n",
    "knn_cv_scores = []\n",
    "\n",
    "for k in k_list:\n",
    "    knn = KNeighborsClassifier(n_neighbors=k)\n",
    "    knn_scores = cross_val_score(knn, X_train, y_train.squeeze(), cv=7, scoring='accuracy')\n",
    "    knn_cv_scores.append(knn_scores.mean())\n",
    "\n",
    "knn_cv_scores[0:50]"
   ]
  },
  {
   "cell_type": "code",
   "execution_count": 24,
   "metadata": {},
   "outputs": [
    {
     "data": {
      "text/plain": [
       "<Figure size 432x288 with 0 Axes>"
      ]
     },
     "metadata": {},
     "output_type": "display_data"
    },
    {
     "data": {
      "image/png": "[encoded data removed]",
      "text/plain": [
       "<Figure size 1080x720 with 1 Axes>"
      ]
     },
     "metadata": {
      "needs_background": "light"
     },
     "output_type": "display_data"
    }
   ],
   "source": [
    "# Modeled from: https://www.kaggle.com/skalskip/iris-data-visualization-and-knn-classification\n",
    "\n",
    "def optimal_knn_value (k_list, knn_cv_scores):\n",
    "\n",
    "    plt.figure()\n",
    "    plt.figure(figsize=(15,10))\n",
    "    plt.title('The optimal number of neighbors', fontsize=20, fontweight='bold')\n",
    "    plt.xlabel('Number of Neighbors K', fontsize=15)\n",
    "    plt.ylabel('Accuracy', fontsize=15)\n",
    "    sns.set_style(\"whitegrid\")\n",
    "    plt.plot(k_list, knn_cv_scores)\n",
    "    plt.show()\n",
    "    \n",
    "optimal_knn_value(k_list, knn_cv_scores)\n",
    "\n",
    "#Looks like around 3 KNN"
   ]
  },
  {
   "cell_type": "code",
   "execution_count": 25,
   "metadata": {},
   "outputs": [
    {
     "data": {
      "text/plain": [
       "array([2, 0, 0, 0, 0, 2, 0, 1, 2, 3, 1, 0, 1, 0, 0, 0, 0, 4, 0, 2, 0, 0,\n",
       "       1, 0, 0, 0, 0, 1, 0, 2, 0, 3, 0, 0, 0, 0, 1, 2, 0, 0, 1, 0, 0, 0,\n",
       "       0, 0, 0, 0, 1, 0, 3, 0, 0, 0, 1, 0, 0, 0, 0, 0, 0, 0, 0, 0, 0, 0,\n",
       "       0, 0, 0, 0, 0, 0, 0, 0, 0, 0, 0, 0, 0, 0, 0, 0, 1, 2, 1, 0, 1, 0,\n",
       "       0, 1, 0, 0, 1, 0])"
      ]
     },
     "execution_count": 25,
     "metadata": {},
     "output_type": "execute_result"
    }
   ],
   "source": [
    "X_train, X_test, y_train, y_test = train_test_split(data_transform[[\"age\",\"blood_pressure\",\"electrocardiographic\",\"max_heartrate\",\"exercise_angina\",\"oldpeak\",\"vessels_num\",\"thal\"]], data_transform['diagnosis'], test_size=0.33, random_state=42)\n",
    "\n",
    "# Instantiate learning model (k = 2)\n",
    "knn_clf = KNeighborsClassifier(n_neighbors=2)\n",
    "\n",
    "# Fitting the model\n",
    "knn_clf.fit(X_train, y_train.squeeze())\n",
    "\n",
    "# Predicting the Test set results\n",
    "knn_y_pred = knn_clf.predict(X_test)\n",
    "knn_y_pred"
   ]
  },
  {
   "cell_type": "code",
   "execution_count": 26,
   "metadata": {},
   "outputs": [
    {
     "data": {
      "text/plain": [
       "'              precision    recall  f1-score   support\\n\\n           0       0.68      0.90      0.78        52\\n           1       0.21      0.19      0.20        16\\n           2       0.14      0.14      0.14         7\\n           3       0.33      0.07      0.12        14\\n           4       1.00      0.20      0.33         5\\n\\n    accuracy                           0.56        94\\n   macro avg       0.47      0.30      0.31        94\\nweighted avg       0.53      0.56      0.51        94\\n'"
      ]
     },
     "execution_count": 26,
     "metadata": {},
     "output_type": "execute_result"
    }
   ],
   "source": [
    "classification_report(y_test, knn_y_pred, labels=None, target_names=None, sample_weight=None, digits=2)"
   ]
  },
  {
   "cell_type": "code",
   "execution_count": 27,
   "metadata": {},
   "outputs": [
    {
     "data": {
      "text/plain": [
       "array([[47,  2,  3,  0,  0],\n",
       "       [12,  3,  1,  0,  0],\n",
       "       [ 1,  4,  1,  1,  0],\n",
       "       [ 7,  4,  2,  1,  0],\n",
       "       [ 2,  1,  0,  1,  1]])"
      ]
     },
     "execution_count": 27,
     "metadata": {},
     "output_type": "execute_result"
    }
   ],
   "source": [
    "knn_confusion_matrix=confusion_matrix(y_test, knn_y_pred, labels=None, sample_weight=None)\n",
    "knn_confusion_matrix"
   ]
  },
  {
   "cell_type": "code",
   "execution_count": 63,
   "metadata": {},
   "outputs": [
    {
     "data": {
      "text/plain": [
       "19000"
      ]
     },
     "execution_count": 63,
     "metadata": {},
     "output_type": "execute_result"
    }
   ],
   "source": [
    "knn_benefit=calculate_net_benefit(knn_confusion_matrix)\n",
    "knn_benefit"
   ]
  },
  {
   "cell_type": "markdown",
   "metadata": {},
   "source": [
    "***\n",
    "## Section: 3.3 - Evaluate the choice of the KNN classifier\n",
    "- What characteristics of the problem and data made KNN a good or bad choice?\n",
    "***"
   ]
  },
  {
   "cell_type": "markdown",
   "metadata": {},
   "source": [
    "### Problem\n",
    "\n",
    "- The percentages for each category vary widely, with \"0\" accounting for more than all the other categories combined. Because “0” make up such a large proportion, many other categories are wrongly predicted to be zeros.\n",
    "\n",
    "- Some categories have too few totals, such as \"4\". When K=2, there is no prediction for \"4\".\n",
    "\n",
    "- All categories are not distinguished clearly in the feature space, so the prediction effect is poor. In addition, with the change of K, the fluctuation of prediction effect also indicates that the distribution of categories in the feature space is irregular."
   ]
  },
  {
   "cell_type": "markdown",
   "metadata": {},
   "source": [
    "***\n",
    "# Section: 4 - Evaluation of Off-The-Shelf Classifier #2\n",
    "- As with the KNN classifier above, choose another classifier from the SciKit Learn library (Decision Tree, SVM, Logistic Regression, etc.) and run it on the dataset.\n",
    "***"
   ]
  },
  {
   "cell_type": "markdown",
   "metadata": {},
   "source": [
    "***\n",
    "## Section: 4.1 - Configure the classifier\n",
    "- Use the appropriate classifier from the SciKit Learn library.\n",
    "- Explain all setup, parameters and execution options you chose to set, and why.\n",
    "***"
   ]
  },
  {
   "cell_type": "code",
   "execution_count": 53,
   "metadata": {},
   "outputs": [
    {
     "name": "stderr",
     "output_type": "stream",
     "text": [
      "/opt/anaconda3/lib/python3.7/site-packages/sklearn/utils/validation.py:760: DataConversionWarning: A column-vector y was passed when a 1d array was expected. Please change the shape of y to (n_samples, ), for example using ravel().\n",
      "  y = column_or_1d(y, warn=True)\n"
     ]
    },
    {
     "data": {
      "text/plain": [
       "array([2, 0, 0, 0, 0, 0, 0, 1, 2, 1, 2, 0, 0, 2, 0, 0, 0, 2, 0, 0, 0, 1,\n",
       "       2, 0, 0, 0, 0, 1, 0, 1, 0, 1, 0, 2, 0, 0, 2, 3, 0, 0, 3, 0, 0, 0,\n",
       "       0, 0, 0, 1, 0, 0, 0, 0, 0, 0, 0, 0, 1, 0, 2, 0, 0, 0, 0, 0, 0, 0,\n",
       "       0, 1, 1, 0, 0, 0, 0, 0, 0, 3, 0, 0, 0, 0, 0, 0, 2, 1, 0, 0, 1, 1,\n",
       "       0, 1, 0, 0, 0, 0])"
      ]
     },
     "execution_count": 53,
     "metadata": {},
     "output_type": "execute_result"
    }
   ],
   "source": [
    "#SVM model\n",
    "from sklearn.svm import SVC\n",
    "classifier = SVC(kernel = 'linear', random_state = 0)\n",
    "#Fit the model for the data\n",
    "\n",
    "classifier.fit(X_train, y_train)\n",
    "\n",
    "#Make prediction\n",
    "svm_y_pred = classifier.predict(X_test)\n",
    "svm_y_pred"
   ]
  },
  {
   "cell_type": "markdown",
   "metadata": {},
   "source": [
    "***\n",
    "## Section: 4.2 - Run and evaluate the classifier\n",
    "- Try several values of the parameters (if appropriate) and compare the results.\n",
    "- Evaluate the performance of the classifier, using the evaluation method you defined above.\n",
    "***"
   ]
  },
  {
   "cell_type": "code",
   "execution_count": 54,
   "metadata": {},
   "outputs": [
    {
     "name": "stdout",
     "output_type": "stream",
     "text": [
      "[[51  0  1  0  0]\n",
      " [ 9  6  1  0  0]\n",
      " [ 2  2  3  0  0]\n",
      " [ 3  5  4  2  0]\n",
      " [ 2  1  1  1  0]]\n",
      "Accuracy: 52.71 %\n",
      "Standard Deviation: 7.34 %\n"
     ]
    },
    {
     "name": "stderr",
     "output_type": "stream",
     "text": [
      "/opt/anaconda3/lib/python3.7/site-packages/sklearn/utils/validation.py:760: DataConversionWarning: A column-vector y was passed when a 1d array was expected. Please change the shape of y to (n_samples, ), for example using ravel().\n",
      "  y = column_or_1d(y, warn=True)\n",
      "/opt/anaconda3/lib/python3.7/site-packages/sklearn/utils/validation.py:760: DataConversionWarning: A column-vector y was passed when a 1d array was expected. Please change the shape of y to (n_samples, ), for example using ravel().\n",
      "  y = column_or_1d(y, warn=True)\n",
      "/opt/anaconda3/lib/python3.7/site-packages/sklearn/utils/validation.py:760: DataConversionWarning: A column-vector y was passed when a 1d array was expected. Please change the shape of y to (n_samples, ), for example using ravel().\n",
      "  y = column_or_1d(y, warn=True)\n",
      "/opt/anaconda3/lib/python3.7/site-packages/sklearn/utils/validation.py:760: DataConversionWarning: A column-vector y was passed when a 1d array was expected. Please change the shape of y to (n_samples, ), for example using ravel().\n",
      "  y = column_or_1d(y, warn=True)\n",
      "/opt/anaconda3/lib/python3.7/site-packages/sklearn/utils/validation.py:760: DataConversionWarning: A column-vector y was passed when a 1d array was expected. Please change the shape of y to (n_samples, ), for example using ravel().\n",
      "  y = column_or_1d(y, warn=True)\n",
      "/opt/anaconda3/lib/python3.7/site-packages/sklearn/utils/validation.py:760: DataConversionWarning: A column-vector y was passed when a 1d array was expected. Please change the shape of y to (n_samples, ), for example using ravel().\n",
      "  y = column_or_1d(y, warn=True)\n",
      "/opt/anaconda3/lib/python3.7/site-packages/sklearn/utils/validation.py:760: DataConversionWarning: A column-vector y was passed when a 1d array was expected. Please change the shape of y to (n_samples, ), for example using ravel().\n",
      "  y = column_or_1d(y, warn=True)\n"
     ]
    }
   ],
   "source": [
    "svm_cm = confusion_matrix(y_test, svm_y_pred)\n",
    "print(svm_cm)\n",
    "\n",
    "from sklearn.model_selection import cross_val_score\n",
    "accuracies = cross_val_score(estimator = classifier, X = X_train, y = y_train, cv = 7)\n",
    "print(\"Accuracy: {:.2f} %\".format(accuracies.mean()*100))\n",
    "print(\"Standard Deviation: {:.2f} %\".format(accuracies.std()*100))\n"
   ]
  },
  {
   "cell_type": "code",
   "execution_count": 55,
   "metadata": {},
   "outputs": [
    {
     "name": "stderr",
     "output_type": "stream",
     "text": [
      "/opt/anaconda3/lib/python3.7/site-packages/sklearn/metrics/_classification.py:1272: UndefinedMetricWarning: Precision and F-score are ill-defined and being set to 0.0 in labels with no predicted samples. Use `zero_division` parameter to control this behavior.\n",
      "  _warn_prf(average, modifier, msg_start, len(result))\n"
     ]
    },
    {
     "data": {
      "text/plain": [
       "'              precision    recall  f1-score   support\\n\\n           0       0.76      0.98      0.86        52\\n           1       0.43      0.38      0.40        16\\n           2       0.30      0.43      0.35         7\\n           3       0.67      0.14      0.24        14\\n           4       0.00      0.00      0.00         5\\n\\n    accuracy                           0.66        94\\n   macro avg       0.43      0.39      0.37        94\\nweighted avg       0.62      0.66      0.60        94\\n'"
      ]
     },
     "execution_count": 55,
     "metadata": {},
     "output_type": "execute_result"
    }
   ],
   "source": [
    "classification_report(y_test, svm_y_pred, labels=None, target_names=None, sample_weight=None, digits=2)"
   ]
  },
  {
   "cell_type": "code",
   "execution_count": 56,
   "metadata": {},
   "outputs": [
    {
     "data": {
      "text/plain": [
       "26300"
      ]
     },
     "execution_count": 56,
     "metadata": {},
     "output_type": "execute_result"
    }
   ],
   "source": [
    "svm_benefit=calculate_net_benefit(svm_cm)\n",
    "svm_benefit"
   ]
  },
  {
   "cell_type": "markdown",
   "metadata": {},
   "source": [
    "***\n",
    "## Section: 4.3 - Evaluate the choice of the classifier\n",
    "- What characteristics of the problem and data made the classifier a good or bad choice?\n",
    "***"
   ]
  },
  {
   "cell_type": "markdown",
   "metadata": {},
   "source": [
    "### Problem\n",
    "\n",
    "- The percentages for each category vary widely, with \"0\" accounting for more than all the other categories combined. Because “0” make up such a large proportion, many other categories are wrongly predicted to be zeros.\n",
    "\n",
    "- Some categories have too few totals, such as \"4\". There is no prediction for \"4\".\n",
    "\n",
    "- All categories are not distinguished clearly in the feature space, so the prediction effect is poor."
   ]
  },
  {
   "cell_type": "markdown",
   "metadata": {},
   "source": [
    "***\n",
    "# Section: 5 - Evaluation of Off-The-Shelf Classifier #3\n",
    "- As with the KNN classifier above, choose another classifier from the SciKit Learn library (Decision Tree, SVM, Logistic Regression, etc.) and run it on the dataset.\n",
    "***"
   ]
  },
  {
   "cell_type": "markdown",
   "metadata": {},
   "source": [
    "***\n",
    "## Section: 5.1 - Configure the classifier\n",
    "- Use the appropriate classifier from the SciKit Learn library.\n",
    "- Explain all setup, parameters and execution options you chose to set, and why.\n",
    "***"
   ]
  },
  {
   "cell_type": "code",
   "execution_count": 57,
   "metadata": {},
   "outputs": [
    {
     "data": {
      "text/plain": [
       "array([2, 0, 0, 0, 0, 2, 0, 3, 2, 3, 1, 0, 2, 2, 0, 2, 0, 4, 0, 0, 0, 0,\n",
       "       1, 0, 0, 0, 0, 1, 0, 3, 0, 3, 0, 2, 0, 0, 3, 3, 0, 0, 1, 0, 0, 0,\n",
       "       0, 0, 0, 1, 0, 0, 0, 0, 0, 0, 1, 0, 0, 0, 2, 0, 2, 0, 0, 0, 0, 0,\n",
       "       0, 3, 2, 0, 0, 0, 0, 0, 0, 4, 0, 0, 0, 0, 0, 0, 2, 3, 1, 0, 1, 0,\n",
       "       0, 1, 0, 0, 0, 0])"
      ]
     },
     "execution_count": 57,
     "metadata": {},
     "output_type": "execute_result"
    }
   ],
   "source": [
    "from sklearn.ensemble import RandomForestClassifier\n",
    "\n",
    "#Create a Gaussian Classifier\n",
    "rf_clf=RandomForestClassifier(n_estimators=1000)\n",
    "\n",
    "#Train the model using the training sets y_pred=clf.predict(X_test)\n",
    "rf_clf.fit(X_train,y_train.squeeze())\n",
    "\n",
    "rf_y_pred=rf_clf.predict(X_test)\n",
    "\n",
    "rf_y_pred"
   ]
  },
  {
   "cell_type": "markdown",
   "metadata": {},
   "source": [
    "***\n",
    "## Section: 5.2 - Run and evaluate the classifier\n",
    "- Try several values of the parameters (if appropriate) and compare the results.\n",
    "- Evaluate the performance of the classifier, using the evaluation method you defined above.\n",
    "***"
   ]
  },
  {
   "cell_type": "code",
   "execution_count": 58,
   "metadata": {},
   "outputs": [
    {
     "name": "stdout",
     "output_type": "stream",
     "text": [
      "[[48  0  4  0  0]\n",
      " [11  1  2  2  0]\n",
      " [ 0  3  1  3  0]\n",
      " [ 4  4  3  2  1]\n",
      " [ 1  1  1  1  1]]\n",
      "Accuracy of our model is equal 56.38 %.\n"
     ]
    }
   ],
   "source": [
    "rf_cm = confusion_matrix(y_test, rf_y_pred)\n",
    "print(rf_cm)\n",
    "rf_accuracy = accuracy_score(y_test, rf_y_pred)*100\n",
    "print('Accuracy of our model is equal ' + str(round(rf_accuracy, 2)) + ' %.')"
   ]
  },
  {
   "cell_type": "code",
   "execution_count": 59,
   "metadata": {},
   "outputs": [
    {
     "data": {
      "text/plain": [
       "array([[0.1  , 0.107, 0.465, 0.289, 0.039],\n",
       "       [0.871, 0.125, 0.001, 0.003, 0.   ],\n",
       "       [0.431, 0.364, 0.024, 0.097, 0.084],\n",
       "       [0.665, 0.176, 0.1  , 0.034, 0.025],\n",
       "       [0.594, 0.204, 0.102, 0.059, 0.041],\n",
       "       [0.32 , 0.052, 0.348, 0.178, 0.102],\n",
       "       [0.678, 0.099, 0.174, 0.026, 0.023],\n",
       "       [0.253, 0.232, 0.163, 0.292, 0.06 ],\n",
       "       [0.138, 0.175, 0.434, 0.084, 0.169],\n",
       "       [0.215, 0.191, 0.258, 0.314, 0.022]])"
      ]
     },
     "execution_count": 59,
     "metadata": {},
     "output_type": "execute_result"
    }
   ],
   "source": [
    "rf_y_scores = rf_clf.predict_proba(X_test)\n",
    "rf_y_scores[0:10,:]"
   ]
  },
  {
   "cell_type": "code",
   "execution_count": 60,
   "metadata": {},
   "outputs": [
    {
     "data": {
      "text/plain": [
       "'              precision    recall  f1-score   support\\n\\n           0       0.75      0.92      0.83        52\\n           1       0.11      0.06      0.08        16\\n           2       0.09      0.14      0.11         7\\n           3       0.25      0.14      0.18        14\\n           4       0.50      0.20      0.29         5\\n\\n    accuracy                           0.56        94\\n   macro avg       0.34      0.29      0.30        94\\nweighted avg       0.50      0.56      0.52        94\\n'"
      ]
     },
     "execution_count": 60,
     "metadata": {},
     "output_type": "execute_result"
    }
   ],
   "source": [
    "classification_report(y_test, rf_y_pred, labels=None, target_names=None, sample_weight=None, digits=2)"
   ]
  },
  {
   "cell_type": "code",
   "execution_count": 61,
   "metadata": {},
   "outputs": [
    {
     "data": {
      "text/plain": [
       "17300"
      ]
     },
     "execution_count": 61,
     "metadata": {},
     "output_type": "execute_result"
    }
   ],
   "source": [
    "rf_benefit=calculate_net_benefit(rf_cm)\n",
    "rf_benefit"
   ]
  },
  {
   "cell_type": "markdown",
   "metadata": {},
   "source": [
    "***\n",
    "## Section: 5.3 - Evaluate the choice of the classifier\n",
    "- What characteristics of the problem and data made the classifier a good or bad choice?\n",
    "***"
   ]
  },
  {
   "cell_type": "markdown",
   "metadata": {},
   "source": [
    "### Problem\n",
    "\n",
    "- The percentages for each category vary widely, with \"0\" accounting for more than all the other categories combined. Because “0” make up such a large proportion, many other categories are wrongly predicted to be zeros.\n",
    "\n",
    "- Some categories have too few totals, such as \"4\". There is no prediction for \"4\".\n",
    "\n",
    "- All categories are not distinguished clearly in the feature space, so the prediction effect is poor."
   ]
  },
  {
   "cell_type": "markdown",
   "metadata": {},
   "source": [
    "***\n",
    "# Section: 6 - Comparison of the Three Classifiers\n",
    "***"
   ]
  },
  {
   "cell_type": "markdown",
   "metadata": {},
   "source": [
    "***\n",
    "## Section: 6.1 - Compare the performance of these classifiers to each other\n",
    "- What are their strong and weak points?\n",
    "***"
   ]
  },
  {
   "cell_type": "markdown",
   "metadata": {},
   "source": [
    "#### Accuracy\n",
    "\n",
    "- KNN (K=2):54.26 %.\n",
    "\n",
    "- SVM: 52.71 %\n",
    "\n",
    "- Random Forests:56.38 % \n",
    "\n",
    "#### Benefit\n",
    "\n",
    "- KNN (K=2):19000\n",
    "\n",
    "- SVM: 26300\n",
    "- Random Forests:17300\n",
    "\n",
    "#### Compare the performance\n",
    "\n",
    "- Random Forests has better acuuracy.\n",
    "\n",
    "- SVM has better Net Benefit"
   ]
  },
  {
   "cell_type": "markdown",
   "metadata": {},
   "source": [
    "***\n",
    "## Section: 6.2 - Choose a Best Classifier\n",
    "- Choose one of the three classifiers as best and explain why.\n",
    "***"
   ]
  },
  {
   "cell_type": "markdown",
   "metadata": {},
   "source": [
    "- From the patient's point of view, patients would rather be misjudged as sick than sick but judged as not sick. Unfortunately, all three are disappointing. Many sick people are judged to be free of disease.\n",
    "\n",
    "- From an economic point of view, of course, SVM is the best classifier, because it has the most benefits.\n",
    "\n",
    "- Since the accuaries of all these three methods are all bad, we should not choose any of them. We need to explore more methods or features to improve the classification accuary. "
   ]
  },
  {
   "cell_type": "markdown",
   "metadata": {},
   "source": [
    "***\n",
    "# Section: 7 - Conclusions\n",
    "- Write a paragraph on what you discovered or learned from this homework.\n",
    "***"
   ]
  },
  {
   "cell_type": "markdown",
   "metadata": {},
   "source": [
    "- First of all, this data set could be problematic. For example, the sample size of the five categories is not even. Moreover, the distribution of the five samples in the feature space may not be consistent with the actual situation. So the results of all three classifiers are very poor.\n",
    "\n",
    "- Even if there were some problems with the data set, I still thought it was a great exercise. I learned how to use a variety of classifiers and how to evaluate them. At the same time, the clever of homework design lies in the concept of benefits equation. This makes me understand that classifiers can bring direct benefits in practical applications.\n",
    "\n",
    "- In future tasks, I will make comprehensive use of the advantages of these classifiers to complete better classification and predict more meaningful benefits."
   ]
  },
  {
   "cell_type": "markdown",
   "metadata": {},
   "source": [
    "***\n",
    "### END-OF-SUBMISSION\n",
    "***"
   ]
  }
 ],
 "metadata": {
  "kernelspec": {
   "display_name": "Python 3",
   "language": "python",
   "name": "python3"
  },
  "language_info": {
   "codemirror_mode": {
    "name": "ipython",
    "version": 3
   },
   "file_extension": ".py",
   "mimetype": "text/x-python",
   "name": "python",
   "nbconvert_exporter": "python",
   "pygments_lexer": "ipython3",
   "version": "3.7.6"
  }
 },
 "nbformat": 4,
 "nbformat_minor": 4
}
