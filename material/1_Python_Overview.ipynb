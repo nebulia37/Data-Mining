{
 "cells": [
  {
   "cell_type": "markdown",
   "metadata": {},
   "source": [
    "# CSE 5243:  Spring 2021\n",
    "### Overview of Python and Jupyter Notebooks\n",
    "\n",
    "updated by J. Van Hulse, January 2020  \n",
    "updated by Gregory Ryslik, August 2021\n",
    "\n",
    "Python has become the standard language in data science and machine learning due to its ease of use and large number of third-party libraries that augment the standard packages. Furthermore, Jupyter notebooks have become the default Python environments for doing data analysis or modeling. \n",
    "\n",
    "Python is a general purpose programming language, so this notebook provides an overview of Python as it relates to data mining and analysis effort. In addition, you will be exposure to the Jupyter notebook environment. \n",
    "\n",
    "Note that I will work in Python version 3. You should do the same. \n",
    "\n"
   ]
  },
  {
   "cell_type": "markdown",
   "metadata": {},
   "source": [
    "## Basic Data Structures in Python"
   ]
  },
  {
   "cell_type": "markdown",
   "metadata": {},
   "source": [
    "Besides the usual data types like String, Int, and Boolean, there are three additional data structures that are commonly uesd: `list`, `dictionary`, and `tuple`"
   ]
  },
  {
   "cell_type": "code",
   "execution_count": 4,
   "metadata": {},
   "outputs": [
    {
     "name": "stdout",
     "output_type": "stream",
     "text": [
      "[1, 2, 3, 4, 5]\n"
     ]
    }
   ],
   "source": [
    "my_list = [1, 2, 3, 4, 5]\n",
    "print(my_list)"
   ]
  },
  {
   "cell_type": "markdown",
   "metadata": {},
   "source": [
    "Python lists are mutable (i.e., the values can change) and they can contain different data types"
   ]
  },
  {
   "cell_type": "code",
   "execution_count": 5,
   "metadata": {},
   "outputs": [
    {
     "name": "stdout",
     "output_type": "stream",
     "text": [
      "[1, 'Fred', True]\n"
     ]
    }
   ],
   "source": [
    "my_second_list = [1, \"Fred\", True]\n",
    "print(my_second_list)"
   ]
  },
  {
   "cell_type": "code",
   "execution_count": 10,
   "metadata": {},
   "outputs": [
    {
     "data": {
      "text/plain": [
       "[0, 1, 4]"
      ]
     },
     "execution_count": 10,
     "metadata": {},
     "output_type": "execute_result"
    }
   ],
   "source": [
    "[x**2 for x in range(3)]"
   ]
  },
  {
   "cell_type": "markdown",
   "metadata": {},
   "source": [
    "Individual elements of a list can be accessed using the index position of the list:"
   ]
  },
  {
   "cell_type": "code",
   "execution_count": 3,
   "metadata": {},
   "outputs": [
    {
     "name": "stdout",
     "output_type": "stream",
     "text": [
      "Fred\n"
     ]
    }
   ],
   "source": [
    "print(my_second_list[1])"
   ]
  },
  {
   "cell_type": "markdown",
   "metadata": {},
   "source": [
    "**Tuples** are similar to lists, but they are immutable. Use tuples to hold constants that you do not want to change."
   ]
  },
  {
   "cell_type": "code",
   "execution_count": 4,
   "metadata": {},
   "outputs": [
    {
     "ename": "TypeError",
     "evalue": "'tuple' object does not support item assignment",
     "output_type": "error",
     "traceback": [
      "\u001b[0;31m---------------------------------------------------------------------------\u001b[0m",
      "\u001b[0;31mTypeError\u001b[0m                                 Traceback (most recent call last)",
      "\u001b[0;32m<ipython-input-4-2a25f1eff4f1>\u001b[0m in \u001b[0;36m<module>\u001b[0;34m\u001b[0m\n\u001b[1;32m      1\u001b[0m \u001b[0mmy_tuple\u001b[0m \u001b[0;34m=\u001b[0m \u001b[0;34m(\u001b[0m\u001b[0;36m2\u001b[0m\u001b[0;34m,\u001b[0m \u001b[0;36m5\u001b[0m\u001b[0;34m,\u001b[0m \u001b[0;36m10\u001b[0m\u001b[0;34m)\u001b[0m\u001b[0;34m\u001b[0m\u001b[0;34m\u001b[0m\u001b[0m\n\u001b[0;32m----> 2\u001b[0;31m \u001b[0mmy_tuple\u001b[0m\u001b[0;34m[\u001b[0m\u001b[0;36m0\u001b[0m\u001b[0;34m]\u001b[0m \u001b[0;34m=\u001b[0m \u001b[0;36m12\u001b[0m \u001b[0;31m#I can't assign 2 to the first element of the tuple.\u001b[0m\u001b[0;34m\u001b[0m\u001b[0;34m\u001b[0m\u001b[0m\n\u001b[0m",
      "\u001b[0;31mTypeError\u001b[0m: 'tuple' object does not support item assignment"
     ]
    }
   ],
   "source": [
    "my_tuple = (2, 5, 10)\n",
    "my_tuple[0] = 12 #I can't assign 2 to the first element of the tuple. "
   ]
  },
  {
   "cell_type": "markdown",
   "metadata": {},
   "source": [
    "**Dictionaries** are used to hold data which has a **key-value pair** relationship. "
   ]
  },
  {
   "cell_type": "code",
   "execution_count": 5,
   "metadata": {},
   "outputs": [
    {
     "name": "stdout",
     "output_type": "stream",
     "text": [
      "{'name': 'George Washington', 'Year of Birth': 1732}\n"
     ]
    }
   ],
   "source": [
    "import datetime\n",
    "my_dictionary = {'name':'George Washington', 'Year of Birth': 1732}\n",
    "print(my_dictionary)"
   ]
  },
  {
   "cell_type": "markdown",
   "metadata": {},
   "source": [
    "You can access a particular value in the dictionary by specifying the key as follows:"
   ]
  },
  {
   "cell_type": "code",
   "execution_count": 6,
   "metadata": {},
   "outputs": [
    {
     "name": "stdout",
     "output_type": "stream",
     "text": [
      "1732\n"
     ]
    }
   ],
   "source": [
    "print(my_dictionary['Year of Birth'])"
   ]
  },
  {
   "cell_type": "markdown",
   "metadata": {},
   "source": [
    "You can also update a value or even add new key-value pairs:"
   ]
  },
  {
   "cell_type": "code",
   "execution_count": 7,
   "metadata": {},
   "outputs": [
    {
     "name": "stdout",
     "output_type": "stream",
     "text": [
      "{'name': 'George Washington', 'Year of Birth': 1732, 'Year of Death': 1799}\n"
     ]
    }
   ],
   "source": [
    "my_dictionary['Year of Death'] =  1799\n",
    "print(my_dictionary)"
   ]
  },
  {
   "cell_type": "markdown",
   "metadata": {},
   "source": [
    "## Conditional Statements"
   ]
  },
  {
   "cell_type": "markdown",
   "metadata": {},
   "source": [
    "Python has the usual constructs to control program flow, such as the `if` statement:"
   ]
  },
  {
   "cell_type": "code",
   "execution_count": 8,
   "metadata": {},
   "outputs": [
    {
     "name": "stdout",
     "output_type": "stream",
     "text": [
      "2\n"
     ]
    }
   ],
   "source": [
    "a = 15\n",
    "\n",
    "if a < 10:\n",
    "    print(0)\n",
    "elif a == 10:\n",
    "    print(1)\n",
    "else:\n",
    "    print(2)"
   ]
  },
  {
   "cell_type": "markdown",
   "metadata": {},
   "source": [
    "Here is an example of a `for` loop. When creating a for loop, it is useful to define an **iterable** that the loop can iterate over. In this example, the iterable that I created uses the *range* function. Iterables can be lists, dictionaries, or strings, among many other data types. "
   ]
  },
  {
   "cell_type": "code",
   "execution_count": 9,
   "metadata": {},
   "outputs": [
    {
     "name": "stdout",
     "output_type": "stream",
     "text": [
      "0\n",
      "1\n",
      "2\n",
      "3\n",
      "4\n"
     ]
    }
   ],
   "source": [
    "for i in range(5):\n",
    "    print(i)"
   ]
  },
  {
   "cell_type": "markdown",
   "metadata": {},
   "source": [
    "Here's a fun example combining nested if statements an. We would like to find positive integers $p, q, \\mbox{ and } r$ such that the equation\n",
    "\n",
    "$$\n",
    "1 = \\frac{1}{42} + \\frac{1}{p} + \\frac{1}{q} + \\frac{1}{r}\n",
    "$$\n",
    "\n",
    "is true. "
   ]
  },
  {
   "cell_type": "code",
   "execution_count": 10,
   "metadata": {
    "scrolled": true
   },
   "outputs": [
    {
     "name": "stdout",
     "output_type": "stream",
     "text": [
      "2 3 7\n",
      "2 7 3\n",
      "3 2 7\n",
      "3 7 2\n",
      "7 2 3\n",
      "7 3 2\n"
     ]
    }
   ],
   "source": [
    "for p in range(1, 100):\n",
    "    for q in range(1, 100):\n",
    "        for r in range(1, 100):\n",
    "            if 1/42 + 1/p + 1/q + 1/r == 1:\n",
    "                print(p, q, r)"
   ]
  },
  {
   "cell_type": "markdown",
   "metadata": {},
   "source": [
    "The Python packages `pandas`, `numpy` and `matplotlib` are very useful data science utilities. Many programs will start by importing these packages. "
   ]
  },
  {
   "cell_type": "code",
   "execution_count": 12,
   "metadata": {},
   "outputs": [],
   "source": [
    "import pandas as pd\n",
    "import numpy as np\n",
    "import matplotlib.pyplot as plt\n",
    "%matplotlib inline"
   ]
  },
  {
   "cell_type": "markdown",
   "metadata": {},
   "source": [
    "## A little bit on NumPy"
   ]
  },
  {
   "cell_type": "markdown",
   "metadata": {},
   "source": [
    "NumPy is a Python package that provides a set of capabilities to store and operate on dense data. It is kind of like a Python list, but NumPy arrays provide much more efficient storage and data operations as the size of the data grows. "
   ]
  },
  {
   "cell_type": "code",
   "execution_count": 13,
   "metadata": {},
   "outputs": [],
   "source": [
    "#this is a code cell. Commands entered into a code cell will be executed by the interpreter. \n",
    "x = np.random.normal(size=500)   # generate a numpy array of normally distributed random values"
   ]
  },
  {
   "cell_type": "markdown",
   "metadata": {},
   "source": [
    "In a `numpy` array, you can access individual entries or a range of entries"
   ]
  },
  {
   "cell_type": "code",
   "execution_count": 19,
   "metadata": {},
   "outputs": [
    {
     "data": {
      "text/plain": [
       "array([-4.41530930e-01, -4.71100380e-01,  1.28021054e+00,  5.63401825e-02,\n",
       "        1.19662466e+00,  5.92699530e-01,  1.93557990e+00, -2.28323903e-02,\n",
       "        9.88803965e-01,  6.77339636e-01,  9.65499078e-01,  1.06627515e+00,\n",
       "        3.32389489e-01, -2.98949422e-01,  4.16322054e-01, -3.26877425e-01,\n",
       "        1.47975101e-01,  1.00914657e+00, -1.95844253e+00, -1.66067961e-01,\n",
       "        9.62410892e-01, -1.96799530e-01,  4.50780532e-01, -4.86594818e-01,\n",
       "        1.20572381e+00, -1.52917919e+00,  4.85139244e-01, -3.47160923e-01,\n",
       "       -4.73425635e-01, -1.63525653e-03,  5.28400906e-01,  6.45876232e-01,\n",
       "       -5.69873568e-02,  1.15740880e+00, -1.06995907e+00, -1.26638080e+00,\n",
       "        3.67023108e+00,  7.35349458e-01,  1.54241342e+00,  3.26437553e-01,\n",
       "        6.86714200e-01, -1.46350692e+00, -7.52695951e-02,  5.21097042e-02,\n",
       "       -7.76650119e-01,  9.82465858e-01,  5.28062406e-01, -2.11759386e-01,\n",
       "        6.82351966e-01,  8.12300799e-01,  1.97079564e+00, -6.92945572e-01,\n",
       "       -7.10684118e-01,  3.26430857e-01, -4.02092208e-01,  1.02763116e+00,\n",
       "        1.95707327e-01,  2.69023466e-01, -1.88800480e+00, -1.04098324e+00,\n",
       "       -8.40535546e-01, -3.04122123e-01,  1.44962858e+00,  9.16936253e-01,\n",
       "        4.25118575e-01,  3.69459018e-01, -2.60445295e-01,  1.81576081e+00,\n",
       "       -1.05819249e+00, -9.41920633e-01, -1.15570076e+00,  5.34785774e-01,\n",
       "       -8.26734265e-01,  7.87934041e-02, -1.20873873e+00, -8.34171440e-01,\n",
       "       -4.31700751e-01,  1.13698184e+00,  2.41578326e-01,  2.51448237e-02,\n",
       "        6.16098591e-01,  2.94979649e-01, -2.30520965e+00,  1.14624713e-01,\n",
       "        7.41835720e-01,  1.74051664e-01, -1.72830611e-02, -1.02920668e-01,\n",
       "        9.25519483e-01,  4.26130758e-01, -3.80541663e-01,  4.25586539e-01,\n",
       "        2.22371078e-01, -1.66362618e+00, -6.36011670e-01, -1.12644973e+00,\n",
       "       -1.72292328e+00,  3.40853470e-01,  1.66135338e+00,  1.46396175e-01,\n",
       "        7.42712423e-01,  5.24673282e-01, -8.56217576e-01,  4.24813158e-01,\n",
       "        1.21551411e+00,  1.57571629e-02, -2.54487417e-01, -9.03828344e-01,\n",
       "        1.27548628e+00, -2.30486205e+00,  7.07390534e-01,  9.88010318e-01,\n",
       "        6.29611391e-01,  5.94487629e-01,  6.41331335e-02,  8.77266785e-01,\n",
       "       -4.52866393e-01,  2.65740795e-01, -9.01550395e-01, -1.72456203e+00,\n",
       "       -7.75645665e-02, -1.13596029e+00, -1.19997251e+00,  1.30154289e-01,\n",
       "       -9.40001308e-01, -1.27622628e-01, -4.91119667e-02, -1.28974007e-01,\n",
       "       -1.86283331e+00,  3.92953425e-01,  1.46079495e-01, -5.42092729e-01,\n",
       "       -9.39886578e-01,  4.34585265e-01,  1.09623657e+00, -7.48546241e-01,\n",
       "       -1.51244098e-01, -3.90185722e-01, -1.10650842e+00, -1.19723760e+00,\n",
       "       -1.04827443e+00,  2.20442017e-02,  1.07716814e+00, -6.86491047e-01,\n",
       "        1.53541320e+00,  1.00687050e+00, -2.93717896e-01, -1.28451756e-02,\n",
       "       -9.50004769e-01, -1.25584407e+00, -1.08037743e+00,  2.25965620e+00,\n",
       "        6.37105657e-01,  1.96813848e-01,  5.07747727e-01, -7.62765618e-01,\n",
       "       -1.19276148e+00, -1.18593540e+00, -1.30497309e+00, -1.55842560e+00,\n",
       "        1.24882937e-01,  2.40752003e-02, -3.85127283e-01,  1.59018431e+00,\n",
       "       -9.88883325e-01,  7.02986828e-01,  4.20454264e-01,  1.71436566e+00,\n",
       "       -9.10881525e-01, -1.15564735e+00, -6.02569076e-01, -5.44597118e-01,\n",
       "       -3.68320254e-01, -3.57570827e-01, -7.28960731e-01, -1.20924737e-01,\n",
       "        1.54418770e-05, -2.68327303e+00,  8.03444315e-01, -1.86636462e+00,\n",
       "        1.47275351e+00, -3.39255162e-01, -7.08168544e-02, -1.18583981e+00,\n",
       "        1.40695932e+00, -5.82697466e-02, -9.91094646e-01, -6.16758977e-02,\n",
       "        1.59278649e-01, -1.04435089e+00, -8.74285686e-01, -1.51178488e+00,\n",
       "        1.09884093e+00, -1.33501896e+00,  5.46747430e-01, -3.72475874e-01,\n",
       "       -1.23498685e+00, -2.79789431e-01, -1.13713458e+00,  1.02154863e+00,\n",
       "       -1.80444533e+00, -1.67795382e+00, -1.93143735e+00,  1.56141705e+00,\n",
       "       -8.02106669e-01,  2.95874259e-01, -6.69459598e-01, -1.91023733e-02,\n",
       "       -1.06300056e+00, -5.05903061e-01,  1.46575928e-01,  5.22394115e-01,\n",
       "        1.14928302e+00, -1.16445263e+00,  4.52071878e-01, -3.82918344e-01,\n",
       "       -9.46371403e-01, -2.90140709e-01,  1.62314586e+00,  1.68498945e-03,\n",
       "       -5.69590863e-01,  6.38997416e-02, -1.69810729e-01,  3.06933135e+00,\n",
       "        6.35778830e-01,  2.84180494e-01, -1.42543692e+00,  2.50036894e-01,\n",
       "        8.84748779e-01,  4.86673712e-01, -5.80657645e-01,  7.48828183e-02,\n",
       "        6.18101927e-01,  5.42406434e-01,  2.74238772e-01, -7.69639062e-01,\n",
       "        3.55325170e-01,  5.46584986e-01, -2.79669359e-01, -7.26468898e-02,\n",
       "        3.57955106e-01,  1.45855028e+00,  1.22230715e-01,  1.31473112e-01,\n",
       "        6.17317583e-02,  2.41864535e-01,  8.77406861e-01, -5.70410869e-02,\n",
       "        8.96085111e-01, -1.16377667e-01, -1.83063504e-03,  7.16205288e-01,\n",
       "        1.13134933e+00,  1.56833113e-01,  1.24726255e+00, -1.24580659e-01,\n",
       "        6.55139674e-01,  2.26005853e-01, -1.13964482e-01, -2.42712607e-01,\n",
       "       -9.03842465e-01,  3.52183961e-01, -1.09289309e+00, -2.50967627e-01,\n",
       "       -1.15117036e+00,  7.18094323e-01, -1.59251934e-01, -5.63779036e-01,\n",
       "        8.25193902e-01, -9.06021438e-01, -1.13523688e+00, -5.42185768e-01,\n",
       "       -4.34747867e-01,  5.05867132e-01,  1.98463633e+00,  2.69469641e-01,\n",
       "        2.95970833e+00, -3.58314142e-01,  7.46252926e-01,  9.47274485e-02,\n",
       "        2.72144386e-02,  3.57482524e-01,  4.43745746e-01,  3.70693517e-01,\n",
       "       -1.03339599e+00, -8.25905513e-01, -6.25675380e-01, -6.17955424e-02,\n",
       "        7.74479531e-01, -6.84042112e-01,  2.30515439e+00, -1.20144365e+00,\n",
       "        1.09425611e+00, -1.78238102e-02, -2.62026761e-01, -9.46571029e-01,\n",
       "        9.64501282e-01,  9.63216394e-01, -1.38215621e+00,  2.31018965e-01,\n",
       "        1.44770201e+00, -1.64511393e+00,  1.07242692e-01, -3.90466009e-01,\n",
       "       -3.87561698e-01,  6.13021464e-01, -2.10077620e+00, -1.42619473e+00,\n",
       "       -7.70069864e-01,  2.61780792e-01,  5.16459569e-01,  2.43105691e-01,\n",
       "        3.83748457e-01,  1.01050775e-01,  5.63994723e-02, -2.35675365e-01,\n",
       "        3.73496171e-01, -1.97235240e+00,  5.75113757e-01, -1.05608324e+00,\n",
       "       -5.08744285e-01,  2.66772195e-01, -1.01319138e+00,  4.00360194e-01,\n",
       "        5.92314990e-01,  1.20389140e+00,  8.95636854e-01,  1.20365777e+00,\n",
       "        1.34861010e+00, -1.09030647e+00, -1.03812335e+00,  4.76164112e-01,\n",
       "       -2.41341214e-02,  2.80574283e-01,  9.23120644e-01,  7.07908182e-01,\n",
       "        6.09210966e-01,  3.15007777e-01,  8.88943560e-01,  4.59957446e-01,\n",
       "       -7.77036022e-02, -1.00095204e+00, -1.18765430e+00,  1.34892132e+00,\n",
       "       -4.69689611e-01,  1.42249070e+00,  2.23625763e+00,  1.69669781e-01,\n",
       "       -4.02675407e-01,  4.13782102e-01, -1.33561929e-01, -7.33988563e-01,\n",
       "        2.36861369e-01, -2.67895810e-01,  2.69444166e-01,  1.47464278e-01,\n",
       "       -8.04624278e-01, -1.55480816e-01,  1.91234684e+00, -2.05195296e+00,\n",
       "        2.39036978e-01,  5.02841839e-01, -2.77253658e+00, -1.36014031e+00,\n",
       "        1.33783041e+00, -1.19903026e+00,  4.37423831e-01,  1.36230928e+00,\n",
       "       -6.72261643e-02, -4.16097989e-01, -2.08320177e+00,  1.99528295e-02,\n",
       "       -5.15484529e-01, -2.20735857e+00, -5.70630692e-02,  8.58934594e-02,\n",
       "       -2.22803909e+00,  1.60212116e-01,  1.81622215e+00, -2.79829688e+00,\n",
       "        2.30656854e+00,  2.05022686e-01, -7.07308096e-01,  6.25083653e-01,\n",
       "       -1.73207314e+00,  3.70664764e-01, -2.15002820e-01,  8.51106415e-02,\n",
       "        5.98118083e-02,  3.56711038e-01, -9.01445767e-01, -1.07229404e-01,\n",
       "       -1.32119640e+00,  7.26021847e-01,  1.43284704e+00,  1.35194616e+00,\n",
       "       -5.46321840e-01, -3.33940551e-01,  7.48236790e-01,  4.73296724e-01,\n",
       "       -7.64718097e-01,  1.00987504e+00, -9.40509654e-01, -4.95627052e-01,\n",
       "       -1.72225235e+00,  2.06651203e+00, -7.49346189e-01, -1.72640659e+00,\n",
       "       -9.91711409e-01, -1.09478203e+00, -5.79985058e-02,  7.29799919e-01,\n",
       "        7.25017444e-01,  2.23508903e-01, -2.17822246e-01, -1.97407194e+00,\n",
       "        4.44487336e-01, -1.19139017e+00, -5.02623881e-01,  6.46763486e-01,\n",
       "       -9.78984116e-01, -3.82012735e-01,  6.08237767e-01,  4.79601888e-01,\n",
       "       -1.50836089e+00, -4.78913340e-01,  7.18204449e-01, -1.47657211e+00,\n",
       "       -2.69285151e-01, -7.85800156e-01, -6.52817773e-01, -9.09530045e-01,\n",
       "        1.58195191e-01,  3.68920616e-02,  2.18419750e-01,  2.66659282e-01,\n",
       "       -1.86924167e+00,  2.70544873e+00, -1.22029704e+00, -1.58246154e+00,\n",
       "        7.19986357e-02, -1.73567892e+00, -7.09519988e-01,  1.39467193e+00,\n",
       "        1.21558234e-01,  4.12396765e-01,  2.47827628e+00,  1.79710767e+00,\n",
       "        1.74507564e-01,  7.80143744e-01,  1.02460720e+00,  2.04066534e+00,\n",
       "        1.42730700e+00,  1.05029004e+00, -5.31852197e-01,  1.18456525e+00,\n",
       "       -3.02828155e-01,  2.74044394e-01,  9.77628250e-01,  1.02770967e+00,\n",
       "       -1.66788770e+00, -4.68451123e-01, -8.16565695e-01, -9.35054049e-01,\n",
       "        1.01912291e+00, -5.16605829e-01, -8.07246861e-01,  1.22656218e+00,\n",
       "       -2.21465694e-01, -6.72991550e-01,  1.22952789e+00, -2.91447661e-02,\n",
       "       -2.13602898e+00, -5.92104836e-01,  4.08276206e-01,  1.27041995e+00,\n",
       "       -2.06009378e+00, -1.48410976e+00, -1.44417849e+00,  7.66456453e-01,\n",
       "        2.88296445e-01, -6.08821235e-01,  7.47592887e-01, -3.86394722e-01,\n",
       "       -1.47249129e+00,  4.28091476e-02,  1.32658366e-01, -1.83064002e+00,\n",
       "        1.18813896e+00, -2.71901484e-01, -1.41338911e-01,  3.52099041e-01,\n",
       "       -1.43365444e+00,  8.62903145e-01,  1.89006228e-01,  6.59479656e-01,\n",
       "        3.53730880e-01, -8.13171686e-01, -1.24192284e+00,  2.01672956e+00])"
      ]
     },
     "execution_count": 19,
     "metadata": {},
     "output_type": "execute_result"
    }
   ],
   "source": [
    "x"
   ]
  },
  {
   "cell_type": "code",
   "execution_count": 21,
   "metadata": {},
   "outputs": [
    {
     "data": {
      "text/plain": [
       "array([ 2.01672956e+00, -1.24192284e+00, -8.13171686e-01,  3.53730880e-01,\n",
       "        6.59479656e-01,  1.89006228e-01,  8.62903145e-01, -1.43365444e+00,\n",
       "        3.52099041e-01, -1.41338911e-01, -2.71901484e-01,  1.18813896e+00,\n",
       "       -1.83064002e+00,  1.32658366e-01,  4.28091476e-02, -1.47249129e+00,\n",
       "       -3.86394722e-01,  7.47592887e-01, -6.08821235e-01,  2.88296445e-01,\n",
       "        7.66456453e-01, -1.44417849e+00, -1.48410976e+00, -2.06009378e+00,\n",
       "        1.27041995e+00,  4.08276206e-01, -5.92104836e-01, -2.13602898e+00,\n",
       "       -2.91447661e-02,  1.22952789e+00, -6.72991550e-01, -2.21465694e-01,\n",
       "        1.22656218e+00, -8.07246861e-01, -5.16605829e-01,  1.01912291e+00,\n",
       "       -9.35054049e-01, -8.16565695e-01, -4.68451123e-01, -1.66788770e+00,\n",
       "        1.02770967e+00,  9.77628250e-01,  2.74044394e-01, -3.02828155e-01,\n",
       "        1.18456525e+00, -5.31852197e-01,  1.05029004e+00,  1.42730700e+00,\n",
       "        2.04066534e+00,  1.02460720e+00,  7.80143744e-01,  1.74507564e-01,\n",
       "        1.79710767e+00,  2.47827628e+00,  4.12396765e-01,  1.21558234e-01,\n",
       "        1.39467193e+00, -7.09519988e-01, -1.73567892e+00,  7.19986357e-02,\n",
       "       -1.58246154e+00, -1.22029704e+00,  2.70544873e+00, -1.86924167e+00,\n",
       "        2.66659282e-01,  2.18419750e-01,  3.68920616e-02,  1.58195191e-01,\n",
       "       -9.09530045e-01, -6.52817773e-01, -7.85800156e-01, -2.69285151e-01,\n",
       "       -1.47657211e+00,  7.18204449e-01, -4.78913340e-01, -1.50836089e+00,\n",
       "        4.79601888e-01,  6.08237767e-01, -3.82012735e-01, -9.78984116e-01,\n",
       "        6.46763486e-01, -5.02623881e-01, -1.19139017e+00,  4.44487336e-01,\n",
       "       -1.97407194e+00, -2.17822246e-01,  2.23508903e-01,  7.25017444e-01,\n",
       "        7.29799919e-01, -5.79985058e-02, -1.09478203e+00, -9.91711409e-01,\n",
       "       -1.72640659e+00, -7.49346189e-01,  2.06651203e+00, -1.72225235e+00,\n",
       "       -4.95627052e-01, -9.40509654e-01,  1.00987504e+00, -7.64718097e-01,\n",
       "        4.73296724e-01,  7.48236790e-01, -3.33940551e-01, -5.46321840e-01,\n",
       "        1.35194616e+00,  1.43284704e+00,  7.26021847e-01, -1.32119640e+00,\n",
       "       -1.07229404e-01, -9.01445767e-01,  3.56711038e-01,  5.98118083e-02,\n",
       "        8.51106415e-02, -2.15002820e-01,  3.70664764e-01, -1.73207314e+00,\n",
       "        6.25083653e-01, -7.07308096e-01,  2.05022686e-01,  2.30656854e+00,\n",
       "       -2.79829688e+00,  1.81622215e+00,  1.60212116e-01, -2.22803909e+00,\n",
       "        8.58934594e-02, -5.70630692e-02, -2.20735857e+00, -5.15484529e-01,\n",
       "        1.99528295e-02, -2.08320177e+00, -4.16097989e-01, -6.72261643e-02,\n",
       "        1.36230928e+00,  4.37423831e-01, -1.19903026e+00,  1.33783041e+00,\n",
       "       -1.36014031e+00, -2.77253658e+00,  5.02841839e-01,  2.39036978e-01,\n",
       "       -2.05195296e+00,  1.91234684e+00, -1.55480816e-01, -8.04624278e-01,\n",
       "        1.47464278e-01,  2.69444166e-01, -2.67895810e-01,  2.36861369e-01,\n",
       "       -7.33988563e-01, -1.33561929e-01,  4.13782102e-01, -4.02675407e-01,\n",
       "        1.69669781e-01,  2.23625763e+00,  1.42249070e+00, -4.69689611e-01,\n",
       "        1.34892132e+00, -1.18765430e+00, -1.00095204e+00, -7.77036022e-02,\n",
       "        4.59957446e-01,  8.88943560e-01,  3.15007777e-01,  6.09210966e-01,\n",
       "        7.07908182e-01,  9.23120644e-01,  2.80574283e-01, -2.41341214e-02,\n",
       "        4.76164112e-01, -1.03812335e+00, -1.09030647e+00,  1.34861010e+00,\n",
       "        1.20365777e+00,  8.95636854e-01,  1.20389140e+00,  5.92314990e-01,\n",
       "        4.00360194e-01, -1.01319138e+00,  2.66772195e-01, -5.08744285e-01,\n",
       "       -1.05608324e+00,  5.75113757e-01, -1.97235240e+00,  3.73496171e-01,\n",
       "       -2.35675365e-01,  5.63994723e-02,  1.01050775e-01,  3.83748457e-01,\n",
       "        2.43105691e-01,  5.16459569e-01,  2.61780792e-01, -7.70069864e-01,\n",
       "       -1.42619473e+00, -2.10077620e+00,  6.13021464e-01, -3.87561698e-01,\n",
       "       -3.90466009e-01,  1.07242692e-01, -1.64511393e+00,  1.44770201e+00,\n",
       "        2.31018965e-01, -1.38215621e+00,  9.63216394e-01,  9.64501282e-01,\n",
       "       -9.46571029e-01, -2.62026761e-01, -1.78238102e-02,  1.09425611e+00,\n",
       "       -1.20144365e+00,  2.30515439e+00, -6.84042112e-01,  7.74479531e-01,\n",
       "       -6.17955424e-02, -6.25675380e-01, -8.25905513e-01, -1.03339599e+00,\n",
       "        3.70693517e-01,  4.43745746e-01,  3.57482524e-01,  2.72144386e-02,\n",
       "        9.47274485e-02,  7.46252926e-01, -3.58314142e-01,  2.95970833e+00,\n",
       "        2.69469641e-01,  1.98463633e+00,  5.05867132e-01, -4.34747867e-01,\n",
       "       -5.42185768e-01, -1.13523688e+00, -9.06021438e-01,  8.25193902e-01,\n",
       "       -5.63779036e-01, -1.59251934e-01,  7.18094323e-01, -1.15117036e+00,\n",
       "       -2.50967627e-01, -1.09289309e+00,  3.52183961e-01, -9.03842465e-01,\n",
       "       -2.42712607e-01, -1.13964482e-01,  2.26005853e-01,  6.55139674e-01,\n",
       "       -1.24580659e-01,  1.24726255e+00,  1.56833113e-01,  1.13134933e+00,\n",
       "        7.16205288e-01, -1.83063504e-03, -1.16377667e-01,  8.96085111e-01,\n",
       "       -5.70410869e-02,  8.77406861e-01,  2.41864535e-01,  6.17317583e-02,\n",
       "        1.31473112e-01,  1.22230715e-01,  1.45855028e+00,  3.57955106e-01,\n",
       "       -7.26468898e-02, -2.79669359e-01,  5.46584986e-01,  3.55325170e-01,\n",
       "       -7.69639062e-01,  2.74238772e-01,  5.42406434e-01,  6.18101927e-01,\n",
       "        7.48828183e-02, -5.80657645e-01,  4.86673712e-01,  8.84748779e-01,\n",
       "        2.50036894e-01, -1.42543692e+00,  2.84180494e-01,  6.35778830e-01,\n",
       "        3.06933135e+00, -1.69810729e-01,  6.38997416e-02, -5.69590863e-01,\n",
       "        1.68498945e-03,  1.62314586e+00, -2.90140709e-01, -9.46371403e-01,\n",
       "       -3.82918344e-01,  4.52071878e-01, -1.16445263e+00,  1.14928302e+00,\n",
       "        5.22394115e-01,  1.46575928e-01, -5.05903061e-01, -1.06300056e+00,\n",
       "       -1.91023733e-02, -6.69459598e-01,  2.95874259e-01, -8.02106669e-01,\n",
       "        1.56141705e+00, -1.93143735e+00, -1.67795382e+00, -1.80444533e+00,\n",
       "        1.02154863e+00, -1.13713458e+00, -2.79789431e-01, -1.23498685e+00,\n",
       "       -3.72475874e-01,  5.46747430e-01, -1.33501896e+00,  1.09884093e+00,\n",
       "       -1.51178488e+00, -8.74285686e-01, -1.04435089e+00,  1.59278649e-01,\n",
       "       -6.16758977e-02, -9.91094646e-01, -5.82697466e-02,  1.40695932e+00,\n",
       "       -1.18583981e+00, -7.08168544e-02, -3.39255162e-01,  1.47275351e+00,\n",
       "       -1.86636462e+00,  8.03444315e-01, -2.68327303e+00,  1.54418770e-05,\n",
       "       -1.20924737e-01, -7.28960731e-01, -3.57570827e-01, -3.68320254e-01,\n",
       "       -5.44597118e-01, -6.02569076e-01, -1.15564735e+00, -9.10881525e-01,\n",
       "        1.71436566e+00,  4.20454264e-01,  7.02986828e-01, -9.88883325e-01,\n",
       "        1.59018431e+00, -3.85127283e-01,  2.40752003e-02,  1.24882937e-01,\n",
       "       -1.55842560e+00, -1.30497309e+00, -1.18593540e+00, -1.19276148e+00,\n",
       "       -7.62765618e-01,  5.07747727e-01,  1.96813848e-01,  6.37105657e-01,\n",
       "        2.25965620e+00, -1.08037743e+00, -1.25584407e+00, -9.50004769e-01,\n",
       "       -1.28451756e-02, -2.93717896e-01,  1.00687050e+00,  1.53541320e+00,\n",
       "       -6.86491047e-01,  1.07716814e+00,  2.20442017e-02, -1.04827443e+00,\n",
       "       -1.19723760e+00, -1.10650842e+00, -3.90185722e-01, -1.51244098e-01,\n",
       "       -7.48546241e-01,  1.09623657e+00,  4.34585265e-01, -9.39886578e-01,\n",
       "       -5.42092729e-01,  1.46079495e-01,  3.92953425e-01, -1.86283331e+00,\n",
       "       -1.28974007e-01, -4.91119667e-02, -1.27622628e-01, -9.40001308e-01,\n",
       "        1.30154289e-01, -1.19997251e+00, -1.13596029e+00, -7.75645665e-02,\n",
       "       -1.72456203e+00, -9.01550395e-01,  2.65740795e-01, -4.52866393e-01,\n",
       "        8.77266785e-01,  6.41331335e-02,  5.94487629e-01,  6.29611391e-01,\n",
       "        9.88010318e-01,  7.07390534e-01, -2.30486205e+00,  1.27548628e+00,\n",
       "       -9.03828344e-01, -2.54487417e-01,  1.57571629e-02,  1.21551411e+00,\n",
       "        4.24813158e-01, -8.56217576e-01,  5.24673282e-01,  7.42712423e-01,\n",
       "        1.46396175e-01,  1.66135338e+00,  3.40853470e-01, -1.72292328e+00,\n",
       "       -1.12644973e+00, -6.36011670e-01, -1.66362618e+00,  2.22371078e-01,\n",
       "        4.25586539e-01, -3.80541663e-01,  4.26130758e-01,  9.25519483e-01,\n",
       "       -1.02920668e-01, -1.72830611e-02,  1.74051664e-01,  7.41835720e-01,\n",
       "        1.14624713e-01, -2.30520965e+00,  2.94979649e-01,  6.16098591e-01,\n",
       "        2.51448237e-02,  2.41578326e-01,  1.13698184e+00, -4.31700751e-01,\n",
       "       -8.34171440e-01, -1.20873873e+00,  7.87934041e-02, -8.26734265e-01,\n",
       "        5.34785774e-01, -1.15570076e+00, -9.41920633e-01, -1.05819249e+00,\n",
       "        1.81576081e+00, -2.60445295e-01,  3.69459018e-01,  4.25118575e-01,\n",
       "        9.16936253e-01,  1.44962858e+00, -3.04122123e-01, -8.40535546e-01,\n",
       "       -1.04098324e+00, -1.88800480e+00,  2.69023466e-01,  1.95707327e-01,\n",
       "        1.02763116e+00, -4.02092208e-01,  3.26430857e-01, -7.10684118e-01,\n",
       "       -6.92945572e-01,  1.97079564e+00,  8.12300799e-01,  6.82351966e-01,\n",
       "       -2.11759386e-01,  5.28062406e-01,  9.82465858e-01, -7.76650119e-01,\n",
       "        5.21097042e-02, -7.52695951e-02, -1.46350692e+00,  6.86714200e-01,\n",
       "        3.26437553e-01,  1.54241342e+00,  7.35349458e-01,  3.67023108e+00,\n",
       "       -1.26638080e+00, -1.06995907e+00,  1.15740880e+00, -5.69873568e-02,\n",
       "        6.45876232e-01,  5.28400906e-01, -1.63525653e-03, -4.73425635e-01,\n",
       "       -3.47160923e-01,  4.85139244e-01, -1.52917919e+00,  1.20572381e+00,\n",
       "       -4.86594818e-01,  4.50780532e-01, -1.96799530e-01,  9.62410892e-01,\n",
       "       -1.66067961e-01, -1.95844253e+00,  1.00914657e+00,  1.47975101e-01,\n",
       "       -3.26877425e-01,  4.16322054e-01, -2.98949422e-01,  3.32389489e-01,\n",
       "        1.06627515e+00,  9.65499078e-01,  6.77339636e-01,  9.88803965e-01,\n",
       "       -2.28323903e-02,  1.93557990e+00,  5.92699530e-01,  1.19662466e+00,\n",
       "        5.63401825e-02,  1.28021054e+00, -4.71100380e-01, -4.41530930e-01])"
      ]
     },
     "execution_count": 21,
     "metadata": {},
     "output_type": "execute_result"
    }
   ],
   "source": [
    "x[::-1]"
   ]
  },
  {
   "cell_type": "code",
   "execution_count": 22,
   "metadata": {
    "scrolled": false
   },
   "outputs": [
    {
     "data": {
      "text/plain": [
       "(array([  7.,  30.,  72.,  97., 141.,  93.,  41.,  14.,   3.,   2.]),\n",
       " array([-2.79829688, -2.15144409, -1.50459129, -0.85773849, -0.2108857 ,\n",
       "         0.4359671 ,  1.08281989,  1.72967269,  2.37652549,  3.02337828,\n",
       "         3.67023108]),\n",
       " <BarContainer object of 10 artists>)"
      ]
     },
     "execution_count": 22,
     "metadata": {},
     "output_type": "execute_result"
    },
    {
     "data": {
      "image/png": "[encoded data removed]",
      "text/plain": [
       "<Figure size 432x288 with 1 Axes>"
      ]
     },
     "metadata": {
      "needs_background": "light"
     },
     "output_type": "display_data"
    }
   ],
   "source": [
    "plt.hist(x)"
   ]
  },
  {
   "cell_type": "markdown",
   "metadata": {},
   "source": [
    "You can also creat random matrices of different sizes:"
   ]
  },
  {
   "cell_type": "code",
   "execution_count": 15,
   "metadata": {},
   "outputs": [
    {
     "name": "stdout",
     "output_type": "stream",
     "text": [
      "[[3 1 6 1 2 4]\n",
      " [5 6 3 6 4 9]\n",
      " [6 6 4 4 5 3]\n",
      " [0 0 8 1 0 9]]\n",
      "Number of Dimenstions:  2\n",
      "Shape:  (4, 6)\n"
     ]
    }
   ],
   "source": [
    "x2 = np.random.randint(10, size = (4,6))\n",
    "print(x2)\n",
    "print(\"Number of Dimenstions: \", x2.ndim)\n",
    "print(\"Shape: \", x2.shape)"
   ]
  },
  {
   "cell_type": "markdown",
   "metadata": {},
   "source": [
    "You can access parts of the matrix using the slice notation (:)"
   ]
  },
  {
   "cell_type": "code",
   "execution_count": 16,
   "metadata": {},
   "outputs": [
    {
     "name": "stdout",
     "output_type": "stream",
     "text": [
      "The first two rows of x2: \n",
      "[[3 1 6 1 2 4]\n",
      " [5 6 3 6 4 9]]\n",
      "The first three columns of x2:\n",
      "[[3 1 6]\n",
      " [5 6 3]\n",
      " [6 6 4]\n",
      " [0 0 8]]\n"
     ]
    }
   ],
   "source": [
    "print(\"The first two rows of x2: \")\n",
    "print(x2[:2])\n",
    "print(\"The first three columns of x2:\")\n",
    "print(x2[:, :3])"
   ]
  },
  {
   "cell_type": "markdown",
   "metadata": {},
   "source": [
    "### Vectorizing versus Looping"
   ]
  },
  {
   "cell_type": "markdown",
   "metadata": {},
   "source": [
    "Looping in Python is extremely slow. The preferred approach is to used **vectorized operations**, which apply the function to the entire array. In the following code, we use the Python *magic* command %timeit, which measures the time to execute a single statement by using a repeated execution. \n",
    "\n",
    "It runs the code for *n* number of loops *r* times, and returns the best average of the *r* runs. "
   ]
  },
  {
   "cell_type": "code",
   "execution_count": 17,
   "metadata": {},
   "outputs": [
    {
     "name": "stdout",
     "output_type": "stream",
     "text": [
      "314 ms ± 8.53 ms per loop (mean ± std. dev. of 5 runs, 3 loops each)\n",
      "3.32 ms ± 558 µs per loop (mean ± std. dev. of 5 runs, 3 loops each)\n"
     ]
    }
   ],
   "source": [
    "#addition of two arrays using loops\n",
    "\n",
    "a = np.random.rand(1000000)\n",
    "b = np.random.rand(1000000)\n",
    "c = np.zeros(1000000)\n",
    "\n",
    "def compute_sum():\n",
    "    for i in range(1000000):\n",
    "        c[i] = a[i] + b[i]\n",
    "    \n",
    "%timeit -n 3 -r 5 compute_sum()\n",
    "\n",
    "#vectorized addition of the same two arrays\n",
    "def compute_sum2():\n",
    "    c = a + b\n",
    "\n",
    "%timeit -n 3 -r 5 compute_sum2()"
   ]
  },
  {
   "cell_type": "code",
   "execution_count": null,
   "metadata": {},
   "outputs": [],
   "source": [
    "#Use this command if you want to get additional information on the timeit function\n",
    "%timeit?"
   ]
  },
  {
   "cell_type": "markdown",
   "metadata": {},
   "source": [
    "## The Pandas Package\n",
    "\n",
    "### Series"
   ]
  },
  {
   "cell_type": "markdown",
   "metadata": {},
   "source": [
    "The Pandas package provides three fundamental data structures: `Series`, `DataFrame`, `Index`. The Series and DataFrame data structures can be thought of as enhanced versions of the NumPy array. "
   ]
  },
  {
   "cell_type": "code",
   "execution_count": 24,
   "metadata": {},
   "outputs": [],
   "source": [
    "countries = pd.Series([\"China\",\"India\",\"USA\",\"Indonesia\",\"Pakistan\",\"Brazil\",\"Nigeria\",\"Bangladesh\",\"Russia\"])\n",
    "\n",
    "pop2019 = pd.Series([1433783686, 1366417754, 329064917, 270625568, 216565318, 211049527, 200963599, 163046161, 145872256], index = countries)\n",
    "pop2018 = pd.Series([1427647786, 1352642280, 327096265, 267670543, 212228286, 209469323, 195874683, 161376708, 145734038 ], index = countries)\n"
   ]
  },
  {
   "cell_type": "code",
   "execution_count": 25,
   "metadata": {},
   "outputs": [
    {
     "name": "stdout",
     "output_type": "stream",
     "text": [
      "0         China\n",
      "1         India\n",
      "2           USA\n",
      "3     Indonesia\n",
      "4      Pakistan\n",
      "5        Brazil\n",
      "6       Nigeria\n",
      "7    Bangladesh\n",
      "8        Russia\n",
      "dtype: object\n"
     ]
    }
   ],
   "source": [
    "print(countries)"
   ]
  },
  {
   "cell_type": "code",
   "execution_count": 26,
   "metadata": {},
   "outputs": [
    {
     "name": "stdout",
     "output_type": "stream",
     "text": [
      "China         1433783686\n",
      "India         1366417754\n",
      "USA            329064917\n",
      "Indonesia      270625568\n",
      "Pakistan       216565318\n",
      "Brazil         211049527\n",
      "Nigeria        200963599\n",
      "Bangladesh     163046161\n",
      "Russia         145872256\n",
      "dtype: int64\n"
     ]
    }
   ],
   "source": [
    "print(pop2019)"
   ]
  },
  {
   "cell_type": "markdown",
   "metadata": {},
   "source": [
    "A `Series` is a one-dimensional indexed array. The difference between a `Series` and a `NumPy` array is that a `NumPy` array has an implicitly defined integer index, while a `Series` has an explicity defined index. \n",
    "\n",
    "You can access any element of the Series by referring to the key:"
   ]
  },
  {
   "cell_type": "code",
   "execution_count": 27,
   "metadata": {},
   "outputs": [
    {
     "name": "stdout",
     "output_type": "stream",
     "text": [
      "The population of the United States in 2019 is:  329064917\n"
     ]
    }
   ],
   "source": [
    "print(\"The population of the United States in 2019 is: \", pop2019['USA'])"
   ]
  },
  {
   "cell_type": "markdown",
   "metadata": {},
   "source": [
    "If you want to access only the values of the `Series`, you can access the `values` attribute of the `Series`:"
   ]
  },
  {
   "cell_type": "code",
   "execution_count": 28,
   "metadata": {},
   "outputs": [
    {
     "data": {
      "text/plain": [
       "array([1433783686, 1366417754,  329064917,  270625568,  216565318,\n",
       "        211049527,  200963599,  163046161,  145872256])"
      ]
     },
     "execution_count": 28,
     "metadata": {},
     "output_type": "execute_result"
    }
   ],
   "source": [
    "pop2019.values"
   ]
  },
  {
   "cell_type": "markdown",
   "metadata": {},
   "source": [
    "### Data Frame\n",
    "\n",
    "`DataFrame` is a 2-dimensional labeled data structure with columns of potentially different types. You can think of it like a spreadsheet or SQL table. Another way to think of a `DataFrame` is as a two-dimensional array with flexible row indices and column names. \n",
    "\n",
    "There are many different ways to build a `DataFrame`.  One way is to use a dictionary to construct a single two-dimensional object: "
   ]
  },
  {
   "cell_type": "code",
   "execution_count": 29,
   "metadata": {},
   "outputs": [],
   "source": [
    "population = pd.DataFrame({'population2018': pop2018, 'population2019': pop2019})"
   ]
  },
  {
   "cell_type": "code",
   "execution_count": 32,
   "metadata": {},
   "outputs": [
    {
     "data": {
      "text/html": [
       "<div>\n",
       "<style scoped>\n",
       "    .dataframe tbody tr th:only-of-type {\n",
       "        vertical-align: middle;\n",
       "    }\n",
       "\n",
       "    .dataframe tbody tr th {\n",
       "        vertical-align: top;\n",
       "    }\n",
       "\n",
       "    .dataframe thead th {\n",
       "        text-align: right;\n",
       "    }\n",
       "</style>\n",
       "<table border=\"1\" class=\"dataframe\">\n",
       "  <thead>\n",
       "    <tr style=\"text-align: right;\">\n",
       "      <th></th>\n",
       "      <th>population2018</th>\n",
       "      <th>population2019</th>\n",
       "    </tr>\n",
       "  </thead>\n",
       "  <tbody>\n",
       "    <tr>\n",
       "      <th>China</th>\n",
       "      <td>1427647786</td>\n",
       "      <td>1433783686</td>\n",
       "    </tr>\n",
       "    <tr>\n",
       "      <th>India</th>\n",
       "      <td>1352642280</td>\n",
       "      <td>1366417754</td>\n",
       "    </tr>\n",
       "    <tr>\n",
       "      <th>USA</th>\n",
       "      <td>327096265</td>\n",
       "      <td>329064917</td>\n",
       "    </tr>\n",
       "    <tr>\n",
       "      <th>Indonesia</th>\n",
       "      <td>267670543</td>\n",
       "      <td>270625568</td>\n",
       "    </tr>\n",
       "    <tr>\n",
       "      <th>Pakistan</th>\n",
       "      <td>212228286</td>\n",
       "      <td>216565318</td>\n",
       "    </tr>\n",
       "  </tbody>\n",
       "</table>\n",
       "</div>"
      ],
      "text/plain": [
       "           population2018  population2019\n",
       "China          1427647786      1433783686\n",
       "India          1352642280      1366417754\n",
       "USA             327096265       329064917\n",
       "Indonesia       267670543       270625568\n",
       "Pakistan        212228286       216565318"
      ]
     },
     "execution_count": 32,
     "metadata": {},
     "output_type": "execute_result"
    }
   ],
   "source": [
    "population.head()"
   ]
  },
  {
   "cell_type": "markdown",
   "metadata": {},
   "source": [
    "You can access the column names and index values by accessing the following attributes of the `DataFrame`:"
   ]
  },
  {
   "cell_type": "code",
   "execution_count": 33,
   "metadata": {},
   "outputs": [
    {
     "data": {
      "text/plain": [
       "Index(['population2018', 'population2019'], dtype='object')"
      ]
     },
     "execution_count": 33,
     "metadata": {},
     "output_type": "execute_result"
    }
   ],
   "source": [
    "population.columns"
   ]
  },
  {
   "cell_type": "code",
   "execution_count": 34,
   "metadata": {},
   "outputs": [
    {
     "data": {
      "text/plain": [
       "Index(['China', 'India', 'USA', 'Indonesia', 'Pakistan', 'Brazil', 'Nigeria',\n",
       "       'Bangladesh', 'Russia'],\n",
       "      dtype='object')"
      ]
     },
     "execution_count": 34,
     "metadata": {},
     "output_type": "execute_result"
    }
   ],
   "source": [
    "population.index"
   ]
  },
  {
   "cell_type": "code",
   "execution_count": 38,
   "metadata": {},
   "outputs": [
    {
     "data": {
      "text/plain": [
       "array([1433783686, 1366417754,  329064917,  270625568,  216565318,\n",
       "        211049527,  200963599,  163046161,  145872256])"
      ]
     },
     "execution_count": 38,
     "metadata": {},
     "output_type": "execute_result"
    }
   ],
   "source": [
    "population.iloc[:,1].values"
   ]
  },
  {
   "cell_type": "markdown",
   "metadata": {},
   "source": [
    "#### Accessing entries in a Data Frame\n",
    "\n",
    "There are a few ways to access the rows of a `DataFrame`. First, the `iloc` indexer uses the implicit numeric style index. the `loc` indexer will use the explicit index. For example, both of the below commands will return the values for population values for India:"
   ]
  },
  {
   "cell_type": "code",
   "execution_count": 23,
   "metadata": {},
   "outputs": [
    {
     "data": {
      "text/plain": [
       "population2018    1352642280\n",
       "population2019    1366417754\n",
       "Name: India, dtype: int64"
      ]
     },
     "execution_count": 23,
     "metadata": {},
     "output_type": "execute_result"
    }
   ],
   "source": [
    "population.iloc[1]"
   ]
  },
  {
   "cell_type": "code",
   "execution_count": 24,
   "metadata": {},
   "outputs": [
    {
     "data": {
      "text/plain": [
       "population2018    1352642280\n",
       "population2019    1366417754\n",
       "Name: India, dtype: int64"
      ]
     },
     "execution_count": 24,
     "metadata": {},
     "output_type": "execute_result"
    }
   ],
   "source": [
    "population.loc['India']"
   ]
  },
  {
   "cell_type": "markdown",
   "metadata": {},
   "source": [
    "You can also access a range of rows as follows:"
   ]
  },
  {
   "cell_type": "code",
   "execution_count": 25,
   "metadata": {},
   "outputs": [
    {
     "data": {
      "text/html": [
       "<div>\n",
       "<style scoped>\n",
       "    .dataframe tbody tr th:only-of-type {\n",
       "        vertical-align: middle;\n",
       "    }\n",
       "\n",
       "    .dataframe tbody tr th {\n",
       "        vertical-align: top;\n",
       "    }\n",
       "\n",
       "    .dataframe thead th {\n",
       "        text-align: right;\n",
       "    }\n",
       "</style>\n",
       "<table border=\"1\" class=\"dataframe\">\n",
       "  <thead>\n",
       "    <tr style=\"text-align: right;\">\n",
       "      <th></th>\n",
       "      <th>population2018</th>\n",
       "      <th>population2019</th>\n",
       "    </tr>\n",
       "  </thead>\n",
       "  <tbody>\n",
       "    <tr>\n",
       "      <th>India</th>\n",
       "      <td>1352642280</td>\n",
       "      <td>1366417754</td>\n",
       "    </tr>\n",
       "    <tr>\n",
       "      <th>USA</th>\n",
       "      <td>327096265</td>\n",
       "      <td>329064917</td>\n",
       "    </tr>\n",
       "  </tbody>\n",
       "</table>\n",
       "</div>"
      ],
      "text/plain": [
       "       population2018  population2019\n",
       "India      1352642280      1366417754\n",
       "USA         327096265       329064917"
      ]
     },
     "execution_count": 25,
     "metadata": {},
     "output_type": "execute_result"
    }
   ],
   "source": [
    "population.iloc[1:3]"
   ]
  },
  {
   "cell_type": "code",
   "execution_count": 26,
   "metadata": {},
   "outputs": [
    {
     "data": {
      "text/html": [
       "<div>\n",
       "<style scoped>\n",
       "    .dataframe tbody tr th:only-of-type {\n",
       "        vertical-align: middle;\n",
       "    }\n",
       "\n",
       "    .dataframe tbody tr th {\n",
       "        vertical-align: top;\n",
       "    }\n",
       "\n",
       "    .dataframe thead th {\n",
       "        text-align: right;\n",
       "    }\n",
       "</style>\n",
       "<table border=\"1\" class=\"dataframe\">\n",
       "  <thead>\n",
       "    <tr style=\"text-align: right;\">\n",
       "      <th></th>\n",
       "      <th>population2018</th>\n",
       "      <th>population2019</th>\n",
       "    </tr>\n",
       "  </thead>\n",
       "  <tbody>\n",
       "    <tr>\n",
       "      <th>India</th>\n",
       "      <td>1352642280</td>\n",
       "      <td>1366417754</td>\n",
       "    </tr>\n",
       "    <tr>\n",
       "      <th>USA</th>\n",
       "      <td>327096265</td>\n",
       "      <td>329064917</td>\n",
       "    </tr>\n",
       "    <tr>\n",
       "      <th>Indonesia</th>\n",
       "      <td>267670543</td>\n",
       "      <td>270625568</td>\n",
       "    </tr>\n",
       "    <tr>\n",
       "      <th>Pakistan</th>\n",
       "      <td>212228286</td>\n",
       "      <td>216565318</td>\n",
       "    </tr>\n",
       "    <tr>\n",
       "      <th>Brazil</th>\n",
       "      <td>209469323</td>\n",
       "      <td>211049527</td>\n",
       "    </tr>\n",
       "  </tbody>\n",
       "</table>\n",
       "</div>"
      ],
      "text/plain": [
       "           population2018  population2019\n",
       "India          1352642280      1366417754\n",
       "USA             327096265       329064917\n",
       "Indonesia       267670543       270625568\n",
       "Pakistan        212228286       216565318\n",
       "Brazil          209469323       211049527"
      ]
     },
     "execution_count": 26,
     "metadata": {},
     "output_type": "execute_result"
    }
   ],
   "source": [
    "population.loc['India':'Brazil']"
   ]
  },
  {
   "cell_type": "markdown",
   "metadata": {},
   "source": [
    "You can slice both rows and columns"
   ]
  },
  {
   "cell_type": "code",
   "execution_count": 27,
   "metadata": {},
   "outputs": [
    {
     "data": {
      "text/html": [
       "<div>\n",
       "<style scoped>\n",
       "    .dataframe tbody tr th:only-of-type {\n",
       "        vertical-align: middle;\n",
       "    }\n",
       "\n",
       "    .dataframe tbody tr th {\n",
       "        vertical-align: top;\n",
       "    }\n",
       "\n",
       "    .dataframe thead th {\n",
       "        text-align: right;\n",
       "    }\n",
       "</style>\n",
       "<table border=\"1\" class=\"dataframe\">\n",
       "  <thead>\n",
       "    <tr style=\"text-align: right;\">\n",
       "      <th></th>\n",
       "      <th>population2018</th>\n",
       "    </tr>\n",
       "  </thead>\n",
       "  <tbody>\n",
       "    <tr>\n",
       "      <th>India</th>\n",
       "      <td>1352642280</td>\n",
       "    </tr>\n",
       "    <tr>\n",
       "      <th>USA</th>\n",
       "      <td>327096265</td>\n",
       "    </tr>\n",
       "    <tr>\n",
       "      <th>Indonesia</th>\n",
       "      <td>267670543</td>\n",
       "    </tr>\n",
       "    <tr>\n",
       "      <th>Pakistan</th>\n",
       "      <td>212228286</td>\n",
       "    </tr>\n",
       "  </tbody>\n",
       "</table>\n",
       "</div>"
      ],
      "text/plain": [
       "           population2018\n",
       "India          1352642280\n",
       "USA             327096265\n",
       "Indonesia       267670543\n",
       "Pakistan        212228286"
      ]
     },
     "execution_count": 27,
     "metadata": {},
     "output_type": "execute_result"
    }
   ],
   "source": [
    "population.loc['India':'Pakistan', :'population2018']"
   ]
  },
  {
   "cell_type": "code",
   "execution_count": 28,
   "metadata": {},
   "outputs": [
    {
     "data": {
      "text/html": [
       "<div>\n",
       "<style scoped>\n",
       "    .dataframe tbody tr th:only-of-type {\n",
       "        vertical-align: middle;\n",
       "    }\n",
       "\n",
       "    .dataframe tbody tr th {\n",
       "        vertical-align: top;\n",
       "    }\n",
       "\n",
       "    .dataframe thead th {\n",
       "        text-align: right;\n",
       "    }\n",
       "</style>\n",
       "<table border=\"1\" class=\"dataframe\">\n",
       "  <thead>\n",
       "    <tr style=\"text-align: right;\">\n",
       "      <th></th>\n",
       "      <th>population2019</th>\n",
       "    </tr>\n",
       "  </thead>\n",
       "  <tbody>\n",
       "    <tr>\n",
       "      <th>China</th>\n",
       "      <td>1433783686</td>\n",
       "    </tr>\n",
       "    <tr>\n",
       "      <th>India</th>\n",
       "      <td>1366417754</td>\n",
       "    </tr>\n",
       "  </tbody>\n",
       "</table>\n",
       "</div>"
      ],
      "text/plain": [
       "       population2019\n",
       "China      1433783686\n",
       "India      1366417754"
      ]
     },
     "execution_count": 28,
     "metadata": {},
     "output_type": "execute_result"
    }
   ],
   "source": [
    "population.iloc[:2, 1:]"
   ]
  },
  {
   "cell_type": "code",
   "execution_count": 29,
   "metadata": {},
   "outputs": [
    {
     "data": {
      "text/html": [
       "<div>\n",
       "<style scoped>\n",
       "    .dataframe tbody tr th:only-of-type {\n",
       "        vertical-align: middle;\n",
       "    }\n",
       "\n",
       "    .dataframe tbody tr th {\n",
       "        vertical-align: top;\n",
       "    }\n",
       "\n",
       "    .dataframe thead th {\n",
       "        text-align: right;\n",
       "    }\n",
       "</style>\n",
       "<table border=\"1\" class=\"dataframe\">\n",
       "  <thead>\n",
       "    <tr style=\"text-align: right;\">\n",
       "      <th></th>\n",
       "      <th>population2018</th>\n",
       "      <th>population2019</th>\n",
       "    </tr>\n",
       "  </thead>\n",
       "  <tbody>\n",
       "    <tr>\n",
       "      <th>count</th>\n",
       "      <td>9.000000e+00</td>\n",
       "      <td>9.000000e+00</td>\n",
       "    </tr>\n",
       "    <tr>\n",
       "      <th>mean</th>\n",
       "      <td>4.777489e+08</td>\n",
       "      <td>4.819321e+08</td>\n",
       "    </tr>\n",
       "    <tr>\n",
       "      <th>std</th>\n",
       "      <td>5.204360e+08</td>\n",
       "      <td>5.236554e+08</td>\n",
       "    </tr>\n",
       "    <tr>\n",
       "      <th>min</th>\n",
       "      <td>1.457340e+08</td>\n",
       "      <td>1.458723e+08</td>\n",
       "    </tr>\n",
       "    <tr>\n",
       "      <th>25%</th>\n",
       "      <td>1.958747e+08</td>\n",
       "      <td>2.009636e+08</td>\n",
       "    </tr>\n",
       "    <tr>\n",
       "      <th>50%</th>\n",
       "      <td>2.122283e+08</td>\n",
       "      <td>2.165653e+08</td>\n",
       "    </tr>\n",
       "    <tr>\n",
       "      <th>75%</th>\n",
       "      <td>3.270963e+08</td>\n",
       "      <td>3.290649e+08</td>\n",
       "    </tr>\n",
       "    <tr>\n",
       "      <th>max</th>\n",
       "      <td>1.427648e+09</td>\n",
       "      <td>1.433784e+09</td>\n",
       "    </tr>\n",
       "  </tbody>\n",
       "</table>\n",
       "</div>"
      ],
      "text/plain": [
       "       population2018  population2019\n",
       "count    9.000000e+00    9.000000e+00\n",
       "mean     4.777489e+08    4.819321e+08\n",
       "std      5.204360e+08    5.236554e+08\n",
       "min      1.457340e+08    1.458723e+08\n",
       "25%      1.958747e+08    2.009636e+08\n",
       "50%      2.122283e+08    2.165653e+08\n",
       "75%      3.270963e+08    3.290649e+08\n",
       "max      1.427648e+09    1.433784e+09"
      ]
     },
     "execution_count": 29,
     "metadata": {},
     "output_type": "execute_result"
    }
   ],
   "source": [
    "population.describe()"
   ]
  },
  {
   "cell_type": "code",
   "execution_count": 30,
   "metadata": {},
   "outputs": [
    {
     "name": "stdout",
     "output_type": "stream",
     "text": [
      "<class 'pandas.core.frame.DataFrame'>\n",
      "Index: 9 entries, China to Russia\n",
      "Data columns (total 2 columns):\n",
      " #   Column          Non-Null Count  Dtype\n",
      "---  ------          --------------  -----\n",
      " 0   population2018  9 non-null      int64\n",
      " 1   population2019  9 non-null      int64\n",
      "dtypes: int64(2)\n",
      "memory usage: 536.0+ bytes\n"
     ]
    }
   ],
   "source": [
    "population.info()"
   ]
  },
  {
   "cell_type": "markdown",
   "metadata": {},
   "source": [
    "Finally, you can extract observations that meet a specific criteria. For example, suppose we wanted to extract the countries with a population less than 1 Billion. We can first create a boolean mask with the condition that we would like to specify:"
   ]
  },
  {
   "cell_type": "code",
   "execution_count": 31,
   "metadata": {},
   "outputs": [
    {
     "data": {
      "text/plain": [
       "China         False\n",
       "India         False\n",
       "USA            True\n",
       "Indonesia      True\n",
       "Pakistan       True\n",
       "Brazil         True\n",
       "Nigeria        True\n",
       "Bangladesh     True\n",
       "Russia         True\n",
       "Name: population2019, dtype: bool"
      ]
     },
     "execution_count": 31,
     "metadata": {},
     "output_type": "execute_result"
    }
   ],
   "source": [
    "population['population2019']< 1000000000"
   ]
  },
  {
   "cell_type": "markdown",
   "metadata": {},
   "source": [
    "Next, we can give the boolean mask to the .loc operator to extract the rows of interest:"
   ]
  },
  {
   "cell_type": "code",
   "execution_count": 33,
   "metadata": {},
   "outputs": [
    {
     "data": {
      "text/html": [
       "<div>\n",
       "<style scoped>\n",
       "    .dataframe tbody tr th:only-of-type {\n",
       "        vertical-align: middle;\n",
       "    }\n",
       "\n",
       "    .dataframe tbody tr th {\n",
       "        vertical-align: top;\n",
       "    }\n",
       "\n",
       "    .dataframe thead th {\n",
       "        text-align: right;\n",
       "    }\n",
       "</style>\n",
       "<table border=\"1\" class=\"dataframe\">\n",
       "  <thead>\n",
       "    <tr style=\"text-align: right;\">\n",
       "      <th></th>\n",
       "      <th>population2018</th>\n",
       "      <th>population2019</th>\n",
       "    </tr>\n",
       "  </thead>\n",
       "  <tbody>\n",
       "    <tr>\n",
       "      <th>USA</th>\n",
       "      <td>327096265</td>\n",
       "      <td>329064917</td>\n",
       "    </tr>\n",
       "    <tr>\n",
       "      <th>Indonesia</th>\n",
       "      <td>267670543</td>\n",
       "      <td>270625568</td>\n",
       "    </tr>\n",
       "    <tr>\n",
       "      <th>Pakistan</th>\n",
       "      <td>212228286</td>\n",
       "      <td>216565318</td>\n",
       "    </tr>\n",
       "    <tr>\n",
       "      <th>Brazil</th>\n",
       "      <td>209469323</td>\n",
       "      <td>211049527</td>\n",
       "    </tr>\n",
       "    <tr>\n",
       "      <th>Nigeria</th>\n",
       "      <td>195874683</td>\n",
       "      <td>200963599</td>\n",
       "    </tr>\n",
       "    <tr>\n",
       "      <th>Bangladesh</th>\n",
       "      <td>161376708</td>\n",
       "      <td>163046161</td>\n",
       "    </tr>\n",
       "    <tr>\n",
       "      <th>Russia</th>\n",
       "      <td>145734038</td>\n",
       "      <td>145872256</td>\n",
       "    </tr>\n",
       "  </tbody>\n",
       "</table>\n",
       "</div>"
      ],
      "text/plain": [
       "            population2018  population2019\n",
       "USA              327096265       329064917\n",
       "Indonesia        267670543       270625568\n",
       "Pakistan         212228286       216565318\n",
       "Brazil           209469323       211049527\n",
       "Nigeria          195874683       200963599\n",
       "Bangladesh       161376708       163046161\n",
       "Russia           145734038       145872256"
      ]
     },
     "execution_count": 33,
     "metadata": {},
     "output_type": "execute_result"
    }
   ],
   "source": [
    "population.loc[population['population2019']< 1000000000]"
   ]
  },
  {
   "cell_type": "markdown",
   "metadata": {},
   "source": [
    "New columns can be created from existing colums in the data frame. For example, let's compute the population growth between 2018 and 2019 and label the column 'Growth.' Note that we do not need to create a loop to iterate through the data frame; the computation is automatically vectorized. "
   ]
  },
  {
   "cell_type": "code",
   "execution_count": 34,
   "metadata": {},
   "outputs": [
    {
     "data": {
      "text/html": [
       "<div>\n",
       "<style scoped>\n",
       "    .dataframe tbody tr th:only-of-type {\n",
       "        vertical-align: middle;\n",
       "    }\n",
       "\n",
       "    .dataframe tbody tr th {\n",
       "        vertical-align: top;\n",
       "    }\n",
       "\n",
       "    .dataframe thead th {\n",
       "        text-align: right;\n",
       "    }\n",
       "</style>\n",
       "<table border=\"1\" class=\"dataframe\">\n",
       "  <thead>\n",
       "    <tr style=\"text-align: right;\">\n",
       "      <th></th>\n",
       "      <th>population2018</th>\n",
       "      <th>population2019</th>\n",
       "      <th>Growth</th>\n",
       "    </tr>\n",
       "  </thead>\n",
       "  <tbody>\n",
       "    <tr>\n",
       "      <th>China</th>\n",
       "      <td>1427647786</td>\n",
       "      <td>1433783686</td>\n",
       "      <td>0.429791</td>\n",
       "    </tr>\n",
       "    <tr>\n",
       "      <th>India</th>\n",
       "      <td>1352642280</td>\n",
       "      <td>1366417754</td>\n",
       "      <td>1.018412</td>\n",
       "    </tr>\n",
       "    <tr>\n",
       "      <th>USA</th>\n",
       "      <td>327096265</td>\n",
       "      <td>329064917</td>\n",
       "      <td>0.601857</td>\n",
       "    </tr>\n",
       "    <tr>\n",
       "      <th>Indonesia</th>\n",
       "      <td>267670543</td>\n",
       "      <td>270625568</td>\n",
       "      <td>1.103978</td>\n",
       "    </tr>\n",
       "    <tr>\n",
       "      <th>Pakistan</th>\n",
       "      <td>212228286</td>\n",
       "      <td>216565318</td>\n",
       "      <td>2.043569</td>\n",
       "    </tr>\n",
       "    <tr>\n",
       "      <th>Brazil</th>\n",
       "      <td>209469323</td>\n",
       "      <td>211049527</td>\n",
       "      <td>0.754384</td>\n",
       "    </tr>\n",
       "    <tr>\n",
       "      <th>Nigeria</th>\n",
       "      <td>195874683</td>\n",
       "      <td>200963599</td>\n",
       "      <td>2.598047</td>\n",
       "    </tr>\n",
       "    <tr>\n",
       "      <th>Bangladesh</th>\n",
       "      <td>161376708</td>\n",
       "      <td>163046161</td>\n",
       "      <td>1.034507</td>\n",
       "    </tr>\n",
       "    <tr>\n",
       "      <th>Russia</th>\n",
       "      <td>145734038</td>\n",
       "      <td>145872256</td>\n",
       "      <td>0.094843</td>\n",
       "    </tr>\n",
       "  </tbody>\n",
       "</table>\n",
       "</div>"
      ],
      "text/plain": [
       "            population2018  population2019    Growth\n",
       "China           1427647786      1433783686  0.429791\n",
       "India           1352642280      1366417754  1.018412\n",
       "USA              327096265       329064917  0.601857\n",
       "Indonesia        267670543       270625568  1.103978\n",
       "Pakistan         212228286       216565318  2.043569\n",
       "Brazil           209469323       211049527  0.754384\n",
       "Nigeria          195874683       200963599  2.598047\n",
       "Bangladesh       161376708       163046161  1.034507\n",
       "Russia           145734038       145872256  0.094843"
      ]
     },
     "execution_count": 34,
     "metadata": {},
     "output_type": "execute_result"
    }
   ],
   "source": [
    "population['Growth'] = 100* (population['population2019']-population['population2018'])/population['population2018']\n",
    "population"
   ]
  },
  {
   "cell_type": "markdown",
   "metadata": {},
   "source": [
    "You can also import data in a variety of formats from a URL into a pandas data frame.  For example, this code imports the IRIS dataset, stored as a simple CSV file, from the UC Irvine Machine Learning repository, creating a data frame with 5 columns. "
   ]
  },
  {
   "cell_type": "code",
   "execution_count": 35,
   "metadata": {},
   "outputs": [
    {
     "data": {
      "text/html": [
       "<div>\n",
       "<style scoped>\n",
       "    .dataframe tbody tr th:only-of-type {\n",
       "        vertical-align: middle;\n",
       "    }\n",
       "\n",
       "    .dataframe tbody tr th {\n",
       "        vertical-align: top;\n",
       "    }\n",
       "\n",
       "    .dataframe thead th {\n",
       "        text-align: right;\n",
       "    }\n",
       "</style>\n",
       "<table border=\"1\" class=\"dataframe\">\n",
       "  <thead>\n",
       "    <tr style=\"text-align: right;\">\n",
       "      <th></th>\n",
       "      <th>sepal_length</th>\n",
       "      <th>sepal_width</th>\n",
       "      <th>petal_length</th>\n",
       "      <th>petal_width</th>\n",
       "      <th>class</th>\n",
       "    </tr>\n",
       "  </thead>\n",
       "  <tbody>\n",
       "    <tr>\n",
       "      <th>0</th>\n",
       "      <td>4.9</td>\n",
       "      <td>3.0</td>\n",
       "      <td>1.4</td>\n",
       "      <td>0.2</td>\n",
       "      <td>Iris-setosa</td>\n",
       "    </tr>\n",
       "    <tr>\n",
       "      <th>1</th>\n",
       "      <td>4.7</td>\n",
       "      <td>3.2</td>\n",
       "      <td>1.3</td>\n",
       "      <td>0.2</td>\n",
       "      <td>Iris-setosa</td>\n",
       "    </tr>\n",
       "    <tr>\n",
       "      <th>2</th>\n",
       "      <td>4.6</td>\n",
       "      <td>3.1</td>\n",
       "      <td>1.5</td>\n",
       "      <td>0.2</td>\n",
       "      <td>Iris-setosa</td>\n",
       "    </tr>\n",
       "    <tr>\n",
       "      <th>3</th>\n",
       "      <td>5.0</td>\n",
       "      <td>3.6</td>\n",
       "      <td>1.4</td>\n",
       "      <td>0.2</td>\n",
       "      <td>Iris-setosa</td>\n",
       "    </tr>\n",
       "    <tr>\n",
       "      <th>4</th>\n",
       "      <td>5.4</td>\n",
       "      <td>3.9</td>\n",
       "      <td>1.7</td>\n",
       "      <td>0.4</td>\n",
       "      <td>Iris-setosa</td>\n",
       "    </tr>\n",
       "  </tbody>\n",
       "</table>\n",
       "</div>"
      ],
      "text/plain": [
       "   sepal_length  sepal_width  petal_length  petal_width        class\n",
       "0           4.9          3.0           1.4          0.2  Iris-setosa\n",
       "1           4.7          3.2           1.3          0.2  Iris-setosa\n",
       "2           4.6          3.1           1.5          0.2  Iris-setosa\n",
       "3           5.0          3.6           1.4          0.2  Iris-setosa\n",
       "4           5.4          3.9           1.7          0.4  Iris-setosa"
      ]
     },
     "execution_count": 35,
     "metadata": {},
     "output_type": "execute_result"
    }
   ],
   "source": [
    "iris_url = 'http://archive.ics.uci.edu/ml/machine-learning-databases/iris/iris.data'\n",
    "iris = pd.read_csv(iris_url, sep=',')\n",
    "\n",
    "attributes = [\"sepal_length\", \"sepal_width\", \"petal_length\", \"petal_width\", \"class\"]\n",
    "iris.columns = attributes\n",
    "\n",
    "iris.head()"
   ]
  },
  {
   "cell_type": "markdown",
   "metadata": {},
   "source": [
    "### Creating Functions"
   ]
  },
  {
   "cell_type": "markdown",
   "metadata": {},
   "source": [
    "Like any programming language, Python allows you to create user defined functions. Two new keywords are introduced: `def` and `return`. Functions can accept arguments and can return a value back to the code that invoked the function. Finally, functions can include comments which explain what the function does. Triple-quotes create what are called a **docstring** which can be accessed using the `help` function. "
   ]
  },
  {
   "cell_type": "code",
   "execution_count": 39,
   "metadata": {},
   "outputs": [
    {
     "name": "stdout",
     "output_type": "stream",
     "text": [
      "15.0\n"
     ]
    }
   ],
   "source": [
    "def average(a, b):\n",
    "    \"\"\"This function returns the average of two numbers\"\"\"\n",
    "    return (a + b)/2\n",
    "\n",
    "print(average(10, 20))"
   ]
  },
  {
   "cell_type": "code",
   "execution_count": 40,
   "metadata": {},
   "outputs": [
    {
     "name": "stdout",
     "output_type": "stream",
     "text": [
      "Help on function average in module __main__:\n",
      "\n",
      "average(a, b)\n",
      "    This function returns the average of two numbers\n",
      "\n"
     ]
    }
   ],
   "source": [
    "help(average)"
   ]
  },
  {
   "cell_type": "code",
   "execution_count": 41,
   "metadata": {},
   "outputs": [
    {
     "ename": "TypeError",
     "evalue": "average() takes 2 positional arguments but 3 were given",
     "output_type": "error",
     "traceback": [
      "\u001b[0;31m---------------------------------------------------------------------------\u001b[0m",
      "\u001b[0;31mTypeError\u001b[0m                                 Traceback (most recent call last)",
      "\u001b[0;32m<ipython-input-41-71418f505f8b>\u001b[0m in \u001b[0;36m<module>\u001b[0;34m\u001b[0m\n\u001b[0;32m----> 1\u001b[0;31m \u001b[0maverage\u001b[0m\u001b[0;34m(\u001b[0m\u001b[0;36m10\u001b[0m\u001b[0;34m,\u001b[0m \u001b[0;36m11\u001b[0m\u001b[0;34m,\u001b[0m \u001b[0;36m12\u001b[0m\u001b[0;34m)\u001b[0m\u001b[0;34m\u001b[0m\u001b[0;34m\u001b[0m\u001b[0m\n\u001b[0m",
      "\u001b[0;31mTypeError\u001b[0m: average() takes 2 positional arguments but 3 were given"
     ]
    }
   ],
   "source": [
    "average(10, 11, 12)"
   ]
  },
  {
   "cell_type": "markdown",
   "metadata": {},
   "source": [
    "We have only defined the average function to take two arguments, but clearly we would like to be able to extend this function to an unknown number of arguments. "
   ]
  },
  {
   "cell_type": "code",
   "execution_count": 40,
   "metadata": {},
   "outputs": [
    {
     "data": {
      "text/plain": [
       "11.5"
      ]
     },
     "execution_count": 40,
     "metadata": {},
     "output_type": "execute_result"
    }
   ],
   "source": [
    "def average_general(*args):\n",
    "    \"\"\"This is a more general version of the average function which will take the average of any number of arguments\"\"\"\n",
    "    summation = 0\n",
    "    num = 0\n",
    "    for a in args:\n",
    "        summation += a\n",
    "        num += 1\n",
    "    return summation/num\n",
    "\n",
    "average_general(10,11,12, 13)"
   ]
  },
  {
   "cell_type": "markdown",
   "metadata": {},
   "source": [
    "## Reading data from a file into a DataFrame"
   ]
  },
  {
   "cell_type": "code",
   "execution_count": 41,
   "metadata": {},
   "outputs": [],
   "source": [
    "iris = pd.read_csv(\"http://archive.ics.uci.edu/ml/machine-learning-databases/iris/iris.data\", header = None, \n",
    "                   names = ['sepal_length', 'sepal_width', 'petal_length', 'petal_width', 'class'])"
   ]
  },
  {
   "cell_type": "code",
   "execution_count": 42,
   "metadata": {},
   "outputs": [
    {
     "name": "stdout",
     "output_type": "stream",
     "text": [
      "<class 'pandas.core.frame.DataFrame'>\n",
      "RangeIndex: 150 entries, 0 to 149\n",
      "Data columns (total 5 columns):\n",
      " #   Column        Non-Null Count  Dtype  \n",
      "---  ------        --------------  -----  \n",
      " 0   sepal_length  150 non-null    float64\n",
      " 1   sepal_width   150 non-null    float64\n",
      " 2   petal_length  150 non-null    float64\n",
      " 3   petal_width   150 non-null    float64\n",
      " 4   class         150 non-null    object \n",
      "dtypes: float64(4), object(1)\n",
      "memory usage: 6.0+ KB\n"
     ]
    }
   ],
   "source": [
    "iris.info()"
   ]
  },
  {
   "cell_type": "code",
   "execution_count": 43,
   "metadata": {},
   "outputs": [
    {
     "data": {
      "text/html": [
       "<div>\n",
       "<style scoped>\n",
       "    .dataframe tbody tr th:only-of-type {\n",
       "        vertical-align: middle;\n",
       "    }\n",
       "\n",
       "    .dataframe tbody tr th {\n",
       "        vertical-align: top;\n",
       "    }\n",
       "\n",
       "    .dataframe thead th {\n",
       "        text-align: right;\n",
       "    }\n",
       "</style>\n",
       "<table border=\"1\" class=\"dataframe\">\n",
       "  <thead>\n",
       "    <tr style=\"text-align: right;\">\n",
       "      <th></th>\n",
       "      <th>sepal_length</th>\n",
       "      <th>sepal_width</th>\n",
       "      <th>petal_length</th>\n",
       "      <th>petal_width</th>\n",
       "    </tr>\n",
       "  </thead>\n",
       "  <tbody>\n",
       "    <tr>\n",
       "      <th>count</th>\n",
       "      <td>150.000000</td>\n",
       "      <td>150.000000</td>\n",
       "      <td>150.000000</td>\n",
       "      <td>150.000000</td>\n",
       "    </tr>\n",
       "    <tr>\n",
       "      <th>mean</th>\n",
       "      <td>5.843333</td>\n",
       "      <td>3.054000</td>\n",
       "      <td>3.758667</td>\n",
       "      <td>1.198667</td>\n",
       "    </tr>\n",
       "    <tr>\n",
       "      <th>std</th>\n",
       "      <td>0.828066</td>\n",
       "      <td>0.433594</td>\n",
       "      <td>1.764420</td>\n",
       "      <td>0.763161</td>\n",
       "    </tr>\n",
       "    <tr>\n",
       "      <th>min</th>\n",
       "      <td>4.300000</td>\n",
       "      <td>2.000000</td>\n",
       "      <td>1.000000</td>\n",
       "      <td>0.100000</td>\n",
       "    </tr>\n",
       "    <tr>\n",
       "      <th>25%</th>\n",
       "      <td>5.100000</td>\n",
       "      <td>2.800000</td>\n",
       "      <td>1.600000</td>\n",
       "      <td>0.300000</td>\n",
       "    </tr>\n",
       "    <tr>\n",
       "      <th>50%</th>\n",
       "      <td>5.800000</td>\n",
       "      <td>3.000000</td>\n",
       "      <td>4.350000</td>\n",
       "      <td>1.300000</td>\n",
       "    </tr>\n",
       "    <tr>\n",
       "      <th>75%</th>\n",
       "      <td>6.400000</td>\n",
       "      <td>3.300000</td>\n",
       "      <td>5.100000</td>\n",
       "      <td>1.800000</td>\n",
       "    </tr>\n",
       "    <tr>\n",
       "      <th>max</th>\n",
       "      <td>7.900000</td>\n",
       "      <td>4.400000</td>\n",
       "      <td>6.900000</td>\n",
       "      <td>2.500000</td>\n",
       "    </tr>\n",
       "  </tbody>\n",
       "</table>\n",
       "</div>"
      ],
      "text/plain": [
       "       sepal_length  sepal_width  petal_length  petal_width\n",
       "count    150.000000   150.000000    150.000000   150.000000\n",
       "mean       5.843333     3.054000      3.758667     1.198667\n",
       "std        0.828066     0.433594      1.764420     0.763161\n",
       "min        4.300000     2.000000      1.000000     0.100000\n",
       "25%        5.100000     2.800000      1.600000     0.300000\n",
       "50%        5.800000     3.000000      4.350000     1.300000\n",
       "75%        6.400000     3.300000      5.100000     1.800000\n",
       "max        7.900000     4.400000      6.900000     2.500000"
      ]
     },
     "execution_count": 43,
     "metadata": {},
     "output_type": "execute_result"
    }
   ],
   "source": [
    "iris.describe()"
   ]
  },
  {
   "cell_type": "markdown",
   "metadata": {},
   "source": [
    "## Some useful tricks and tips"
   ]
  },
  {
   "cell_type": "markdown",
   "metadata": {},
   "source": [
    "There are a few different ways to get information on functions or modules in Python. For example, you can find additional information on the Python `list` data structure:\n",
    "\n",
    "`help(list)`\n",
    "\n",
    "`list?`"
   ]
  },
  {
   "cell_type": "code",
   "execution_count": 44,
   "metadata": {},
   "outputs": [
    {
     "name": "stdout",
     "output_type": "stream",
     "text": [
      "Help on class list in module builtins:\n",
      "\n",
      "class list(object)\n",
      " |  list(iterable=(), /)\n",
      " |  \n",
      " |  Built-in mutable sequence.\n",
      " |  \n",
      " |  If no argument is given, the constructor creates a new empty list.\n",
      " |  The argument must be an iterable if specified.\n",
      " |  \n",
      " |  Methods defined here:\n",
      " |  \n",
      " |  __add__(self, value, /)\n",
      " |      Return self+value.\n",
      " |  \n",
      " |  __contains__(self, key, /)\n",
      " |      Return key in self.\n",
      " |  \n",
      " |  __delitem__(self, key, /)\n",
      " |      Delete self[key].\n",
      " |  \n",
      " |  __eq__(self, value, /)\n",
      " |      Return self==value.\n",
      " |  \n",
      " |  __ge__(self, value, /)\n",
      " |      Return self>=value.\n",
      " |  \n",
      " |  __getattribute__(self, name, /)\n",
      " |      Return getattr(self, name).\n",
      " |  \n",
      " |  __getitem__(...)\n",
      " |      x.__getitem__(y) <==> x[y]\n",
      " |  \n",
      " |  __gt__(self, value, /)\n",
      " |      Return self>value.\n",
      " |  \n",
      " |  __iadd__(self, value, /)\n",
      " |      Implement self+=value.\n",
      " |  \n",
      " |  __imul__(self, value, /)\n",
      " |      Implement self*=value.\n",
      " |  \n",
      " |  __init__(self, /, *args, **kwargs)\n",
      " |      Initialize self.  See help(type(self)) for accurate signature.\n",
      " |  \n",
      " |  __iter__(self, /)\n",
      " |      Implement iter(self).\n",
      " |  \n",
      " |  __le__(self, value, /)\n",
      " |      Return self<=value.\n",
      " |  \n",
      " |  __len__(self, /)\n",
      " |      Return len(self).\n",
      " |  \n",
      " |  __lt__(self, value, /)\n",
      " |      Return self<value.\n",
      " |  \n",
      " |  __mul__(self, value, /)\n",
      " |      Return self*value.\n",
      " |  \n",
      " |  __ne__(self, value, /)\n",
      " |      Return self!=value.\n",
      " |  \n",
      " |  __repr__(self, /)\n",
      " |      Return repr(self).\n",
      " |  \n",
      " |  __reversed__(self, /)\n",
      " |      Return a reverse iterator over the list.\n",
      " |  \n",
      " |  __rmul__(self, value, /)\n",
      " |      Return value*self.\n",
      " |  \n",
      " |  __setitem__(self, key, value, /)\n",
      " |      Set self[key] to value.\n",
      " |  \n",
      " |  __sizeof__(self, /)\n",
      " |      Return the size of the list in memory, in bytes.\n",
      " |  \n",
      " |  append(self, object, /)\n",
      " |      Append object to the end of the list.\n",
      " |  \n",
      " |  clear(self, /)\n",
      " |      Remove all items from list.\n",
      " |  \n",
      " |  copy(self, /)\n",
      " |      Return a shallow copy of the list.\n",
      " |  \n",
      " |  count(self, value, /)\n",
      " |      Return number of occurrences of value.\n",
      " |  \n",
      " |  extend(self, iterable, /)\n",
      " |      Extend list by appending elements from the iterable.\n",
      " |  \n",
      " |  index(self, value, start=0, stop=9223372036854775807, /)\n",
      " |      Return first index of value.\n",
      " |      \n",
      " |      Raises ValueError if the value is not present.\n",
      " |  \n",
      " |  insert(self, index, object, /)\n",
      " |      Insert object before index.\n",
      " |  \n",
      " |  pop(self, index=-1, /)\n",
      " |      Remove and return item at index (default last).\n",
      " |      \n",
      " |      Raises IndexError if list is empty or index is out of range.\n",
      " |  \n",
      " |  remove(self, value, /)\n",
      " |      Remove first occurrence of value.\n",
      " |      \n",
      " |      Raises ValueError if the value is not present.\n",
      " |  \n",
      " |  reverse(self, /)\n",
      " |      Reverse *IN PLACE*.\n",
      " |  \n",
      " |  sort(self, /, *, key=None, reverse=False)\n",
      " |      Sort the list in ascending order and return None.\n",
      " |      \n",
      " |      The sort is in-place (i.e. the list itself is modified) and stable (i.e. the\n",
      " |      order of two equal elements is maintained).\n",
      " |      \n",
      " |      If a key function is given, apply it once to each list item and sort them,\n",
      " |      ascending or descending, according to their function values.\n",
      " |      \n",
      " |      The reverse flag can be set to sort in descending order.\n",
      " |  \n",
      " |  ----------------------------------------------------------------------\n",
      " |  Static methods defined here:\n",
      " |  \n",
      " |  __new__(*args, **kwargs) from builtins.type\n",
      " |      Create and return a new object.  See help(type) for accurate signature.\n",
      " |  \n",
      " |  ----------------------------------------------------------------------\n",
      " |  Data and other attributes defined here:\n",
      " |  \n",
      " |  __hash__ = None\n",
      "\n"
     ]
    }
   ],
   "source": [
    "help(list)"
   ]
  },
  {
   "cell_type": "markdown",
   "metadata": {},
   "source": [
    "Source code of the object or function that you are interested in can be accessed using `??`. In some cases, not much information is displayed because the object or function is not written in Python. Therefore, this shortcut is often most useful with user defined functions. "
   ]
  },
  {
   "cell_type": "code",
   "execution_count": null,
   "metadata": {},
   "outputs": [],
   "source": [
    "list??"
   ]
  },
  {
   "cell_type": "markdown",
   "metadata": {},
   "source": [
    "You can use the TAB key for autocompletion and exploration of the contents of objects or modules. Try typing `np.` followed by the TAB key in a code cell. "
   ]
  },
  {
   "cell_type": "code",
   "execution_count": null,
   "metadata": {},
   "outputs": [],
   "source": [
    "np."
   ]
  },
  {
   "cell_type": "markdown",
   "metadata": {},
   "source": [
    "Wildcard matching is useful to search for every object in the name space that contains a particular string. For example, this code returns all objects which have *Warning* in the name:"
   ]
  },
  {
   "cell_type": "code",
   "execution_count": null,
   "metadata": {},
   "outputs": [],
   "source": [
    "*Warning*?"
   ]
  },
  {
   "cell_type": "markdown",
   "metadata": {},
   "source": [
    "## Further References"
   ]
  },
  {
   "cell_type": "markdown",
   "metadata": {},
   "source": [
    "Documentation on matplotlib: https://matplotlib.org\n",
    "\n",
    "Documentation on pandas: https://pandas.pydata.org\n",
    "\n",
    "*Python Data Science Handbook* by Jake VanderPlas"
   ]
  }
 ],
 "metadata": {
  "kernelspec": {
   "display_name": "Python 3",
   "language": "python",
   "name": "python3"
  },
  "language_info": {
   "codemirror_mode": {
    "name": "ipython",
    "version": 3
   },
   "file_extension": ".py",
   "mimetype": "text/x-python",
   "name": "python",
   "nbconvert_exporter": "python",
   "pygments_lexer": "ipython3",
   "version": "3.8.5"
  },
  "latex_envs": {
   "LaTeX_envs_menu_present": true,
   "autoclose": false,
   "autocomplete": true,
   "bibliofile": "biblio.bib",
   "cite_by": "apalike",
   "current_citInitial": 1,
   "eqLabelWithNumbers": true,
   "eqNumInitial": 1,
   "hotkeys": {
    "equation": "Ctrl-E",
    "itemize": "Ctrl-I"
   },
   "labels_anchors": false,
   "latex_user_defs": false,
   "report_style_numbering": false,
   "user_envs_cfg": false
  }
 },
 "nbformat": 4,
 "nbformat_minor": 2
}
